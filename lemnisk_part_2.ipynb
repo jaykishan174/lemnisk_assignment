{
 "cells": [
  {
   "cell_type": "code",
   "execution_count": 212,
   "metadata": {},
   "outputs": [],
   "source": [
    "# Importing Libraries and Packages\n",
    "from imblearn.pipeline import make_pipeline as make_pipeline_imb # To do our transformation in a unique time\n",
    "from imblearn.over_sampling import SMOTE\n",
    "from sklearn.pipeline import make_pipeline\n",
    "from imblearn.metrics import classification_report_imbalanced\n",
    "from sklearn.model_selection import train_test_split\n",
    "from collections import Counter\n",
    "import matplotlib.pyplot as plt\n",
    "from sklearn.linear_model import LogisticRegression\n",
    "from sklearn.ensemble import RandomForestClassifier\n",
    "from sklearn.preprocessing import MinMaxScaler\n",
    "from sklearn.model_selection import GridSearchCV\n",
    "from sklearn.metrics import precision_score, recall_score, fbeta_score, confusion_matrix, precision_recall_curve,roc_curve,roc_auc_score, accuracy_score\n",
    "%matplotlib inline\n",
    "import pandas as pd\n",
    "import random\n",
    "from xgboost import XGBClassifier\n",
    "from sklearn.model_selection import StratifiedKFold\n",
    "import numpy as np\n",
    "import seaborn as sns\n",
    "import sklearn\n",
    "from sklearn.metrics import classification_report"
   ]
  },
  {
   "cell_type": "markdown",
   "metadata": {},
   "source": [
    "## Input\n",
    " \n",
    "We are taking input from the data that we preprocessed in last step"
   ]
  },
  {
   "cell_type": "code",
   "execution_count": 2,
   "metadata": {},
   "outputs": [],
   "source": [
    "data= pd.read_csv(\"C:/Users/j.wadhwani/Desktop/data_preprocessed.csv.gz\")"
   ]
  },
  {
   "cell_type": "code",
   "execution_count": 3,
   "metadata": {},
   "outputs": [
    {
     "data": {
      "text/plain": [
       "(500000, 45)"
      ]
     },
     "execution_count": 3,
     "metadata": {},
     "output_type": "execute_result"
    }
   ],
   "source": [
    "data.shape"
   ]
  },
  {
   "cell_type": "code",
   "execution_count": 4,
   "metadata": {},
   "outputs": [
    {
     "data": {
      "text/html": [
       "<div>\n",
       "<style scoped>\n",
       "    .dataframe tbody tr th:only-of-type {\n",
       "        vertical-align: middle;\n",
       "    }\n",
       "\n",
       "    .dataframe tbody tr th {\n",
       "        vertical-align: top;\n",
       "    }\n",
       "\n",
       "    .dataframe thead th {\n",
       "        text-align: right;\n",
       "    }\n",
       "</style>\n",
       "<table border=\"1\" class=\"dataframe\">\n",
       "  <thead>\n",
       "    <tr style=\"text-align: right;\">\n",
       "      <th></th>\n",
       "      <th>0</th>\n",
       "      <th>9</th>\n",
       "      <th>10</th>\n",
       "      <th>11</th>\n",
       "      <th>13</th>\n",
       "      <th>17</th>\n",
       "      <th>21</th>\n",
       "      <th>26</th>\n",
       "      <th>29</th>\n",
       "      <th>30</th>\n",
       "      <th>...</th>\n",
       "      <th>var4_c4ca4238a0</th>\n",
       "      <th>var4_a87ff679a2</th>\n",
       "      <th>var4_8f14e45fce</th>\n",
       "      <th>var4_e4da3b7fbb</th>\n",
       "      <th>var4_c81e728d9d</th>\n",
       "      <th>var4_eccbc87e4b</th>\n",
       "      <th>var6_6c096eda6c</th>\n",
       "      <th>var6_8a2c47a07d</th>\n",
       "      <th>var6_d581f01004</th>\n",
       "      <th>var6_e939124300</th>\n",
       "    </tr>\n",
       "  </thead>\n",
       "  <tbody>\n",
       "    <tr>\n",
       "      <th>0</th>\n",
       "      <td>dc1973b893addba1b456cc83e35848c5</td>\n",
       "      <td>4.794307</td>\n",
       "      <td>1.0</td>\n",
       "      <td>4.794307</td>\n",
       "      <td>0.0</td>\n",
       "      <td>0.0</td>\n",
       "      <td>0.0</td>\n",
       "      <td>0.0</td>\n",
       "      <td>0.0</td>\n",
       "      <td>0.0</td>\n",
       "      <td>...</td>\n",
       "      <td>0</td>\n",
       "      <td>1</td>\n",
       "      <td>0</td>\n",
       "      <td>0</td>\n",
       "      <td>0</td>\n",
       "      <td>0</td>\n",
       "      <td>0</td>\n",
       "      <td>1</td>\n",
       "      <td>0</td>\n",
       "      <td>0</td>\n",
       "    </tr>\n",
       "    <tr>\n",
       "      <th>1</th>\n",
       "      <td>247863d514c9b015984d4aed7d3cde82</td>\n",
       "      <td>6.583470</td>\n",
       "      <td>7.0</td>\n",
       "      <td>7.630225</td>\n",
       "      <td>1.0</td>\n",
       "      <td>0.0</td>\n",
       "      <td>0.0</td>\n",
       "      <td>0.0</td>\n",
       "      <td>0.0</td>\n",
       "      <td>0.0</td>\n",
       "      <td>...</td>\n",
       "      <td>0</td>\n",
       "      <td>1</td>\n",
       "      <td>0</td>\n",
       "      <td>0</td>\n",
       "      <td>0</td>\n",
       "      <td>0</td>\n",
       "      <td>0</td>\n",
       "      <td>1</td>\n",
       "      <td>0</td>\n",
       "      <td>0</td>\n",
       "    </tr>\n",
       "    <tr>\n",
       "      <th>2</th>\n",
       "      <td>b8aa642b90e96b89f470ceab63cf8d94</td>\n",
       "      <td>4.314837</td>\n",
       "      <td>11.0</td>\n",
       "      <td>8.326158</td>\n",
       "      <td>0.0</td>\n",
       "      <td>0.0</td>\n",
       "      <td>0.0</td>\n",
       "      <td>0.0</td>\n",
       "      <td>0.0</td>\n",
       "      <td>0.0</td>\n",
       "      <td>...</td>\n",
       "      <td>0</td>\n",
       "      <td>1</td>\n",
       "      <td>0</td>\n",
       "      <td>0</td>\n",
       "      <td>0</td>\n",
       "      <td>0</td>\n",
       "      <td>0</td>\n",
       "      <td>1</td>\n",
       "      <td>0</td>\n",
       "      <td>0</td>\n",
       "    </tr>\n",
       "    <tr>\n",
       "      <th>3</th>\n",
       "      <td>efdbbb631cfa47b57323165061d1fc4c</td>\n",
       "      <td>5.661163</td>\n",
       "      <td>13.0</td>\n",
       "      <td>8.548798</td>\n",
       "      <td>0.0</td>\n",
       "      <td>0.0</td>\n",
       "      <td>0.0</td>\n",
       "      <td>0.0</td>\n",
       "      <td>0.0</td>\n",
       "      <td>0.0</td>\n",
       "      <td>...</td>\n",
       "      <td>0</td>\n",
       "      <td>1</td>\n",
       "      <td>0</td>\n",
       "      <td>0</td>\n",
       "      <td>0</td>\n",
       "      <td>0</td>\n",
       "      <td>0</td>\n",
       "      <td>1</td>\n",
       "      <td>0</td>\n",
       "      <td>0</td>\n",
       "    </tr>\n",
       "    <tr>\n",
       "      <th>4</th>\n",
       "      <td>6d559c9c46bcdf62ab342e913bc1315d</td>\n",
       "      <td>6.541676</td>\n",
       "      <td>3.0</td>\n",
       "      <td>6.542167</td>\n",
       "      <td>0.0</td>\n",
       "      <td>0.0</td>\n",
       "      <td>0.0</td>\n",
       "      <td>0.0</td>\n",
       "      <td>0.0</td>\n",
       "      <td>0.0</td>\n",
       "      <td>...</td>\n",
       "      <td>0</td>\n",
       "      <td>1</td>\n",
       "      <td>0</td>\n",
       "      <td>0</td>\n",
       "      <td>0</td>\n",
       "      <td>0</td>\n",
       "      <td>0</td>\n",
       "      <td>1</td>\n",
       "      <td>0</td>\n",
       "      <td>0</td>\n",
       "    </tr>\n",
       "  </tbody>\n",
       "</table>\n",
       "<p>5 rows × 45 columns</p>\n",
       "</div>"
      ],
      "text/plain": [
       "                                  0         9    10        11   13   17   21  \\\n",
       "0  dc1973b893addba1b456cc83e35848c5  4.794307   1.0  4.794307  0.0  0.0  0.0   \n",
       "1  247863d514c9b015984d4aed7d3cde82  6.583470   7.0  7.630225  1.0  0.0  0.0   \n",
       "2  b8aa642b90e96b89f470ceab63cf8d94  4.314837  11.0  8.326158  0.0  0.0  0.0   \n",
       "3  efdbbb631cfa47b57323165061d1fc4c  5.661163  13.0  8.548798  0.0  0.0  0.0   \n",
       "4  6d559c9c46bcdf62ab342e913bc1315d  6.541676   3.0  6.542167  0.0  0.0  0.0   \n",
       "\n",
       "    26   29   30  ...  var4_c4ca4238a0  var4_a87ff679a2  var4_8f14e45fce  \\\n",
       "0  0.0  0.0  0.0  ...                0                1                0   \n",
       "1  0.0  0.0  0.0  ...                0                1                0   \n",
       "2  0.0  0.0  0.0  ...                0                1                0   \n",
       "3  0.0  0.0  0.0  ...                0                1                0   \n",
       "4  0.0  0.0  0.0  ...                0                1                0   \n",
       "\n",
       "   var4_e4da3b7fbb  var4_c81e728d9d  var4_eccbc87e4b  var6_6c096eda6c  \\\n",
       "0                0                0                0                0   \n",
       "1                0                0                0                0   \n",
       "2                0                0                0                0   \n",
       "3                0                0                0                0   \n",
       "4                0                0                0                0   \n",
       "\n",
       "   var6_8a2c47a07d  var6_d581f01004  var6_e939124300  \n",
       "0                1                0                0  \n",
       "1                1                0                0  \n",
       "2                1                0                0  \n",
       "3                1                0                0  \n",
       "4                1                0                0  \n",
       "\n",
       "[5 rows x 45 columns]"
      ]
     },
     "execution_count": 4,
     "metadata": {},
     "output_type": "execute_result"
    }
   ],
   "source": [
    "data.head()"
   ]
  },
  {
   "cell_type": "markdown",
   "metadata": {},
   "source": [
    "## Data Normalization\n",
    "\n",
    "There are four continuous numerical features [9,10,51,54]. We will scale them between -1 and 1"
   ]
  },
  {
   "cell_type": "code",
   "execution_count": 5,
   "metadata": {},
   "outputs": [],
   "source": [
    "scaler_9 = MinMaxScaler(feature_range=(-1, 1))\n",
    "scaler_10 = MinMaxScaler(feature_range=(-1, 1))\n",
    "scaler_51= MinMaxScaler(feature_range=(-1, 1))\n",
    "scaler_54 = MinMaxScaler(feature_range=(-1, 1))"
   ]
  },
  {
   "cell_type": "code",
   "execution_count": 6,
   "metadata": {},
   "outputs": [],
   "source": [
    "data['9'] = scaler_9.fit_transform(data['9'].values.reshape(-1,1))\n",
    "data['11'] = scaler_9.fit_transform(data['11'].values.reshape(-1,1))\n",
    "data['51'] = scaler_9.fit_transform(data['51'].values.reshape(-1,1))\n",
    "data['54'] = scaler_9.fit_transform(data['54'].values.reshape(-1,1))"
   ]
  },
  {
   "cell_type": "code",
   "execution_count": 7,
   "metadata": {},
   "outputs": [
    {
     "data": {
      "text/html": [
       "<div>\n",
       "<style scoped>\n",
       "    .dataframe tbody tr th:only-of-type {\n",
       "        vertical-align: middle;\n",
       "    }\n",
       "\n",
       "    .dataframe tbody tr th {\n",
       "        vertical-align: top;\n",
       "    }\n",
       "\n",
       "    .dataframe thead th {\n",
       "        text-align: right;\n",
       "    }\n",
       "</style>\n",
       "<table border=\"1\" class=\"dataframe\">\n",
       "  <thead>\n",
       "    <tr style=\"text-align: right;\">\n",
       "      <th></th>\n",
       "      <th>0</th>\n",
       "      <th>9</th>\n",
       "      <th>10</th>\n",
       "      <th>11</th>\n",
       "      <th>13</th>\n",
       "      <th>17</th>\n",
       "      <th>21</th>\n",
       "      <th>26</th>\n",
       "      <th>29</th>\n",
       "      <th>30</th>\n",
       "      <th>...</th>\n",
       "      <th>var4_c4ca4238a0</th>\n",
       "      <th>var4_a87ff679a2</th>\n",
       "      <th>var4_8f14e45fce</th>\n",
       "      <th>var4_e4da3b7fbb</th>\n",
       "      <th>var4_c81e728d9d</th>\n",
       "      <th>var4_eccbc87e4b</th>\n",
       "      <th>var6_6c096eda6c</th>\n",
       "      <th>var6_8a2c47a07d</th>\n",
       "      <th>var6_d581f01004</th>\n",
       "      <th>var6_e939124300</th>\n",
       "    </tr>\n",
       "  </thead>\n",
       "  <tbody>\n",
       "    <tr>\n",
       "      <th>0</th>\n",
       "      <td>dc1973b893addba1b456cc83e35848c5</td>\n",
       "      <td>0.345568</td>\n",
       "      <td>1.0</td>\n",
       "      <td>0.248827</td>\n",
       "      <td>0.0</td>\n",
       "      <td>0.0</td>\n",
       "      <td>0.0</td>\n",
       "      <td>0.0</td>\n",
       "      <td>0.0</td>\n",
       "      <td>0.0</td>\n",
       "      <td>...</td>\n",
       "      <td>0</td>\n",
       "      <td>1</td>\n",
       "      <td>0</td>\n",
       "      <td>0</td>\n",
       "      <td>0</td>\n",
       "      <td>0</td>\n",
       "      <td>0</td>\n",
       "      <td>1</td>\n",
       "      <td>0</td>\n",
       "      <td>0</td>\n",
       "    </tr>\n",
       "    <tr>\n",
       "      <th>1</th>\n",
       "      <td>247863d514c9b015984d4aed7d3cde82</td>\n",
       "      <td>0.603705</td>\n",
       "      <td>7.0</td>\n",
       "      <td>0.641714</td>\n",
       "      <td>1.0</td>\n",
       "      <td>0.0</td>\n",
       "      <td>0.0</td>\n",
       "      <td>0.0</td>\n",
       "      <td>0.0</td>\n",
       "      <td>0.0</td>\n",
       "      <td>...</td>\n",
       "      <td>0</td>\n",
       "      <td>1</td>\n",
       "      <td>0</td>\n",
       "      <td>0</td>\n",
       "      <td>0</td>\n",
       "      <td>0</td>\n",
       "      <td>0</td>\n",
       "      <td>1</td>\n",
       "      <td>0</td>\n",
       "      <td>0</td>\n",
       "    </tr>\n",
       "    <tr>\n",
       "      <th>2</th>\n",
       "      <td>b8aa642b90e96b89f470ceab63cf8d94</td>\n",
       "      <td>0.276391</td>\n",
       "      <td>11.0</td>\n",
       "      <td>0.738129</td>\n",
       "      <td>0.0</td>\n",
       "      <td>0.0</td>\n",
       "      <td>0.0</td>\n",
       "      <td>0.0</td>\n",
       "      <td>0.0</td>\n",
       "      <td>0.0</td>\n",
       "      <td>...</td>\n",
       "      <td>0</td>\n",
       "      <td>1</td>\n",
       "      <td>0</td>\n",
       "      <td>0</td>\n",
       "      <td>0</td>\n",
       "      <td>0</td>\n",
       "      <td>0</td>\n",
       "      <td>1</td>\n",
       "      <td>0</td>\n",
       "      <td>0</td>\n",
       "    </tr>\n",
       "    <tr>\n",
       "      <th>3</th>\n",
       "      <td>efdbbb631cfa47b57323165061d1fc4c</td>\n",
       "      <td>0.470637</td>\n",
       "      <td>13.0</td>\n",
       "      <td>0.768973</td>\n",
       "      <td>0.0</td>\n",
       "      <td>0.0</td>\n",
       "      <td>0.0</td>\n",
       "      <td>0.0</td>\n",
       "      <td>0.0</td>\n",
       "      <td>0.0</td>\n",
       "      <td>...</td>\n",
       "      <td>0</td>\n",
       "      <td>1</td>\n",
       "      <td>0</td>\n",
       "      <td>0</td>\n",
       "      <td>0</td>\n",
       "      <td>0</td>\n",
       "      <td>0</td>\n",
       "      <td>1</td>\n",
       "      <td>0</td>\n",
       "      <td>0</td>\n",
       "    </tr>\n",
       "    <tr>\n",
       "      <th>4</th>\n",
       "      <td>6d559c9c46bcdf62ab342e913bc1315d</td>\n",
       "      <td>0.597675</td>\n",
       "      <td>3.0</td>\n",
       "      <td>0.490975</td>\n",
       "      <td>0.0</td>\n",
       "      <td>0.0</td>\n",
       "      <td>0.0</td>\n",
       "      <td>0.0</td>\n",
       "      <td>0.0</td>\n",
       "      <td>0.0</td>\n",
       "      <td>...</td>\n",
       "      <td>0</td>\n",
       "      <td>1</td>\n",
       "      <td>0</td>\n",
       "      <td>0</td>\n",
       "      <td>0</td>\n",
       "      <td>0</td>\n",
       "      <td>0</td>\n",
       "      <td>1</td>\n",
       "      <td>0</td>\n",
       "      <td>0</td>\n",
       "    </tr>\n",
       "  </tbody>\n",
       "</table>\n",
       "<p>5 rows × 45 columns</p>\n",
       "</div>"
      ],
      "text/plain": [
       "                                  0         9    10        11   13   17   21  \\\n",
       "0  dc1973b893addba1b456cc83e35848c5  0.345568   1.0  0.248827  0.0  0.0  0.0   \n",
       "1  247863d514c9b015984d4aed7d3cde82  0.603705   7.0  0.641714  1.0  0.0  0.0   \n",
       "2  b8aa642b90e96b89f470ceab63cf8d94  0.276391  11.0  0.738129  0.0  0.0  0.0   \n",
       "3  efdbbb631cfa47b57323165061d1fc4c  0.470637  13.0  0.768973  0.0  0.0  0.0   \n",
       "4  6d559c9c46bcdf62ab342e913bc1315d  0.597675   3.0  0.490975  0.0  0.0  0.0   \n",
       "\n",
       "    26   29   30  ...  var4_c4ca4238a0  var4_a87ff679a2  var4_8f14e45fce  \\\n",
       "0  0.0  0.0  0.0  ...                0                1                0   \n",
       "1  0.0  0.0  0.0  ...                0                1                0   \n",
       "2  0.0  0.0  0.0  ...                0                1                0   \n",
       "3  0.0  0.0  0.0  ...                0                1                0   \n",
       "4  0.0  0.0  0.0  ...                0                1                0   \n",
       "\n",
       "   var4_e4da3b7fbb  var4_c81e728d9d  var4_eccbc87e4b  var6_6c096eda6c  \\\n",
       "0                0                0                0                0   \n",
       "1                0                0                0                0   \n",
       "2                0                0                0                0   \n",
       "3                0                0                0                0   \n",
       "4                0                0                0                0   \n",
       "\n",
       "   var6_8a2c47a07d  var6_d581f01004  var6_e939124300  \n",
       "0                1                0                0  \n",
       "1                1                0                0  \n",
       "2                1                0                0  \n",
       "3                1                0                0  \n",
       "4                1                0                0  \n",
       "\n",
       "[5 rows x 45 columns]"
      ]
     },
     "execution_count": 7,
     "metadata": {},
     "output_type": "execute_result"
    }
   ],
   "source": [
    "data.head()"
   ]
  },
  {
   "cell_type": "markdown",
   "metadata": {},
   "source": [
    "## Making Custom Fuctions to visualize results\n",
    "\n",
    "Now we are making some custom functions to visualize the model results, and print roc-auc and pr-auc curve"
   ]
  },
  {
   "cell_type": "code",
   "execution_count": 8,
   "metadata": {},
   "outputs": [],
   "source": [
    "def print_results(headline, true_value, pred):\n",
    "    print(headline)\n",
    "    print(\"accuracy: {}\".format(accuracy_score(true_value, pred)))\n",
    "    print(\"precision: {}\".format(precision_score(true_value, pred)))\n",
    "    print(\"recall: {}\".format(recall_score(true_value, pred)))\n",
    "    print(\"f2: {}\".format(fbeta_score(true_value, pred, beta=2)))"
   ]
  },
  {
   "cell_type": "code",
   "execution_count": 9,
   "metadata": {},
   "outputs": [],
   "source": [
    "def plot_roc_curve(model, X_test, y_test):\n",
    "    y_prob= model.predict_proba(X_test)[:,1]\n",
    "    log_fpr, log_tpr, log_thresold = roc_curve(y_test, y_prob)\n",
    "    auc = sklearn.metrics.auc(log_fpr, log_tpr)\n",
    "    plt.figure(figsize=(8,6))\n",
    "    title_1= \"ROC Curve \"+str(round(auc,2))\n",
    "    plt.title(title_1, fontsize=16)\n",
    "    plt.plot(log_fpr, log_tpr, 'b-', linewidth=2, label=\"AUC = %.2f\" % auc)\n",
    "    plt.plot([0, 1], [0, 1], 'r--')\n",
    "    plt.xlabel('False Positive Rate', fontsize=16)\n",
    "    plt.ylabel('True Positive Rate', fontsize=16)\n",
    "    plt.axis([-0.01,1,0,1])\n",
    "    "
   ]
  },
  {
   "cell_type": "code",
   "execution_count": 10,
   "metadata": {},
   "outputs": [],
   "source": [
    "def plot_pr_curve(model, X_test, y_test):\n",
    "    y_prob= model.predict_proba(X_test)[:,1]             \n",
    "    log_fpr, log_tpr, log_thresold = precision_recall_curve(y_test, y_prob)\n",
    "    plt.figure(figsize=(8,6))\n",
    "    #auc = sklearn.metrics.(log_fpr, log_tpr)\n",
    "    #title_1= \"PR Curve \"+str(round(auc,2))\n",
    "    plt.title('PR Curve', fontsize=16)\n",
    "    plt.plot(log_fpr, log_tpr, 'b-', linewidth=2)\n",
    "    plt.plot([0, 1], [0, 1], 'r--')\n",
    "    plt.xlabel('Recall Rate', fontsize=16)\n",
    "    plt.ylabel('Precision Rate', fontsize=16)\n",
    "    plt.axis([-0.01,1,0,1])\n",
    "  "
   ]
  },
  {
   "cell_type": "markdown",
   "metadata": {},
   "source": [
    "Seperating Target and Test Variable"
   ]
  },
  {
   "cell_type": "code",
   "execution_count": 11,
   "metadata": {},
   "outputs": [],
   "source": [
    "X= data.drop(['0','55'], axis=1)\n",
    "Y= data['55'].values"
   ]
  },
  {
   "cell_type": "markdown",
   "metadata": {},
   "source": [
    "Splitting Train and Test variable"
   ]
  },
  {
   "cell_type": "code",
   "execution_count": 13,
   "metadata": {},
   "outputs": [],
   "source": [
    "X_train, X_test, y_train, y_test = train_test_split(X, Y, random_state=2, test_size=0.20)"
   ]
  },
  {
   "cell_type": "code",
   "execution_count": 213,
   "metadata": {},
   "outputs": [
    {
     "name": "stdout",
     "output_type": "stream",
     "text": [
      "1 values is 1.95% of the training set.\n",
      "1 values is 1.97% of the test set.\n"
     ]
    }
   ],
   "source": [
    "print(\"1 values is %.2f%% of the training set.\" % (y_train.sum()*100/len(y_train)))\n",
    "print(\"1 values is %.2f%% of the test set.\" % (y_test.sum()*100/len(y_test)))"
   ]
  },
  {
   "cell_type": "markdown",
   "metadata": {},
   "source": [
    "## SMOTE\n",
    "\n",
    "SMOTE stands for synthetic minority oversamping technique. Since the target class is highly imbalanced, we will use SMOTE to oversample the minority class, so that our model is not biased"
   ]
  },
  {
   "cell_type": "code",
   "execution_count": 15,
   "metadata": {},
   "outputs": [],
   "source": [
    "X_train_smote, y_train_smote = SMOTE(random_state=1234).fit_resample(X_train, y_train)\n"
   ]
  },
  {
   "cell_type": "code",
   "execution_count": 16,
   "metadata": {},
   "outputs": [
    {
     "name": "stdout",
     "output_type": "stream",
     "text": [
      "normal data distribution: Counter({0: 392205, 1: 7795})\n",
      "SMOTE data distribution: Counter({0: 392205, 1: 392205})\n"
     ]
    }
   ],
   "source": [
    "print(\"normal data distribution: {}\".format(Counter(y_train)))\n",
    "print(\"SMOTE data distribution: {}\".format(Counter(y_train_smote)))"
   ]
  },
  {
   "cell_type": "markdown",
   "metadata": {},
   "source": [
    "## Splitting into Train and validation set\n",
    "\n",
    "We are splitting the smote data further for validation data"
   ]
  },
  {
   "cell_type": "code",
   "execution_count": 17,
   "metadata": {},
   "outputs": [],
   "source": [
    "X_train_smote_1, X_val_smote, y_train_smote_1, y_val_smote = train_test_split(X_train_smote, y_train_smote, random_state=2, test_size=0.20)"
   ]
  },
  {
   "cell_type": "markdown",
   "metadata": {},
   "source": [
    "## Testing Models\n",
    "\n",
    "Now its time to test our models. Befor that we will perform feature selection using Random Forest, then we will be trying out the following models\n",
    "\n",
    "1. Logistic Regression\n",
    "2. Random Forest\n",
    "3. XGBoost\n",
    "4. Catboost\n",
    "5. Light GBM\n",
    "6. Neural Network\n",
    "\n",
    "\n",
    "We wont be trying SVM and KNN since they are very slow for this huge dataset"
   ]
  },
  {
   "cell_type": "markdown",
   "metadata": {},
   "source": [
    "#### Testing a base model with smote data\n",
    "\n",
    "We are firslty testing a base model without any tuning and compare the result with other algorithms\n"
   ]
  },
  {
   "cell_type": "code",
   "execution_count": 18,
   "metadata": {},
   "outputs": [],
   "source": [
    "base_model= LogisticRegression()"
   ]
  },
  {
   "cell_type": "code",
   "execution_count": 19,
   "metadata": {},
   "outputs": [
    {
     "name": "stderr",
     "output_type": "stream",
     "text": [
      "C:\\ProgramData\\Anaconda3\\lib\\site-packages\\sklearn\\linear_model\\_logistic.py:814: ConvergenceWarning: lbfgs failed to converge (status=1):\n",
      "STOP: TOTAL NO. of ITERATIONS REACHED LIMIT.\n",
      "\n",
      "Increase the number of iterations (max_iter) or scale the data as shown in:\n",
      "    https://scikit-learn.org/stable/modules/preprocessing.html\n",
      "Please also refer to the documentation for alternative solver options:\n",
      "    https://scikit-learn.org/stable/modules/linear_model.html#logistic-regression\n",
      "  n_iter_i = _check_optimize_result(\n"
     ]
    },
    {
     "data": {
      "text/plain": [
       "LogisticRegression()"
      ]
     },
     "execution_count": 19,
     "metadata": {},
     "output_type": "execute_result"
    }
   ],
   "source": [
    "base_model.fit(X_train_smote_1, y_train_smote_1)"
   ]
  },
  {
   "cell_type": "code",
   "execution_count": 20,
   "metadata": {},
   "outputs": [
    {
     "name": "stdout",
     "output_type": "stream",
     "text": [
      "Base Model Result(Logistic Regression)\n",
      "accuracy: 0.87507\n",
      "precision: 0.05253761795460342\n",
      "recall: 0.3143438453713123\n",
      "f2: 0.15743618484740407\n"
     ]
    }
   ],
   "source": [
    "print_results(\"Base Model Result(Logistic Regression)\", y_test, base_model.predict(X_test))"
   ]
  },
  {
   "cell_type": "code",
   "execution_count": 21,
   "metadata": {},
   "outputs": [
    {
     "data": {
      "text/plain": [
       "<matplotlib.axes._subplots.AxesSubplot at 0x196ff9e06a0>"
      ]
     },
     "execution_count": 21,
     "metadata": {},
     "output_type": "execute_result"
    },
    {
     "data": {
      "image/png": "[encoded data removed]",
      "text/plain": [
       "<Figure size 432x288 with 2 Axes>"
      ]
     },
     "metadata": {
      "needs_background": "light"
     },
     "output_type": "display_data"
    }
   ],
   "source": [
    "sns.heatmap(confusion_matrix(y_test, base_model.predict(X_test)), annot=True, fmt='g')"
   ]
  },
  {
   "cell_type": "code",
   "execution_count": 22,
   "metadata": {},
   "outputs": [
    {
     "data": {
      "image/png": "[encoded data removed]",
      "text/plain": [
       "<Figure size 576x432 with 1 Axes>"
      ]
     },
     "metadata": {
      "needs_background": "light"
     },
     "output_type": "display_data"
    }
   ],
   "source": [
    "plot_roc_curve(base_model, X_test, y_test)"
   ]
  },
  {
   "cell_type": "code",
   "execution_count": 23,
   "metadata": {},
   "outputs": [
    {
     "data": {
      "image/png": "[encoded data removed]",
      "text/plain": [
       "<Figure size 576x432 with 1 Axes>"
      ]
     },
     "metadata": {
      "needs_background": "light"
     },
     "output_type": "display_data"
    }
   ],
   "source": [
    "plot_pr_curve(base_model, X_test, y_test)"
   ]
  },
  {
   "cell_type": "markdown",
   "metadata": {},
   "source": [
    "Now we have the base model result, we will move towards feature selection"
   ]
  },
  {
   "cell_type": "markdown",
   "metadata": {},
   "source": [
    "#### Feature selection"
   ]
  },
  {
   "cell_type": "code",
   "execution_count": 18,
   "metadata": {},
   "outputs": [],
   "source": [
    "#params of the model\n",
    "param_grid = {\n",
    " 'max_depth': [2,4,6],\n",
    " 'max_features': ['sqrt'],\n",
    " 'min_samples_leaf': [1, 2],\n",
    " 'min_samples_split': [2, 5, 10]}\n",
    "\n",
    "# Creating the classifier\n",
    "model = RandomForestClassifier()"
   ]
  },
  {
   "cell_type": "code",
   "execution_count": 19,
   "metadata": {},
   "outputs": [
    {
     "name": "stdout",
     "output_type": "stream",
     "text": [
      "Fitting 3 folds for each of 18 candidates, totalling 54 fits\n"
     ]
    },
    {
     "data": {
      "text/plain": [
       "GridSearchCV(cv=3, estimator=RandomForestClassifier(), n_jobs=-1,\n",
       "             param_grid={'max_depth': [2, 4, 6], 'max_features': ['sqrt'],\n",
       "                         'min_samples_leaf': [1, 2],\n",
       "                         'min_samples_split': [2, 5, 10]},\n",
       "             scoring='roc_auc', verbose=1000)"
      ]
     },
     "execution_count": 19,
     "metadata": {},
     "output_type": "execute_result"
    }
   ],
   "source": [
    "rows = random.sample(np.arange(0,len(X_train_smote_1.index)).tolist(), 50000)\n",
    "\n",
    "grid_search = GridSearchCV(model, param_grid=param_grid, cv=3, scoring=\"roc_auc\",  n_jobs=-1, verbose=1000)\n",
    "grid_search.fit(X_train_smote_1.iloc[rows,], y_train_smote_1[rows,])"
   ]
  },
  {
   "cell_type": "code",
   "execution_count": 20,
   "metadata": {},
   "outputs": [
    {
     "data": {
      "text/plain": [
       "{'max_depth': 6,\n",
       " 'max_features': 'sqrt',\n",
       " 'min_samples_leaf': 2,\n",
       " 'min_samples_split': 2}"
      ]
     },
     "execution_count": 20,
     "metadata": {},
     "output_type": "execute_result"
    }
   ],
   "source": [
    "grid_search.best_params_"
   ]
  },
  {
   "cell_type": "code",
   "execution_count": 21,
   "metadata": {},
   "outputs": [],
   "source": [
    "model = RandomForestClassifier(max_depth=6, n_estimators=100, min_samples_leaf=1, max_features='sqrt', min_samples_split=5)"
   ]
  },
  {
   "cell_type": "code",
   "execution_count": 22,
   "metadata": {},
   "outputs": [
    {
     "data": {
      "text/plain": [
       "RandomForestClassifier(max_depth=6, max_features='sqrt', min_samples_split=5)"
      ]
     },
     "execution_count": 22,
     "metadata": {},
     "output_type": "execute_result"
    }
   ],
   "source": [
    "model.fit(X_train_smote_1, y_train_smote_1)"
   ]
  },
  {
   "cell_type": "code",
   "execution_count": 24,
   "metadata": {},
   "outputs": [
    {
     "data": {
      "image/png": "[encoded data removed]",
      "text/plain": [
       "<Figure size 576x432 with 1 Axes>"
      ]
     },
     "metadata": {
      "needs_background": "light"
     },
     "output_type": "display_data"
    }
   ],
   "source": [
    "plot_roc_curve(model, X_test, y_test)"
   ]
  },
  {
   "cell_type": "code",
   "execution_count": 25,
   "metadata": {},
   "outputs": [
    {
     "data": {
      "text/plain": [
       "<matplotlib.axes._subplots.AxesSubplot at 0x1d525b65790>"
      ]
     },
     "execution_count": 25,
     "metadata": {},
     "output_type": "execute_result"
    },
    {
     "data": {
      "image/png": "[encoded data removed]",
      "text/plain": [
       "<Figure size 432x288 with 2 Axes>"
      ]
     },
     "metadata": {
      "needs_background": "light"
     },
     "output_type": "display_data"
    }
   ],
   "source": [
    "sns.heatmap(confusion_matrix(y_test, model.predict(X_test)), annot=True, fmt='g')"
   ]
  },
  {
   "cell_type": "code",
   "execution_count": 26,
   "metadata": {},
   "outputs": [
    {
     "name": "stdout",
     "output_type": "stream",
     "text": [
      "Base Model Result(Logistic Regression)\n",
      "accuracy: 0.82457\n",
      "precision: 0.06481533217857742\n",
      "recall: 0.590030518819939\n",
      "f2: 0.22514653934241685\n"
     ]
    }
   ],
   "source": [
    "print_results(\"Base Model Result (Random Forest) Test- dataset\", y_test, model.predict(X_test))"
   ]
  },
  {
   "cell_type": "code",
   "execution_count": 27,
   "metadata": {},
   "outputs": [],
   "source": [
    "feat_import = pd.DataFrame({'Feature': X_train_smote_1.columns, 'Feature importance': model.feature_importances_})\n",
    "feat_import = feat_import.sort_values(by='Feature importance',ascending=False)"
   ]
  },
  {
   "cell_type": "markdown",
   "metadata": {},
   "source": [
    "Printing the Feature Importance"
   ]
  },
  {
   "cell_type": "code",
   "execution_count": 28,
   "metadata": {},
   "outputs": [
    {
     "data": {
      "image/png": "[encoded data removed]",
      "text/plain": [
       "<Figure size 432x288 with 1 Axes>"
      ]
     },
     "metadata": {
      "needs_background": "light"
     },
     "output_type": "display_data"
    }
   ],
   "source": [
    "g = sns.barplot(x='Feature',y='Feature importance',data=feat_import)\n",
    "g.set_xticklabels(g.get_xticklabels(),rotation=90)\n",
    "g.set_title('Features importance - Random Forest',fontsize=20)\n",
    "plt.show()"
   ]
  },
  {
   "cell_type": "code",
   "execution_count": 30,
   "metadata": {},
   "outputs": [
    {
     "data": {
      "text/html": [
       "<div>\n",
       "<style scoped>\n",
       "    .dataframe tbody tr th:only-of-type {\n",
       "        vertical-align: middle;\n",
       "    }\n",
       "\n",
       "    .dataframe tbody tr th {\n",
       "        vertical-align: top;\n",
       "    }\n",
       "\n",
       "    .dataframe thead th {\n",
       "        text-align: right;\n",
       "    }\n",
       "</style>\n",
       "<table border=\"1\" class=\"dataframe\">\n",
       "  <thead>\n",
       "    <tr style=\"text-align: right;\">\n",
       "      <th></th>\n",
       "      <th>Feature</th>\n",
       "      <th>Feature importance</th>\n",
       "    </tr>\n",
       "  </thead>\n",
       "  <tbody>\n",
       "    <tr>\n",
       "      <th>3</th>\n",
       "      <td>13</td>\n",
       "      <td>0.199234</td>\n",
       "    </tr>\n",
       "    <tr>\n",
       "      <th>6</th>\n",
       "      <td>26</td>\n",
       "      <td>0.197850</td>\n",
       "    </tr>\n",
       "    <tr>\n",
       "      <th>0</th>\n",
       "      <td>9</td>\n",
       "      <td>0.114256</td>\n",
       "    </tr>\n",
       "    <tr>\n",
       "      <th>5</th>\n",
       "      <td>21</td>\n",
       "      <td>0.098247</td>\n",
       "    </tr>\n",
       "    <tr>\n",
       "      <th>2</th>\n",
       "      <td>11</td>\n",
       "      <td>0.039401</td>\n",
       "    </tr>\n",
       "    <tr>\n",
       "      <th>8</th>\n",
       "      <td>30</td>\n",
       "      <td>0.038583</td>\n",
       "    </tr>\n",
       "    <tr>\n",
       "      <th>13</th>\n",
       "      <td>43</td>\n",
       "      <td>0.029563</td>\n",
       "    </tr>\n",
       "    <tr>\n",
       "      <th>14</th>\n",
       "      <td>51</td>\n",
       "      <td>0.027222</td>\n",
       "    </tr>\n",
       "    <tr>\n",
       "      <th>15</th>\n",
       "      <td>54</td>\n",
       "      <td>0.025801</td>\n",
       "    </tr>\n",
       "    <tr>\n",
       "      <th>42</th>\n",
       "      <td>var6_e939124300</td>\n",
       "      <td>0.022560</td>\n",
       "    </tr>\n",
       "    <tr>\n",
       "      <th>10</th>\n",
       "      <td>34</td>\n",
       "      <td>0.018783</td>\n",
       "    </tr>\n",
       "    <tr>\n",
       "      <th>17</th>\n",
       "      <td>var1_02ad845d2f</td>\n",
       "      <td>0.018048</td>\n",
       "    </tr>\n",
       "    <tr>\n",
       "      <th>16</th>\n",
       "      <td>var1_30565a8911</td>\n",
       "      <td>0.017885</td>\n",
       "    </tr>\n",
       "    <tr>\n",
       "      <th>33</th>\n",
       "      <td>var4_c4ca4238a0</td>\n",
       "      <td>0.017411</td>\n",
       "    </tr>\n",
       "    <tr>\n",
       "      <th>39</th>\n",
       "      <td>var6_6c096eda6c</td>\n",
       "      <td>0.014412</td>\n",
       "    </tr>\n",
       "    <tr>\n",
       "      <th>35</th>\n",
       "      <td>var4_8f14e45fce</td>\n",
       "      <td>0.014014</td>\n",
       "    </tr>\n",
       "    <tr>\n",
       "      <th>28</th>\n",
       "      <td>var3_ec181e8598</td>\n",
       "      <td>0.013960</td>\n",
       "    </tr>\n",
       "    <tr>\n",
       "      <th>18</th>\n",
       "      <td>var1_e4c2e8edac</td>\n",
       "      <td>0.011066</td>\n",
       "    </tr>\n",
       "    <tr>\n",
       "      <th>12</th>\n",
       "      <td>39</td>\n",
       "      <td>0.010784</td>\n",
       "    </tr>\n",
       "    <tr>\n",
       "      <th>4</th>\n",
       "      <td>17</td>\n",
       "      <td>0.009332</td>\n",
       "    </tr>\n",
       "    <tr>\n",
       "      <th>1</th>\n",
       "      <td>10</td>\n",
       "      <td>0.008890</td>\n",
       "    </tr>\n",
       "    <tr>\n",
       "      <th>41</th>\n",
       "      <td>var6_d581f01004</td>\n",
       "      <td>0.008702</td>\n",
       "    </tr>\n",
       "    <tr>\n",
       "      <th>29</th>\n",
       "      <td>var3_3462790de9</td>\n",
       "      <td>0.008301</td>\n",
       "    </tr>\n",
       "    <tr>\n",
       "      <th>26</th>\n",
       "      <td>var2_63b2822c23</td>\n",
       "      <td>0.006556</td>\n",
       "    </tr>\n",
       "    <tr>\n",
       "      <th>30</th>\n",
       "      <td>var3_85a335de56</td>\n",
       "      <td>0.006237</td>\n",
       "    </tr>\n",
       "    <tr>\n",
       "      <th>27</th>\n",
       "      <td>var2_986c37480b</td>\n",
       "      <td>0.004991</td>\n",
       "    </tr>\n",
       "    <tr>\n",
       "      <th>21</th>\n",
       "      <td>var1_195863009f</td>\n",
       "      <td>0.003393</td>\n",
       "    </tr>\n",
       "    <tr>\n",
       "      <th>37</th>\n",
       "      <td>var4_c81e728d9d</td>\n",
       "      <td>0.002866</td>\n",
       "    </tr>\n",
       "    <tr>\n",
       "      <th>36</th>\n",
       "      <td>var4_e4da3b7fbb</td>\n",
       "      <td>0.002787</td>\n",
       "    </tr>\n",
       "    <tr>\n",
       "      <th>34</th>\n",
       "      <td>var4_a87ff679a2</td>\n",
       "      <td>0.001607</td>\n",
       "    </tr>\n",
       "    <tr>\n",
       "      <th>19</th>\n",
       "      <td>var1_038a8a50b8</td>\n",
       "      <td>0.001531</td>\n",
       "    </tr>\n",
       "    <tr>\n",
       "      <th>40</th>\n",
       "      <td>var6_8a2c47a07d</td>\n",
       "      <td>0.000935</td>\n",
       "    </tr>\n",
       "    <tr>\n",
       "      <th>38</th>\n",
       "      <td>var4_eccbc87e4b</td>\n",
       "      <td>0.000862</td>\n",
       "    </tr>\n",
       "    <tr>\n",
       "      <th>22</th>\n",
       "      <td>var1_cb3b88409b</td>\n",
       "      <td>0.000696</td>\n",
       "    </tr>\n",
       "    <tr>\n",
       "      <th>20</th>\n",
       "      <td>var1_43a1437f7f</td>\n",
       "      <td>0.000611</td>\n",
       "    </tr>\n",
       "    <tr>\n",
       "      <th>24</th>\n",
       "      <td>var1_01deebfa87</td>\n",
       "      <td>0.000540</td>\n",
       "    </tr>\n",
       "    <tr>\n",
       "      <th>31</th>\n",
       "      <td>var3_ed50cb85c0</td>\n",
       "      <td>0.000464</td>\n",
       "    </tr>\n",
       "    <tr>\n",
       "      <th>32</th>\n",
       "      <td>var3_5a44ad80eb</td>\n",
       "      <td>0.000412</td>\n",
       "    </tr>\n",
       "    <tr>\n",
       "      <th>25</th>\n",
       "      <td>var1_9f41f9f1c4</td>\n",
       "      <td>0.000331</td>\n",
       "    </tr>\n",
       "    <tr>\n",
       "      <th>23</th>\n",
       "      <td>var1_d61f96d43a</td>\n",
       "      <td>0.000303</td>\n",
       "    </tr>\n",
       "    <tr>\n",
       "      <th>11</th>\n",
       "      <td>38</td>\n",
       "      <td>0.000257</td>\n",
       "    </tr>\n",
       "    <tr>\n",
       "      <th>7</th>\n",
       "      <td>29</td>\n",
       "      <td>0.000168</td>\n",
       "    </tr>\n",
       "    <tr>\n",
       "      <th>9</th>\n",
       "      <td>33</td>\n",
       "      <td>0.000147</td>\n",
       "    </tr>\n",
       "  </tbody>\n",
       "</table>\n",
       "</div>"
      ],
      "text/plain": [
       "            Feature  Feature importance\n",
       "3                13            0.199234\n",
       "6                26            0.197850\n",
       "0                 9            0.114256\n",
       "5                21            0.098247\n",
       "2                11            0.039401\n",
       "8                30            0.038583\n",
       "13               43            0.029563\n",
       "14               51            0.027222\n",
       "15               54            0.025801\n",
       "42  var6_e939124300            0.022560\n",
       "10               34            0.018783\n",
       "17  var1_02ad845d2f            0.018048\n",
       "16  var1_30565a8911            0.017885\n",
       "33  var4_c4ca4238a0            0.017411\n",
       "39  var6_6c096eda6c            0.014412\n",
       "35  var4_8f14e45fce            0.014014\n",
       "28  var3_ec181e8598            0.013960\n",
       "18  var1_e4c2e8edac            0.011066\n",
       "12               39            0.010784\n",
       "4                17            0.009332\n",
       "1                10            0.008890\n",
       "41  var6_d581f01004            0.008702\n",
       "29  var3_3462790de9            0.008301\n",
       "26  var2_63b2822c23            0.006556\n",
       "30  var3_85a335de56            0.006237\n",
       "27  var2_986c37480b            0.004991\n",
       "21  var1_195863009f            0.003393\n",
       "37  var4_c81e728d9d            0.002866\n",
       "36  var4_e4da3b7fbb            0.002787\n",
       "34  var4_a87ff679a2            0.001607\n",
       "19  var1_038a8a50b8            0.001531\n",
       "40  var6_8a2c47a07d            0.000935\n",
       "38  var4_eccbc87e4b            0.000862\n",
       "22  var1_cb3b88409b            0.000696\n",
       "20  var1_43a1437f7f            0.000611\n",
       "24  var1_01deebfa87            0.000540\n",
       "31  var3_ed50cb85c0            0.000464\n",
       "32  var3_5a44ad80eb            0.000412\n",
       "25  var1_9f41f9f1c4            0.000331\n",
       "23  var1_d61f96d43a            0.000303\n",
       "11               38            0.000257\n",
       "7                29            0.000168\n",
       "9                33            0.000147"
      ]
     },
     "execution_count": 30,
     "metadata": {},
     "output_type": "execute_result"
    }
   ],
   "source": [
    "feat_import"
   ]
  },
  {
   "cell_type": "markdown",
   "metadata": {},
   "source": [
    "#### Selecting the important features from dataset"
   ]
  },
  {
   "cell_type": "code",
   "execution_count": 206,
   "metadata": {},
   "outputs": [],
   "source": [
    "selected_features= feat_import[feat_import['Feature importance']>=0.01][['Feature']]"
   ]
  },
  {
   "cell_type": "code",
   "execution_count": 32,
   "metadata": {},
   "outputs": [],
   "source": [
    "X_train_smote_1_selected=X_train_smote_1[selected_features]"
   ]
  },
  {
   "cell_type": "code",
   "execution_count": 33,
   "metadata": {},
   "outputs": [
    {
     "data": {
      "text/plain": [
       "(627528, 19)"
      ]
     },
     "execution_count": 33,
     "metadata": {},
     "output_type": "execute_result"
    }
   ],
   "source": [
    "X_train_smote_1_selected.shape"
   ]
  },
  {
   "cell_type": "code",
   "execution_count": 34,
   "metadata": {},
   "outputs": [],
   "source": [
    "X_train_selected= X_train[selected_features]\n",
    "X_test_selected= X_test[selected_features]"
   ]
  },
  {
   "cell_type": "code",
   "execution_count": 211,
   "metadata": {},
   "outputs": [],
   "source": [
    "#selected_features= ['13', '26', '9', '21', '11', '30', '43', '51', '54',\n",
    "#       'var6_e939124300', '34', 'var1_02ad845d2f', 'var1_30565a8911',\n",
    "#      'var4_c4ca4238a0', 'var6_6c096eda6c', 'var4_8f14e45fce',\n",
    "#       'var3_ec181e8598', 'var1_e4c2e8edac', '39']\n"
   ]
  },
  {
   "cell_type": "markdown",
   "metadata": {},
   "source": [
    "## Model Training"
   ]
  },
  {
   "cell_type": "markdown",
   "metadata": {},
   "source": [
    "### Logistic Regression\n",
    "\n",
    "We will tune Logistic regression with different parameters"
   ]
  },
  {
   "cell_type": "code",
   "execution_count": 35,
   "metadata": {},
   "outputs": [],
   "source": [
    "param_grid = {\n",
    " 'C': [100, 10, 1.0, 0.1, 0.01],\n",
    " 'penalty':  ['l2'],\n",
    " 'solver':  ['newton-cg', 'lbfgs', 'liblinear']}\n",
    "\n",
    "# Creating the classifier\n",
    "model_lg = LogisticRegression()"
   ]
  },
  {
   "cell_type": "code",
   "execution_count": 36,
   "metadata": {},
   "outputs": [
    {
     "name": "stdout",
     "output_type": "stream",
     "text": [
      "Fitting 3 folds for each of 15 candidates, totalling 45 fits\n"
     ]
    },
    {
     "data": {
      "text/plain": [
       "GridSearchCV(cv=3, estimator=LogisticRegression(), n_jobs=-1,\n",
       "             param_grid={'C': [100, 10, 1.0, 0.1, 0.01], 'penalty': ['l2'],\n",
       "                         'solver': ['newton-cg', 'lbfgs', 'liblinear']},\n",
       "             scoring='f1', verbose=1000)"
      ]
     },
     "execution_count": 36,
     "metadata": {},
     "output_type": "execute_result"
    }
   ],
   "source": [
    "rows = random.sample(np.arange(0,len(X_train_smote_1_selected.index)).tolist(), 50000)\n",
    "\n",
    "grid_search = GridSearchCV(model_lg, param_grid=param_grid, cv=3, scoring=\"f1\",  n_jobs=-1, verbose=1000)\n",
    "grid_search.fit(X_train_smote_1_selected.iloc[rows,], y_train_smote_1[rows,])"
   ]
  },
  {
   "cell_type": "code",
   "execution_count": 37,
   "metadata": {
    "scrolled": true
   },
   "outputs": [
    {
     "name": "stdout",
     "output_type": "stream",
     "text": [
      "0.7757172053482139\n",
      "{'C': 10, 'penalty': 'l2', 'solver': 'liblinear'}\n"
     ]
    }
   ],
   "source": [
    "print(grid_search.best_score_)\n",
    "print(grid_search.best_params_)"
   ]
  },
  {
   "cell_type": "code",
   "execution_count": 38,
   "metadata": {},
   "outputs": [
    {
     "data": {
      "text/plain": [
       "(627528,)"
      ]
     },
     "execution_count": 38,
     "metadata": {},
     "output_type": "execute_result"
    }
   ],
   "source": [
    "y_train_smote_1.shape"
   ]
  },
  {
   "cell_type": "code",
   "execution_count": 254,
   "metadata": {},
   "outputs": [],
   "source": [
    "best_lg= LogisticRegression(C=10,penalty= 'l2', solver='liblinear')"
   ]
  },
  {
   "cell_type": "code",
   "execution_count": 255,
   "metadata": {},
   "outputs": [
    {
     "data": {
      "text/plain": [
       "LogisticRegression(C=10, solver='liblinear')"
      ]
     },
     "execution_count": 255,
     "metadata": {},
     "output_type": "execute_result"
    }
   ],
   "source": [
    "best_lg.fit(X_train_smote_1_selected, y_train_smote_1)"
   ]
  },
  {
   "cell_type": "code",
   "execution_count": 256,
   "metadata": {
    "scrolled": true
   },
   "outputs": [
    {
     "name": "stdout",
     "output_type": "stream",
     "text": [
      "Base Model Result(Logistic Regression) Train\n",
      "accuracy: 0.7665525\n",
      "precision: 0.04693488618316569\n",
      "recall: 0.568697883258499\n",
      "f2: 0.1764307888243254\n"
     ]
    }
   ],
   "source": [
    "print_results(\"Base Model Result(Logistic Regression) Train\", y_train, best_lg.predict(X_train_selected))"
   ]
  },
  {
   "cell_type": "code",
   "execution_count": 257,
   "metadata": {
    "scrolled": false
   },
   "outputs": [
    {
     "name": "stdout",
     "output_type": "stream",
     "text": [
      "Base Model Result(Logistic Regression) Test\n",
      "accuracy: 0.76769\n",
      "precision: 0.04734130869768828\n",
      "recall: 0.5656154628687691\n",
      "f2: 0.1773355021847989\n"
     ]
    }
   ],
   "source": [
    "print_results(\"Base Model Result(Logistic Regression) Test\", y_test, best_lg.predict(X_test_selected))"
   ]
  },
  {
   "cell_type": "code",
   "execution_count": 43,
   "metadata": {
    "scrolled": false
   },
   "outputs": [
    {
     "name": "stdout",
     "output_type": "stream",
     "text": [
      "              precision    recall  f1-score   support\n",
      "\n",
      "           0       0.99      0.77      0.87     98034\n",
      "           1       0.05      0.57      0.09      1966\n",
      "\n",
      "    accuracy                           0.77    100000\n",
      "   macro avg       0.52      0.67      0.48    100000\n",
      "weighted avg       0.97      0.77      0.85    100000\n",
      "\n"
     ]
    }
   ],
   "source": [
    "print(classification_report(y_test, best_lg.predict(X_test_selected)))"
   ]
  },
  {
   "cell_type": "code",
   "execution_count": 44,
   "metadata": {},
   "outputs": [
    {
     "data": {
      "text/plain": [
       "<matplotlib.axes._subplots.AxesSubplot at 0x1d525c80ee0>"
      ]
     },
     "execution_count": 44,
     "metadata": {},
     "output_type": "execute_result"
    },
    {
     "data": {
      "image/png": "[encoded data removed]",
      "text/plain": [
       "<Figure size 432x288 with 2 Axes>"
      ]
     },
     "metadata": {
      "needs_background": "light"
     },
     "output_type": "display_data"
    }
   ],
   "source": [
    "sns.heatmap(confusion_matrix(y_test, best_lg.predict(X_test_selected)), annot=True, fmt='g')"
   ]
  },
  {
   "cell_type": "code",
   "execution_count": 45,
   "metadata": {},
   "outputs": [
    {
     "data": {
      "image/png": "[encoded data removed]",
      "text/plain": [
       "<Figure size 576x432 with 1 Axes>"
      ]
     },
     "metadata": {
      "needs_background": "light"
     },
     "output_type": "display_data"
    }
   ],
   "source": [
    "plot_roc_curve(best_lg, X_test_selected, y_test)"
   ]
  },
  {
   "cell_type": "code",
   "execution_count": 46,
   "metadata": {},
   "outputs": [
    {
     "data": {
      "image/png": "[encoded data removed]",
      "text/plain": [
       "<Figure size 576x432 with 1 Axes>"
      ]
     },
     "metadata": {
      "needs_background": "light"
     },
     "output_type": "display_data"
    }
   ],
   "source": [
    "plot_pr_curve(best_lg, X_test_selected, y_test)"
   ]
  },
  {
   "cell_type": "markdown",
   "metadata": {},
   "source": [
    "Our models result improved and roc went from 0.69 to 0.77\n",
    "Now we will Try Random Forest"
   ]
  },
  {
   "cell_type": "markdown",
   "metadata": {},
   "source": [
    "### Random Forest\n",
    "\n",
    "We will tune Random Forest with depth of 6 since beyond that it becomes too slow"
   ]
  },
  {
   "cell_type": "code",
   "execution_count": 47,
   "metadata": {},
   "outputs": [],
   "source": [
    "param_grid = {\n",
    " 'max_depth': [6],\n",
    " 'max_features': ['sqrt'],\n",
    " 'min_samples_leaf': [1, 2,3],\n",
    " 'min_samples_split': [2, 5, 10]}\n",
    "\n",
    "# Creating the classifier\n",
    "model_rf = RandomForestClassifier()"
   ]
  },
  {
   "cell_type": "code",
   "execution_count": 48,
   "metadata": {},
   "outputs": [
    {
     "name": "stdout",
     "output_type": "stream",
     "text": [
      "Fitting 3 folds for each of 9 candidates, totalling 27 fits\n"
     ]
    },
    {
     "data": {
      "text/plain": [
       "GridSearchCV(cv=3, estimator=RandomForestClassifier(), n_jobs=-1,\n",
       "             param_grid={'max_depth': [6], 'max_features': ['sqrt'],\n",
       "                         'min_samples_leaf': [1, 2, 3],\n",
       "                         'min_samples_split': [2, 5, 10]},\n",
       "             scoring='f1', verbose=1000)"
      ]
     },
     "execution_count": 48,
     "metadata": {},
     "output_type": "execute_result"
    }
   ],
   "source": [
    "rows = random.sample(np.arange(0,len(X_train_smote_1_selected.index)).tolist(), 50000)\n",
    "\n",
    "grid_search = GridSearchCV(model_rf, param_grid=param_grid, cv=3, scoring=\"f1\",  n_jobs=-1, verbose=1000)\n",
    "grid_search.fit(X_train_smote_1_selected.iloc[rows,], y_train_smote_1[rows,])"
   ]
  },
  {
   "cell_type": "code",
   "execution_count": 49,
   "metadata": {},
   "outputs": [
    {
     "name": "stdout",
     "output_type": "stream",
     "text": [
      "0.817138586822774\n",
      "{'max_depth': 6, 'max_features': 'sqrt', 'min_samples_leaf': 1, 'min_samples_split': 10}\n"
     ]
    }
   ],
   "source": [
    "print(grid_search.best_score_)\n",
    "print(grid_search.best_params_)"
   ]
  },
  {
   "cell_type": "code",
   "execution_count": 258,
   "metadata": {},
   "outputs": [],
   "source": [
    "best_rf= RandomForestClassifier(max_depth=6, n_estimators=100, max_features='sqrt', min_samples_leaf=1, min_samples_split=10)"
   ]
  },
  {
   "cell_type": "code",
   "execution_count": 259,
   "metadata": {},
   "outputs": [
    {
     "data": {
      "text/plain": [
       "RandomForestClassifier(max_depth=6, max_features='sqrt', min_samples_split=10)"
      ]
     },
     "execution_count": 259,
     "metadata": {},
     "output_type": "execute_result"
    }
   ],
   "source": [
    "best_rf.fit(X_train_smote_1_selected, y_train_smote_1)"
   ]
  },
  {
   "cell_type": "code",
   "execution_count": 260,
   "metadata": {},
   "outputs": [
    {
     "name": "stdout",
     "output_type": "stream",
     "text": [
      "Base Model Result(Random Forest) Train\n",
      "accuracy: 0.8240475\n",
      "precision: 0.06392140468227425\n",
      "recall: 0.5884541372674792\n",
      "f2: 0.22279968913930448\n"
     ]
    }
   ],
   "source": [
    "print_results(\"Base Model Result(Random Forest) Train\", y_train, best_rf.predict(X_train_selected))"
   ]
  },
  {
   "cell_type": "code",
   "execution_count": 261,
   "metadata": {},
   "outputs": [
    {
     "name": "stdout",
     "output_type": "stream",
     "text": [
      "Base Model Result(Random Forest) Test\n",
      "accuracy: 0.82582\n",
      "precision: 0.06580869956164999\n",
      "recall: 0.5956256358087487\n",
      "f2: 0.2281939356146231\n"
     ]
    }
   ],
   "source": [
    "print_results(\"Base Model Result(Random Forest) Test\", y_test, best_rf.predict(X_test_selected))"
   ]
  },
  {
   "cell_type": "code",
   "execution_count": 54,
   "metadata": {},
   "outputs": [
    {
     "name": "stdout",
     "output_type": "stream",
     "text": [
      "              precision    recall  f1-score   support\n",
      "\n",
      "           0       0.99      0.83      0.91     98034\n",
      "           1       0.07      0.59      0.12      1966\n",
      "\n",
      "    accuracy                           0.83    100000\n",
      "   macro avg       0.53      0.71      0.51    100000\n",
      "weighted avg       0.97      0.83      0.89    100000\n",
      "\n"
     ]
    }
   ],
   "source": [
    "print(classification_report(y_test, best_rf.predict(X_test_selected)))"
   ]
  },
  {
   "cell_type": "code",
   "execution_count": 55,
   "metadata": {},
   "outputs": [
    {
     "data": {
      "text/plain": [
       "<matplotlib.axes._subplots.AxesSubplot at 0x1d554c563d0>"
      ]
     },
     "execution_count": 55,
     "metadata": {},
     "output_type": "execute_result"
    },
    {
     "data": {
      "image/png": "[encoded data removed]",
      "text/plain": [
       "<Figure size 432x288 with 2 Axes>"
      ]
     },
     "metadata": {
      "needs_background": "light"
     },
     "output_type": "display_data"
    }
   ],
   "source": [
    "sns.heatmap(confusion_matrix(y_test, best_rf.predict(X_test_selected)), annot=True, fmt='g')"
   ]
  },
  {
   "cell_type": "code",
   "execution_count": 56,
   "metadata": {},
   "outputs": [
    {
     "data": {
      "image/png": "[encoded data removed]",
      "text/plain": [
       "<Figure size 576x432 with 1 Axes>"
      ]
     },
     "metadata": {
      "needs_background": "light"
     },
     "output_type": "display_data"
    }
   ],
   "source": [
    "plot_roc_curve(best_rf, X_test_selected, y_test)"
   ]
  },
  {
   "cell_type": "code",
   "execution_count": 57,
   "metadata": {},
   "outputs": [
    {
     "data": {
      "image/png": "[encoded data removed]",
      "text/plain": [
       "<Figure size 576x432 with 1 Axes>"
      ]
     },
     "metadata": {
      "needs_background": "light"
     },
     "output_type": "display_data"
    }
   ],
   "source": [
    "plot_pr_curve(best_rf, X_test_selected, y_test)"
   ]
  },
  {
   "cell_type": "markdown",
   "metadata": {},
   "source": [
    "After trying out RF, ROC improved from 0.77 to 0.80"
   ]
  },
  {
   "cell_type": "markdown",
   "metadata": {},
   "source": [
    "### Light GBM\n",
    "\n",
    "Light GBM is another good algorithm for classification and hence we will try this. For tuning it, we will use Random Search CV and Optuna Later"
   ]
  },
  {
   "cell_type": "code",
   "execution_count": 58,
   "metadata": {},
   "outputs": [],
   "source": [
    "from scipy.stats import randint as sp_randint\n",
    "from scipy.stats import uniform as sp_uniform\n",
    "param_test ={'num_leaves': sp_randint(6, 50), \n",
    "             'min_child_samples': sp_randint(100, 500), \n",
    "             'min_child_weight': [1e-5, 1e-3, 1e-2, 1e-1, 1, 1e1, 1e2, 1e3, 1e4],\n",
    "             'subsample': sp_uniform(loc=0.2, scale=0.8), \n",
    "             'colsample_bytree': sp_uniform(loc=0.4, scale=0.6),\n",
    "             'reg_alpha': [0, 1e-1, 1, 2, 5, 7, 10, 50, 100],\n",
    "             'reg_lambda': [0, 1e-1, 1, 5, 10, 20, 50, 100]}"
   ]
  },
  {
   "cell_type": "code",
   "execution_count": 34,
   "metadata": {},
   "outputs": [],
   "source": [
    "n_HP_points_to_test = 300\n",
    "\n",
    "import lightgbm as lgb\n",
    "from sklearn.model_selection import RandomizedSearchCV, GridSearchCV\n",
    "\n",
    "#n_estimators is set to a \"large value\". The actual number of trees build will depend on early stopping and 5000 define only the absolute maximum\n",
    "clf = lgb.LGBMClassifier(max_depth=-1, random_state=314, silent=True, metric='auc', n_jobs=-1, n_estimators=200, is_unbalance=True)\n",
    "gs = RandomizedSearchCV(\n",
    "    estimator=clf, param_distributions=param_test, \n",
    "    n_iter=n_HP_points_to_test,\n",
    "    scoring='roc_auc',\n",
    "    cv=3,\n",
    "    n_jobs=-1,\n",
    "    refit=True,\n",
    "    random_state=314,\n",
    "    verbose=1000)"
   ]
  },
  {
   "cell_type": "code",
   "execution_count": 35,
   "metadata": {},
   "outputs": [
    {
     "name": "stdout",
     "output_type": "stream",
     "text": [
      "Fitting 3 folds for each of 300 candidates, totalling 900 fits\n"
     ]
    },
    {
     "data": {
      "text/plain": [
       "RandomizedSearchCV(cv=3,\n",
       "                   estimator=LGBMClassifier(is_unbalance=True, metric='auc',\n",
       "                                            n_estimators=200,\n",
       "                                            random_state=314),\n",
       "                   n_iter=300, n_jobs=-1,\n",
       "                   param_distributions={'colsample_bytree': <scipy.stats._distn_infrastructure.rv_frozen object at 0x000001DC8073B7F0>,\n",
       "                                        'min_child_samples': <scipy.stats._distn_infrastructure.rv_frozen object at 0x000001DC804C8520>,\n",
       "                                        'min_child...ght': [1e-05, 0.001, 0.01,\n",
       "                                                             0.1, 1, 10.0,\n",
       "                                                             100.0, 1000.0,\n",
       "                                                             10000.0],\n",
       "                                        'num_leaves': <scipy.stats._distn_infrastructure.rv_frozen object at 0x000001DC80743B80>,\n",
       "                                        'reg_alpha': [0, 0.1, 1, 2, 5, 7, 10,\n",
       "                                                      50, 100],\n",
       "                                        'reg_lambda': [0, 0.1, 1, 5, 10, 20, 50,\n",
       "                                                       100],\n",
       "                                        'subsample': <scipy.stats._distn_infrastructure.rv_frozen object at 0x000001DC807A5F40>},\n",
       "                   random_state=314, scoring='roc_auc', verbose=1000)"
      ]
     },
     "execution_count": 35,
     "metadata": {},
     "output_type": "execute_result"
    }
   ],
   "source": [
    "gs.fit(X_train_smote_1_selected, y_train_smote_1)"
   ]
  },
  {
   "cell_type": "code",
   "execution_count": 36,
   "metadata": {},
   "outputs": [
    {
     "name": "stdout",
     "output_type": "stream",
     "text": [
      "0.9932863549494789\n",
      "{'colsample_bytree': 0.8498831409295475, 'min_child_samples': 300, 'min_child_weight': 0.1, 'num_leaves': 49, 'reg_alpha': 0.1, 'reg_lambda': 1, 'subsample': 0.5341287257917615}\n"
     ]
    }
   ],
   "source": [
    "print(gs.best_score_)\n",
    "print(gs.best_params_)"
   ]
  },
  {
   "cell_type": "code",
   "execution_count": 262,
   "metadata": {},
   "outputs": [],
   "source": [
    "best_lgbm= lgb.LGBMClassifier(max_depth=-1, is_unbalance= True,random_state=314, silent=True, metric='auc', n_jobs=-1, n_estimators=300, colsample_bytree=0.8498831409295475, \n",
    "                             min_child_samples=300, num_leaves=49, reg_alpha=0.1, reg_lambda=1, subsample=0.5341287257917615)"
   ]
  },
  {
   "cell_type": "code",
   "execution_count": 263,
   "metadata": {},
   "outputs": [
    {
     "data": {
      "text/plain": [
       "LGBMClassifier(colsample_bytree=0.8498831409295475, is_unbalance=True,\n",
       "               metric='auc', min_child_samples=300, n_estimators=300,\n",
       "               num_leaves=49, random_state=314, reg_alpha=0.1, reg_lambda=1,\n",
       "               subsample=0.5341287257917615)"
      ]
     },
     "execution_count": 263,
     "metadata": {},
     "output_type": "execute_result"
    }
   ],
   "source": [
    "best_lgbm.fit(X_train_smote_1_selected, y_train_smote_1)"
   ]
  },
  {
   "cell_type": "code",
   "execution_count": 265,
   "metadata": {},
   "outputs": [
    {
     "name": "stdout",
     "output_type": "stream",
     "text": [
      "Base Model Result(LGBM) Train\n",
      "accuracy: 0.9461825\n",
      "precision: 0.08915749162278602\n",
      "recall: 0.19114817190506736\n",
      "f2: 0.15555833959742754\n"
     ]
    }
   ],
   "source": [
    "print_results(\"Base Model Result(LGBM) Train\", y_train, best_lgbm.predict(X_train_selected))"
   ]
  },
  {
   "cell_type": "code",
   "execution_count": 266,
   "metadata": {},
   "outputs": [
    {
     "name": "stdout",
     "output_type": "stream",
     "text": [
      "Base Model Result(LGBM) Test\n",
      "accuracy: 0.94409\n",
      "precision: 0.07120889519753963\n",
      "recall: 0.1531027466937945\n",
      "f2: 0.12447274832520058\n"
     ]
    }
   ],
   "source": [
    "print_results(\"Base Model Result(LGBM) Test\", y_test, best_lgbm.predict(X_test_selected))"
   ]
  },
  {
   "cell_type": "code",
   "execution_count": 43,
   "metadata": {},
   "outputs": [
    {
     "name": "stdout",
     "output_type": "stream",
     "text": [
      "              precision    recall  f1-score   support\n",
      "\n",
      "           0       0.98      0.97      0.98     98034\n",
      "           1       0.07      0.12      0.09      1966\n",
      "\n",
      "    accuracy                           0.95    100000\n",
      "   macro avg       0.53      0.54      0.53    100000\n",
      "weighted avg       0.96      0.95      0.96    100000\n",
      "\n"
     ]
    }
   ],
   "source": [
    "print(classification_report(y_test, best_lgbm.predict(X_test_selected)))"
   ]
  },
  {
   "cell_type": "code",
   "execution_count": 44,
   "metadata": {},
   "outputs": [
    {
     "data": {
      "text/plain": [
       "<matplotlib.axes._subplots.AxesSubplot at 0x1dcd40732e0>"
      ]
     },
     "execution_count": 44,
     "metadata": {},
     "output_type": "execute_result"
    },
    {
     "data": {
      "image/png": "[encoded data removed]",
      "text/plain": [
       "<Figure size 432x288 with 2 Axes>"
      ]
     },
     "metadata": {
      "needs_background": "light"
     },
     "output_type": "display_data"
    }
   ],
   "source": [
    "sns.heatmap(confusion_matrix(y_test, best_lgbm.predict(X_test_selected)), annot=True, fmt='g')"
   ]
  },
  {
   "cell_type": "code",
   "execution_count": 47,
   "metadata": {},
   "outputs": [
    {
     "data": {
      "text/plain": [
       "Text(0.5, 0.98, 'Impact of threshold adjustment on the error matrix')"
      ]
     },
     "execution_count": 47,
     "metadata": {},
     "output_type": "execute_result"
    },
    {
     "data": {
      "image/png": "[encoded data removed]",
      "text/plain": [
       "<Figure size 720x720 with 9 Axes>"
      ]
     },
     "metadata": {
      "needs_background": "light"
     },
     "output_type": "display_data"
    }
   ],
   "source": [
    "y_pred = best_lgbm.predict_proba(X_test_selected)[:,1]\n",
    "fig, axes = plt.subplots(3,3, figsize=(10,10))\n",
    "for t, ax in enumerate(axes.flat):\n",
    "    threshold = (t+1)/10\n",
    "    y_pred_int = (y_pred > threshold).astype(int)\n",
    "    c_matrix = sklearn.metrics.confusion_matrix(y_test, y_pred_int)\n",
    "    sns.heatmap(c_matrix, annot=True, cmap=\"Blues\", fmt=\"d\", ax=ax, cbar=False)\n",
    "    ax.title.set_text(\"T=%.1f\" % threshold)\n",
    "plt.subplots_adjust(hspace=0.5, wspace=0.5)\n",
    "plt.suptitle(\"Impact of threshold adjustment on the error matrix\")"
   ]
  },
  {
   "cell_type": "code",
   "execution_count": 46,
   "metadata": {},
   "outputs": [
    {
     "data": {
      "image/png": "[encoded data removed]",
      "text/plain": [
       "<Figure size 576x432 with 1 Axes>"
      ]
     },
     "metadata": {
      "needs_background": "light"
     },
     "output_type": "display_data"
    }
   ],
   "source": [
    "plot_roc_curve(best_lgbm, X_test_selected, y_test)"
   ]
  },
  {
   "cell_type": "markdown",
   "metadata": {},
   "source": [
    "Light GBM didn't performed that great Now we will try Catboost"
   ]
  },
  {
   "cell_type": "markdown",
   "metadata": {},
   "source": [
    "###   Catboost "
   ]
  },
  {
   "cell_type": "code",
   "execution_count": 269,
   "metadata": {},
   "outputs": [],
   "source": [
    "from catboost import CatBoostClassifier"
   ]
  },
  {
   "cell_type": "code",
   "execution_count": 104,
   "metadata": {},
   "outputs": [],
   "source": [
    "params = {'depth'         : [10],\n",
    "                 'learning_rate' : [0.04],\n",
    "              'l2_leaf_reg':[3,1,5],\n",
    "          'border_count':[50,100],\n",
    "                  'iterations'    : [100]\n",
    "                 }"
   ]
  },
  {
   "cell_type": "code",
   "execution_count": 107,
   "metadata": {},
   "outputs": [],
   "source": [
    "model_cat= CatBoostClassifier(eval_metric='F1')"
   ]
  },
  {
   "cell_type": "code",
   "execution_count": 108,
   "metadata": {},
   "outputs": [
    {
     "name": "stdout",
     "output_type": "stream",
     "text": [
      "Fitting 3 folds for each of 6 candidates, totalling 18 fits\n",
      "0:\tlearn: 0.7811894\ttotal: 31.1ms\tremaining: 3.08s\n",
      "1:\tlearn: 0.8032740\ttotal: 56.7ms\tremaining: 2.78s\n",
      "2:\tlearn: 0.8247922\ttotal: 86.4ms\tremaining: 2.79s\n",
      "3:\tlearn: 0.8288772\ttotal: 117ms\tremaining: 2.8s\n",
      "4:\tlearn: 0.8286297\ttotal: 142ms\tremaining: 2.69s\n",
      "5:\tlearn: 0.8389096\ttotal: 168ms\tremaining: 2.64s\n",
      "6:\tlearn: 0.8426249\ttotal: 194ms\tremaining: 2.57s\n",
      "7:\tlearn: 0.8488293\ttotal: 220ms\tremaining: 2.53s\n",
      "8:\tlearn: 0.8481066\ttotal: 246ms\tremaining: 2.49s\n",
      "9:\tlearn: 0.8472455\ttotal: 272ms\tremaining: 2.45s\n",
      "10:\tlearn: 0.8476056\ttotal: 298ms\tremaining: 2.41s\n",
      "11:\tlearn: 0.8500897\ttotal: 324ms\tremaining: 2.38s\n",
      "12:\tlearn: 0.8499550\ttotal: 350ms\tremaining: 2.34s\n",
      "13:\tlearn: 0.8528977\ttotal: 376ms\tremaining: 2.31s\n",
      "14:\tlearn: 0.8547406\ttotal: 402ms\tremaining: 2.28s\n",
      "15:\tlearn: 0.8563937\ttotal: 431ms\tremaining: 2.26s\n",
      "16:\tlearn: 0.8574692\ttotal: 461ms\tremaining: 2.25s\n",
      "17:\tlearn: 0.8584512\ttotal: 488ms\tremaining: 2.22s\n",
      "18:\tlearn: 0.8586116\ttotal: 515ms\tremaining: 2.19s\n",
      "19:\tlearn: 0.8628685\ttotal: 540ms\tremaining: 2.16s\n",
      "20:\tlearn: 0.8633431\ttotal: 566ms\tremaining: 2.13s\n",
      "21:\tlearn: 0.8637139\ttotal: 593ms\tremaining: 2.1s\n",
      "22:\tlearn: 0.8645335\ttotal: 619ms\tremaining: 2.07s\n",
      "23:\tlearn: 0.8658096\ttotal: 647ms\tremaining: 2.05s\n",
      "24:\tlearn: 0.8656932\ttotal: 673ms\tremaining: 2.02s\n",
      "25:\tlearn: 0.8687359\ttotal: 699ms\tremaining: 1.99s\n",
      "26:\tlearn: 0.8722564\ttotal: 724ms\tremaining: 1.96s\n",
      "27:\tlearn: 0.8724830\ttotal: 750ms\tremaining: 1.93s\n",
      "28:\tlearn: 0.8745339\ttotal: 776ms\tremaining: 1.9s\n",
      "29:\tlearn: 0.8767831\ttotal: 801ms\tremaining: 1.87s\n",
      "30:\tlearn: 0.8779627\ttotal: 827ms\tremaining: 1.84s\n",
      "31:\tlearn: 0.8799022\ttotal: 853ms\tremaining: 1.81s\n",
      "32:\tlearn: 0.8807858\ttotal: 879ms\tremaining: 1.78s\n",
      "33:\tlearn: 0.8806309\ttotal: 905ms\tremaining: 1.76s\n",
      "34:\tlearn: 0.8810102\ttotal: 931ms\tremaining: 1.73s\n",
      "35:\tlearn: 0.8816630\ttotal: 956ms\tremaining: 1.7s\n",
      "36:\tlearn: 0.8813478\ttotal: 983ms\tremaining: 1.67s\n",
      "37:\tlearn: 0.8832610\ttotal: 1.01s\tremaining: 1.64s\n",
      "38:\tlearn: 0.8849462\ttotal: 1.03s\tremaining: 1.61s\n",
      "39:\tlearn: 0.8848760\ttotal: 1.06s\tremaining: 1.59s\n",
      "40:\tlearn: 0.8863659\ttotal: 1.08s\tremaining: 1.56s\n",
      "41:\tlearn: 0.8878262\ttotal: 1.11s\tremaining: 1.53s\n",
      "42:\tlearn: 0.8904585\ttotal: 1.14s\tremaining: 1.5s\n",
      "43:\tlearn: 0.8917080\ttotal: 1.16s\tremaining: 1.48s\n",
      "44:\tlearn: 0.8919907\ttotal: 1.19s\tremaining: 1.45s\n",
      "45:\tlearn: 0.8921586\ttotal: 1.22s\tremaining: 1.43s\n",
      "46:\tlearn: 0.8927739\ttotal: 1.24s\tremaining: 1.4s\n",
      "47:\tlearn: 0.8935862\ttotal: 1.27s\tremaining: 1.37s\n",
      "48:\tlearn: 0.8950094\ttotal: 1.29s\tremaining: 1.34s\n",
      "49:\tlearn: 0.8961099\ttotal: 1.32s\tremaining: 1.32s\n",
      "50:\tlearn: 0.8966598\ttotal: 1.34s\tremaining: 1.29s\n",
      "51:\tlearn: 0.8977453\ttotal: 1.37s\tremaining: 1.26s\n",
      "52:\tlearn: 0.8983446\ttotal: 1.39s\tremaining: 1.24s\n",
      "53:\tlearn: 0.8985932\ttotal: 1.42s\tremaining: 1.21s\n",
      "54:\tlearn: 0.8987215\ttotal: 1.45s\tremaining: 1.18s\n",
      "55:\tlearn: 0.8988100\ttotal: 1.47s\tremaining: 1.16s\n",
      "56:\tlearn: 0.9004680\ttotal: 1.5s\tremaining: 1.13s\n",
      "57:\tlearn: 0.9010482\ttotal: 1.52s\tremaining: 1.1s\n",
      "58:\tlearn: 0.9023088\ttotal: 1.55s\tremaining: 1.08s\n",
      "59:\tlearn: 0.9027789\ttotal: 1.58s\tremaining: 1.06s\n",
      "60:\tlearn: 0.9027167\ttotal: 1.61s\tremaining: 1.03s\n",
      "61:\tlearn: 0.9039435\ttotal: 1.63s\tremaining: 1s\n",
      "62:\tlearn: 0.9045392\ttotal: 1.66s\tremaining: 976ms\n",
      "63:\tlearn: 0.9050066\ttotal: 1.69s\tremaining: 949ms\n",
      "64:\tlearn: 0.9055232\ttotal: 1.71s\tremaining: 922ms\n",
      "65:\tlearn: 0.9059001\ttotal: 1.74s\tremaining: 896ms\n",
      "66:\tlearn: 0.9064014\ttotal: 1.76s\tremaining: 869ms\n",
      "67:\tlearn: 0.9073222\ttotal: 1.79s\tremaining: 843ms\n",
      "68:\tlearn: 0.9073732\ttotal: 1.81s\tremaining: 816ms\n",
      "69:\tlearn: 0.9081077\ttotal: 1.84s\tremaining: 789ms\n",
      "70:\tlearn: 0.9099016\ttotal: 1.87s\tremaining: 762ms\n",
      "71:\tlearn: 0.9098543\ttotal: 1.89s\tremaining: 736ms\n",
      "72:\tlearn: 0.9100884\ttotal: 1.92s\tremaining: 709ms\n",
      "73:\tlearn: 0.9107574\ttotal: 1.95s\tremaining: 683ms\n",
      "74:\tlearn: 0.9108306\ttotal: 1.97s\tremaining: 657ms\n",
      "75:\tlearn: 0.9113293\ttotal: 2s\tremaining: 631ms\n",
      "76:\tlearn: 0.9116292\ttotal: 2.02s\tremaining: 604ms\n",
      "77:\tlearn: 0.9120753\ttotal: 2.05s\tremaining: 578ms\n",
      "78:\tlearn: 0.9127190\ttotal: 2.08s\tremaining: 552ms\n",
      "79:\tlearn: 0.9133846\ttotal: 2.1s\tremaining: 525ms\n",
      "80:\tlearn: 0.9142052\ttotal: 2.13s\tremaining: 499ms\n",
      "81:\tlearn: 0.9149827\ttotal: 2.15s\tremaining: 473ms\n",
      "82:\tlearn: 0.9157528\ttotal: 2.18s\tremaining: 446ms\n",
      "83:\tlearn: 0.9169382\ttotal: 2.2s\tremaining: 420ms\n",
      "84:\tlearn: 0.9173791\ttotal: 2.23s\tremaining: 393ms\n",
      "85:\tlearn: 0.9177048\ttotal: 2.25s\tremaining: 367ms\n",
      "86:\tlearn: 0.9182149\ttotal: 2.28s\tremaining: 341ms\n",
      "87:\tlearn: 0.9185740\ttotal: 2.31s\tremaining: 314ms\n",
      "88:\tlearn: 0.9186370\ttotal: 2.33s\tremaining: 288ms\n",
      "89:\tlearn: 0.9190757\ttotal: 2.36s\tremaining: 262ms\n",
      "90:\tlearn: 0.9191793\ttotal: 2.38s\tremaining: 236ms\n",
      "91:\tlearn: 0.9197163\ttotal: 2.41s\tremaining: 209ms\n",
      "92:\tlearn: 0.9200540\ttotal: 2.43s\tremaining: 183ms\n",
      "93:\tlearn: 0.9206464\ttotal: 2.46s\tremaining: 157ms\n",
      "94:\tlearn: 0.9212636\ttotal: 2.49s\tremaining: 131ms\n",
      "95:\tlearn: 0.9215765\ttotal: 2.51s\tremaining: 105ms\n",
      "96:\tlearn: 0.9222896\ttotal: 2.54s\tremaining: 78.6ms\n",
      "97:\tlearn: 0.9223420\ttotal: 2.57s\tremaining: 52.4ms\n",
      "98:\tlearn: 0.9225775\ttotal: 2.59s\tremaining: 26.2ms\n",
      "99:\tlearn: 0.9228132\ttotal: 2.62s\tremaining: 0us\n"
     ]
    },
    {
     "data": {
      "text/plain": [
       "GridSearchCV(cv=3,\n",
       "             estimator=<catboost.core.CatBoostClassifier object at 0x000001DCD8863880>,\n",
       "             n_jobs=-1,\n",
       "             param_grid={'border_count': [50, 100], 'depth': [10],\n",
       "                         'iterations': [100], 'l2_leaf_reg': [3, 1, 5],\n",
       "                         'learning_rate': [0.04]},\n",
       "             scoring='f1', verbose=1000)"
      ]
     },
     "execution_count": 108,
     "metadata": {},
     "output_type": "execute_result"
    }
   ],
   "source": [
    "rows = random.sample(np.arange(0,len(X_train_smote_1_selected.index)).tolist(), 50000)\n",
    "\n",
    "grid_search = GridSearchCV(model_cat, param_grid=params, cv=3, scoring=\"f1\",  n_jobs=-1, verbose=1000)\n",
    "grid_search.fit(X_train_smote_1_selected.iloc[rows,], y_train_smote_1[rows,])"
   ]
  },
  {
   "cell_type": "code",
   "execution_count": 109,
   "metadata": {},
   "outputs": [
    {
     "name": "stdout",
     "output_type": "stream",
     "text": [
      "0.9140193120626723\n",
      "{'border_count': 50, 'depth': 10, 'iterations': 100, 'l2_leaf_reg': 1, 'learning_rate': 0.04}\n"
     ]
    }
   ],
   "source": [
    "print(grid_search.best_score_)\n",
    "print(grid_search.best_params_)"
   ]
  },
  {
   "cell_type": "code",
   "execution_count": 270,
   "metadata": {},
   "outputs": [],
   "source": [
    "best_cat= CatBoostClassifier(eval_metric='F1', depth=10, iterations=200, learning_rate=0.04, border_count=50, l2_leaf_reg=1)"
   ]
  },
  {
   "cell_type": "code",
   "execution_count": 271,
   "metadata": {},
   "outputs": [
    {
     "name": "stdout",
     "output_type": "stream",
     "text": [
      "0:\tlearn: 0.8027377\ttotal: 127ms\tremaining: 25.3s\n",
      "1:\tlearn: 0.8072297\ttotal: 185ms\tremaining: 18.4s\n",
      "2:\tlearn: 0.8056276\ttotal: 242ms\tremaining: 15.9s\n",
      "3:\tlearn: 0.8141587\ttotal: 300ms\tremaining: 14.7s\n",
      "4:\tlearn: 0.8183178\ttotal: 362ms\tremaining: 14.1s\n",
      "5:\tlearn: 0.8293329\ttotal: 420ms\tremaining: 13.6s\n",
      "6:\tlearn: 0.8479413\ttotal: 476ms\tremaining: 13.1s\n",
      "7:\tlearn: 0.8497354\ttotal: 534ms\tremaining: 12.8s\n",
      "8:\tlearn: 0.8515352\ttotal: 592ms\tremaining: 12.6s\n",
      "9:\tlearn: 0.8520263\ttotal: 652ms\tremaining: 12.4s\n",
      "10:\tlearn: 0.8522402\ttotal: 709ms\tremaining: 12.2s\n",
      "11:\tlearn: 0.8541329\ttotal: 766ms\tremaining: 12s\n",
      "12:\tlearn: 0.8573577\ttotal: 826ms\tremaining: 11.9s\n",
      "13:\tlearn: 0.8596545\ttotal: 883ms\tremaining: 11.7s\n",
      "14:\tlearn: 0.8614430\ttotal: 942ms\tremaining: 11.6s\n",
      "15:\tlearn: 0.8615991\ttotal: 1000ms\tremaining: 11.5s\n",
      "16:\tlearn: 0.8613765\ttotal: 1.06s\tremaining: 11.4s\n",
      "17:\tlearn: 0.8625132\ttotal: 1.12s\tremaining: 11.3s\n",
      "18:\tlearn: 0.8629223\ttotal: 1.18s\tremaining: 11.2s\n",
      "19:\tlearn: 0.8640081\ttotal: 1.24s\tremaining: 11.1s\n",
      "20:\tlearn: 0.8641854\ttotal: 1.29s\tremaining: 11s\n",
      "21:\tlearn: 0.8661903\ttotal: 1.35s\tremaining: 10.9s\n",
      "22:\tlearn: 0.8666504\ttotal: 1.41s\tremaining: 10.9s\n",
      "23:\tlearn: 0.8664971\ttotal: 1.47s\tremaining: 10.8s\n",
      "24:\tlearn: 0.8666980\ttotal: 1.53s\tremaining: 10.7s\n",
      "25:\tlearn: 0.8669753\ttotal: 1.58s\tremaining: 10.6s\n",
      "26:\tlearn: 0.8675492\ttotal: 1.64s\tremaining: 10.5s\n",
      "27:\tlearn: 0.8686406\ttotal: 1.7s\tremaining: 10.4s\n",
      "28:\tlearn: 0.8691748\ttotal: 1.75s\tremaining: 10.3s\n",
      "29:\tlearn: 0.8699164\ttotal: 1.81s\tremaining: 10.3s\n",
      "30:\tlearn: 0.8715815\ttotal: 1.87s\tremaining: 10.2s\n",
      "31:\tlearn: 0.8721105\ttotal: 1.93s\tremaining: 10.1s\n",
      "32:\tlearn: 0.8733846\ttotal: 1.99s\tremaining: 10s\n",
      "33:\tlearn: 0.8740310\ttotal: 2.04s\tremaining: 9.98s\n",
      "34:\tlearn: 0.8751064\ttotal: 2.1s\tremaining: 9.9s\n",
      "35:\tlearn: 0.8764873\ttotal: 2.16s\tremaining: 9.84s\n",
      "36:\tlearn: 0.8761805\ttotal: 2.22s\tremaining: 9.77s\n",
      "37:\tlearn: 0.8775570\ttotal: 2.28s\tremaining: 9.71s\n",
      "38:\tlearn: 0.8785224\ttotal: 2.34s\tremaining: 9.66s\n",
      "39:\tlearn: 0.8812531\ttotal: 2.4s\tremaining: 9.6s\n",
      "40:\tlearn: 0.8813848\ttotal: 2.46s\tremaining: 9.53s\n",
      "41:\tlearn: 0.8822189\ttotal: 2.51s\tremaining: 9.46s\n",
      "42:\tlearn: 0.8839713\ttotal: 2.57s\tremaining: 9.4s\n",
      "43:\tlearn: 0.8866083\ttotal: 2.64s\tremaining: 9.35s\n",
      "44:\tlearn: 0.8862848\ttotal: 2.7s\tremaining: 9.29s\n",
      "45:\tlearn: 0.8868395\ttotal: 2.75s\tremaining: 9.22s\n",
      "46:\tlearn: 0.8890631\ttotal: 2.81s\tremaining: 9.15s\n",
      "47:\tlearn: 0.8903490\ttotal: 2.87s\tremaining: 9.09s\n",
      "48:\tlearn: 0.8905880\ttotal: 2.93s\tremaining: 9.03s\n",
      "49:\tlearn: 0.8918925\ttotal: 2.99s\tremaining: 8.97s\n",
      "50:\tlearn: 0.8930868\ttotal: 3.05s\tremaining: 8.92s\n",
      "51:\tlearn: 0.8938450\ttotal: 3.11s\tremaining: 8.86s\n",
      "52:\tlearn: 0.8941336\ttotal: 3.17s\tremaining: 8.79s\n",
      "53:\tlearn: 0.8950641\ttotal: 3.23s\tremaining: 8.72s\n",
      "54:\tlearn: 0.8959903\ttotal: 3.29s\tremaining: 8.66s\n",
      "55:\tlearn: 0.8975043\ttotal: 3.34s\tremaining: 8.6s\n",
      "56:\tlearn: 0.8982346\ttotal: 3.4s\tremaining: 8.54s\n",
      "57:\tlearn: 0.8993636\ttotal: 3.46s\tremaining: 8.47s\n",
      "58:\tlearn: 0.9000457\ttotal: 3.53s\tremaining: 8.44s\n",
      "59:\tlearn: 0.9009699\ttotal: 3.6s\tremaining: 8.39s\n",
      "60:\tlearn: 0.9019531\ttotal: 3.65s\tremaining: 8.32s\n",
      "61:\tlearn: 0.9023619\ttotal: 3.71s\tremaining: 8.26s\n",
      "62:\tlearn: 0.9026402\ttotal: 3.77s\tremaining: 8.19s\n",
      "63:\tlearn: 0.9035738\ttotal: 3.82s\tremaining: 8.13s\n",
      "64:\tlearn: 0.9038786\ttotal: 3.88s\tremaining: 8.06s\n",
      "65:\tlearn: 0.9040339\ttotal: 3.94s\tremaining: 8s\n",
      "66:\tlearn: 0.9044370\ttotal: 4s\tremaining: 7.93s\n",
      "67:\tlearn: 0.9057836\ttotal: 4.05s\tremaining: 7.87s\n",
      "68:\tlearn: 0.9069187\ttotal: 4.12s\tremaining: 7.82s\n",
      "69:\tlearn: 0.9071889\ttotal: 4.18s\tremaining: 7.76s\n",
      "70:\tlearn: 0.9073182\ttotal: 4.23s\tremaining: 7.69s\n",
      "71:\tlearn: 0.9078389\ttotal: 4.29s\tremaining: 7.62s\n",
      "72:\tlearn: 0.9079316\ttotal: 4.34s\tremaining: 7.56s\n",
      "73:\tlearn: 0.9093172\ttotal: 4.4s\tremaining: 7.5s\n",
      "74:\tlearn: 0.9098128\ttotal: 4.46s\tremaining: 7.43s\n",
      "75:\tlearn: 0.9105470\ttotal: 4.52s\tremaining: 7.37s\n",
      "76:\tlearn: 0.9107073\ttotal: 4.57s\tremaining: 7.31s\n",
      "77:\tlearn: 0.9111038\ttotal: 4.63s\tremaining: 7.24s\n",
      "78:\tlearn: 0.9128695\ttotal: 4.69s\tremaining: 7.18s\n",
      "79:\tlearn: 0.9132216\ttotal: 4.75s\tremaining: 7.13s\n",
      "80:\tlearn: 0.9140779\ttotal: 4.81s\tremaining: 7.07s\n",
      "81:\tlearn: 0.9145662\ttotal: 4.87s\tremaining: 7s\n",
      "82:\tlearn: 0.9150569\ttotal: 4.93s\tremaining: 6.94s\n",
      "83:\tlearn: 0.9157115\ttotal: 4.99s\tremaining: 6.89s\n",
      "84:\tlearn: 0.9161312\ttotal: 5.05s\tremaining: 6.83s\n",
      "85:\tlearn: 0.9165860\ttotal: 5.11s\tremaining: 6.77s\n",
      "86:\tlearn: 0.9167796\ttotal: 5.17s\tremaining: 6.71s\n",
      "87:\tlearn: 0.9170571\ttotal: 5.22s\tremaining: 6.65s\n",
      "88:\tlearn: 0.9181462\ttotal: 5.28s\tremaining: 6.59s\n",
      "89:\tlearn: 0.9185743\ttotal: 5.35s\tremaining: 6.54s\n",
      "90:\tlearn: 0.9187169\ttotal: 5.41s\tremaining: 6.48s\n",
      "91:\tlearn: 0.9189800\ttotal: 5.46s\tremaining: 6.42s\n",
      "92:\tlearn: 0.9189542\ttotal: 5.52s\tremaining: 6.35s\n",
      "93:\tlearn: 0.9191261\ttotal: 5.58s\tremaining: 6.29s\n",
      "94:\tlearn: 0.9191612\ttotal: 5.64s\tremaining: 6.24s\n",
      "95:\tlearn: 0.9195588\ttotal: 5.7s\tremaining: 6.17s\n",
      "96:\tlearn: 0.9196451\ttotal: 5.76s\tremaining: 6.11s\n",
      "97:\tlearn: 0.9199101\ttotal: 5.82s\tremaining: 6.06s\n",
      "98:\tlearn: 0.9203080\ttotal: 5.88s\tremaining: 6s\n",
      "99:\tlearn: 0.9204912\ttotal: 5.94s\tremaining: 5.94s\n",
      "100:\tlearn: 0.9210879\ttotal: 6s\tremaining: 5.88s\n",
      "101:\tlearn: 0.9216516\ttotal: 6.06s\tremaining: 5.82s\n",
      "102:\tlearn: 0.9218501\ttotal: 6.12s\tremaining: 5.76s\n",
      "103:\tlearn: 0.9225136\ttotal: 6.18s\tremaining: 5.7s\n",
      "104:\tlearn: 0.9228449\ttotal: 6.24s\tremaining: 5.64s\n",
      "105:\tlearn: 0.9234754\ttotal: 6.29s\tremaining: 5.58s\n",
      "106:\tlearn: 0.9239253\ttotal: 6.36s\tremaining: 5.53s\n",
      "107:\tlearn: 0.9240072\ttotal: 6.43s\tremaining: 5.47s\n",
      "108:\tlearn: 0.9242821\ttotal: 6.49s\tremaining: 5.41s\n",
      "109:\tlearn: 0.9243877\ttotal: 6.54s\tremaining: 5.35s\n",
      "110:\tlearn: 0.9247736\ttotal: 6.6s\tremaining: 5.29s\n",
      "111:\tlearn: 0.9256563\ttotal: 6.66s\tremaining: 5.23s\n",
      "112:\tlearn: 0.9258540\ttotal: 6.72s\tremaining: 5.17s\n",
      "113:\tlearn: 0.9261389\ttotal: 6.77s\tremaining: 5.11s\n",
      "114:\tlearn: 0.9262908\ttotal: 6.83s\tremaining: 5.05s\n",
      "115:\tlearn: 0.9264471\ttotal: 6.89s\tremaining: 4.99s\n",
      "116:\tlearn: 0.9269397\ttotal: 6.95s\tremaining: 4.93s\n",
      "117:\tlearn: 0.9272009\ttotal: 7.01s\tremaining: 4.87s\n",
      "118:\tlearn: 0.9277635\ttotal: 7.07s\tremaining: 4.81s\n",
      "119:\tlearn: 0.9278443\ttotal: 7.13s\tremaining: 4.75s\n",
      "120:\tlearn: 0.9281244\ttotal: 7.19s\tremaining: 4.69s\n",
      "121:\tlearn: 0.9281890\ttotal: 7.25s\tremaining: 4.63s\n",
      "122:\tlearn: 0.9282554\ttotal: 7.31s\tremaining: 4.57s\n",
      "123:\tlearn: 0.9283946\ttotal: 7.36s\tremaining: 4.51s\n",
      "124:\tlearn: 0.9284136\ttotal: 7.42s\tremaining: 4.45s\n",
      "125:\tlearn: 0.9287864\ttotal: 7.48s\tremaining: 4.39s\n",
      "126:\tlearn: 0.9294667\ttotal: 7.54s\tremaining: 4.33s\n",
      "127:\tlearn: 0.9294449\ttotal: 7.59s\tremaining: 4.27s\n",
      "128:\tlearn: 0.9296620\ttotal: 7.65s\tremaining: 4.21s\n",
      "129:\tlearn: 0.9298279\ttotal: 7.71s\tremaining: 4.15s\n",
      "130:\tlearn: 0.9298873\ttotal: 7.77s\tremaining: 4.09s\n",
      "131:\tlearn: 0.9301132\ttotal: 7.82s\tremaining: 4.03s\n",
      "132:\tlearn: 0.9308352\ttotal: 7.88s\tremaining: 3.97s\n",
      "133:\tlearn: 0.9309058\ttotal: 7.94s\tremaining: 3.91s\n",
      "134:\tlearn: 0.9310513\ttotal: 8s\tremaining: 3.85s\n",
      "135:\tlearn: 0.9310951\ttotal: 8.06s\tremaining: 3.79s\n",
      "136:\tlearn: 0.9311459\ttotal: 8.12s\tremaining: 3.73s\n",
      "137:\tlearn: 0.9311431\ttotal: 8.18s\tremaining: 3.67s\n",
      "138:\tlearn: 0.9313310\ttotal: 8.24s\tremaining: 3.61s\n",
      "139:\tlearn: 0.9314079\ttotal: 8.3s\tremaining: 3.56s\n",
      "140:\tlearn: 0.9315327\ttotal: 8.35s\tremaining: 3.5s\n",
      "141:\tlearn: 0.9316485\ttotal: 8.41s\tremaining: 3.44s\n",
      "142:\tlearn: 0.9319426\ttotal: 8.47s\tremaining: 3.38s\n",
      "143:\tlearn: 0.9320384\ttotal: 8.53s\tremaining: 3.32s\n",
      "144:\tlearn: 0.9322782\ttotal: 8.59s\tremaining: 3.26s\n",
      "145:\tlearn: 0.9327122\ttotal: 8.64s\tremaining: 3.2s\n",
      "146:\tlearn: 0.9329268\ttotal: 8.7s\tremaining: 3.14s\n",
      "147:\tlearn: 0.9335189\ttotal: 8.76s\tremaining: 3.08s\n",
      "148:\tlearn: 0.9336755\ttotal: 8.82s\tremaining: 3.02s\n",
      "149:\tlearn: 0.9338037\ttotal: 8.88s\tremaining: 2.96s\n",
      "150:\tlearn: 0.9339929\ttotal: 8.93s\tremaining: 2.9s\n",
      "151:\tlearn: 0.9340963\ttotal: 8.99s\tremaining: 2.84s\n",
      "152:\tlearn: 0.9341979\ttotal: 9.05s\tremaining: 2.78s\n",
      "153:\tlearn: 0.9344855\ttotal: 9.11s\tremaining: 2.72s\n",
      "154:\tlearn: 0.9345084\ttotal: 9.16s\tremaining: 2.66s\n",
      "155:\tlearn: 0.9345574\ttotal: 9.22s\tremaining: 2.6s\n",
      "156:\tlearn: 0.9351189\ttotal: 9.28s\tremaining: 2.54s\n",
      "157:\tlearn: 0.9354131\ttotal: 9.34s\tremaining: 2.48s\n",
      "158:\tlearn: 0.9355530\ttotal: 9.4s\tremaining: 2.42s\n",
      "159:\tlearn: 0.9356841\ttotal: 9.46s\tremaining: 2.36s\n",
      "160:\tlearn: 0.9357132\ttotal: 9.51s\tremaining: 2.3s\n",
      "161:\tlearn: 0.9364144\ttotal: 9.57s\tremaining: 2.24s\n",
      "162:\tlearn: 0.9363998\ttotal: 9.63s\tremaining: 2.19s\n"
     ]
    },
    {
     "name": "stdout",
     "output_type": "stream",
     "text": [
      "163:\tlearn: 0.9364097\ttotal: 9.69s\tremaining: 2.13s\n",
      "164:\tlearn: 0.9365134\ttotal: 9.74s\tremaining: 2.07s\n",
      "165:\tlearn: 0.9366232\ttotal: 9.8s\tremaining: 2.01s\n",
      "166:\tlearn: 0.9369917\ttotal: 9.86s\tremaining: 1.95s\n",
      "167:\tlearn: 0.9371526\ttotal: 9.92s\tremaining: 1.89s\n",
      "168:\tlearn: 0.9372115\ttotal: 9.98s\tremaining: 1.83s\n",
      "169:\tlearn: 0.9375587\ttotal: 10s\tremaining: 1.77s\n",
      "170:\tlearn: 0.9376685\ttotal: 10.1s\tremaining: 1.71s\n",
      "171:\tlearn: 0.9377218\ttotal: 10.2s\tremaining: 1.65s\n",
      "172:\tlearn: 0.9377919\ttotal: 10.2s\tremaining: 1.59s\n",
      "173:\tlearn: 0.9377684\ttotal: 10.3s\tremaining: 1.53s\n",
      "174:\tlearn: 0.9378575\ttotal: 10.3s\tremaining: 1.48s\n",
      "175:\tlearn: 0.9378754\ttotal: 10.4s\tremaining: 1.42s\n",
      "176:\tlearn: 0.9379553\ttotal: 10.4s\tremaining: 1.36s\n",
      "177:\tlearn: 0.9379761\ttotal: 10.5s\tremaining: 1.3s\n",
      "178:\tlearn: 0.9381560\ttotal: 10.6s\tremaining: 1.24s\n",
      "179:\tlearn: 0.9382085\ttotal: 10.6s\tremaining: 1.18s\n",
      "180:\tlearn: 0.9382287\ttotal: 10.7s\tremaining: 1.12s\n",
      "181:\tlearn: 0.9382404\ttotal: 10.7s\tremaining: 1.06s\n",
      "182:\tlearn: 0.9383925\ttotal: 10.8s\tremaining: 1s\n",
      "183:\tlearn: 0.9385596\ttotal: 10.9s\tremaining: 945ms\n",
      "184:\tlearn: 0.9387954\ttotal: 10.9s\tremaining: 885ms\n",
      "185:\tlearn: 0.9388763\ttotal: 11s\tremaining: 826ms\n",
      "186:\tlearn: 0.9389216\ttotal: 11s\tremaining: 767ms\n",
      "187:\tlearn: 0.9389376\ttotal: 11.1s\tremaining: 708ms\n",
      "188:\tlearn: 0.9389967\ttotal: 11.2s\tremaining: 649ms\n",
      "189:\tlearn: 0.9391827\ttotal: 11.2s\tremaining: 590ms\n",
      "190:\tlearn: 0.9393702\ttotal: 11.3s\tremaining: 531ms\n",
      "191:\tlearn: 0.9393557\ttotal: 11.3s\tremaining: 472ms\n",
      "192:\tlearn: 0.9394317\ttotal: 11.4s\tremaining: 413ms\n",
      "193:\tlearn: 0.9395358\ttotal: 11.4s\tremaining: 354ms\n",
      "194:\tlearn: 0.9396118\ttotal: 11.5s\tremaining: 295ms\n",
      "195:\tlearn: 0.9396341\ttotal: 11.6s\tremaining: 236ms\n",
      "196:\tlearn: 0.9397038\ttotal: 11.6s\tremaining: 177ms\n",
      "197:\tlearn: 0.9396882\ttotal: 11.7s\tremaining: 118ms\n",
      "198:\tlearn: 0.9397677\ttotal: 11.7s\tremaining: 59ms\n",
      "199:\tlearn: 0.9398963\ttotal: 11.8s\tremaining: 0us\n"
     ]
    },
    {
     "data": {
      "text/plain": [
       "<catboost.core.CatBoostClassifier at 0x1d57ceca1f0>"
      ]
     },
     "execution_count": 271,
     "metadata": {},
     "output_type": "execute_result"
    }
   ],
   "source": [
    "best_cat.fit(X_train_smote_1_selected,y_train_smote_1)"
   ]
  },
  {
   "cell_type": "code",
   "execution_count": 272,
   "metadata": {},
   "outputs": [
    {
     "name": "stdout",
     "output_type": "stream",
     "text": [
      "Base Model Result(Catboost) Train\n",
      "accuracy: 0.9370175\n",
      "precision: 0.09396004480955937\n",
      "recall: 0.2582424631173829\n",
      "f2: 0.19133525967607026\n"
     ]
    }
   ],
   "source": [
    "print_results(\"Base Model Result(Catboost) Train\", y_train, best_cat.predict(X_train_selected))"
   ]
  },
  {
   "cell_type": "code",
   "execution_count": 273,
   "metadata": {},
   "outputs": [
    {
     "name": "stdout",
     "output_type": "stream",
     "text": [
      "Base Model Result(Catboost) Test\n",
      "accuracy: 0.9354\n",
      "precision: 0.07984293193717278\n",
      "recall: 0.21719226856561547\n",
      "f2: 0.16159551922494705\n"
     ]
    }
   ],
   "source": [
    "print_results(\"Base Model Result(Catboost) Test\", y_test, best_cat.predict(X_test_selected))"
   ]
  },
  {
   "cell_type": "code",
   "execution_count": 114,
   "metadata": {},
   "outputs": [
    {
     "name": "stdout",
     "output_type": "stream",
     "text": [
      "              precision    recall  f1-score   support\n",
      "\n",
      "           0       0.98      0.96      0.97     98034\n",
      "           1       0.09      0.20      0.13      1966\n",
      "\n",
      "    accuracy                           0.94    100000\n",
      "   macro avg       0.54      0.58      0.55    100000\n",
      "weighted avg       0.97      0.94      0.95    100000\n",
      "\n"
     ]
    }
   ],
   "source": [
    "print(classification_report(y_test, best_cat.predict(X_test_selected)))"
   ]
  },
  {
   "cell_type": "code",
   "execution_count": 115,
   "metadata": {},
   "outputs": [
    {
     "data": {
      "text/plain": [
       "<matplotlib.axes._subplots.AxesSubplot at 0x1dcd70a6e50>"
      ]
     },
     "execution_count": 115,
     "metadata": {},
     "output_type": "execute_result"
    },
    {
     "data": {
      "image/png": "[encoded data removed]",
      "text/plain": [
       "<Figure size 432x288 with 2 Axes>"
      ]
     },
     "metadata": {
      "needs_background": "light"
     },
     "output_type": "display_data"
    }
   ],
   "source": [
    "sns.heatmap(confusion_matrix(y_test, best_cat.predict(X_test_selected)), annot=True, fmt='g')"
   ]
  },
  {
   "cell_type": "code",
   "execution_count": 116,
   "metadata": {},
   "outputs": [
    {
     "data": {
      "image/png": "[encoded data removed]",
      "text/plain": [
       "<Figure size 576x432 with 1 Axes>"
      ]
     },
     "metadata": {
      "needs_background": "light"
     },
     "output_type": "display_data"
    }
   ],
   "source": [
    "plot_roc_curve(best_cat, X_test_selected, y_test)"
   ]
  },
  {
   "cell_type": "markdown",
   "metadata": {},
   "source": [
    "Catboost also performed average. Now we will try XGBoost"
   ]
  },
  {
   "cell_type": "markdown",
   "metadata": {},
   "source": [
    "### XGBoost\n",
    "\n",
    "We will be tuning XGBoost with different parameters"
   ]
  },
  {
   "cell_type": "code",
   "execution_count": 59,
   "metadata": {},
   "outputs": [],
   "source": [
    "def xgboost_search(X, y, search_verbose=1):\n",
    "    params = {\n",
    "        \"gamma\":[0.5, 1, 1.5, 2, 5],\n",
    "        \"max_depth\":[4,5,6],\n",
    "        \"min_child_weight\": [100],\n",
    "        \"subsample\": [0.6, 0.8, 1.0],\n",
    "        \"colsample_bytree\": [0.6, 0.8, 1.0],\n",
    "        \"learning_rate\": [0.1, 0.01, 0.001]\n",
    "    }\n",
    "    xgb = XGBClassifier(objective=\"binary:logistic\", eval_metric=\"aucpr\", use_label_encoder=False)\n",
    "    skf = StratifiedKFold(n_splits=3, shuffle=True, random_state=1234)\n",
    "    grid_search = GridSearchCV(estimator=xgb, param_grid=params, scoring=\"f1\", n_jobs=-1, cv=skf.split(X,y), verbose=1000)\n",
    "    grid_search.fit(X, y)\n",
    "    print(\"Best estimator: \")\n",
    "    print(grid_search.best_estimator_)\n",
    "    print(\"Parameters: \", grid_search.best_params_)\n",
    "    print(\"Highest AUC: %.2f\" % grid_search.best_score_)\n",
    "    return grid_search.best_params_"
   ]
  },
  {
   "cell_type": "code",
   "execution_count": 60,
   "metadata": {},
   "outputs": [
    {
     "name": "stdout",
     "output_type": "stream",
     "text": [
      "Fitting 3 folds for each of 405 candidates, totalling 1215 fits\n",
      "Best estimator: \n",
      "XGBClassifier(base_score=0.5, booster='gbtree', colsample_bylevel=1,\n",
      "              colsample_bynode=1, colsample_bytree=0.6, eval_metric='aucpr',\n",
      "              gamma=2, gpu_id=-1, importance_type='gain',\n",
      "              interaction_constraints='', learning_rate=0.1, max_delta_step=0,\n",
      "              max_depth=5, min_child_weight=100, missing=nan,\n",
      "              monotone_constraints='()', n_estimators=100, n_jobs=16,\n",
      "              num_parallel_tree=1, random_state=0, reg_alpha=0, reg_lambda=1,\n",
      "              scale_pos_weight=1, subsample=1.0, tree_method='exact',\n",
      "              use_label_encoder=False, validate_parameters=1, verbosity=None)\n",
      "Parameters:  {'colsample_bytree': 0.6, 'gamma': 2, 'learning_rate': 0.1, 'max_depth': 5, 'min_child_weight': 100, 'subsample': 1.0}\n",
      "Highest AUC: 0.81\n"
     ]
    }
   ],
   "source": [
    "rows = random.sample(np.arange(0,len(X_train_smote_1_selected.index)).tolist(), 5000)\n",
    "model_params = xgboost_search(X_train_smote_1_selected.iloc[rows,], y_train_smote_1[rows,])"
   ]
  },
  {
   "cell_type": "code",
   "execution_count": 274,
   "metadata": {},
   "outputs": [],
   "source": [
    "best_xgb= XGBClassifier(base_score=0.5, booster='gbtree', colsample_bylevel=1,\n",
    "              colsample_bynode=1, colsample_bytree=0.6, eval_metric='aucpr',\n",
    "              gamma=2, gpu_id=-1, importance_type='gain',\n",
    "              interaction_constraints='', learning_rate=0.1, max_delta_step=0,\n",
    "              max_depth=5, min_child_weight=100,\n",
    "              monotone_constraints='()', n_estimators=100, n_jobs=16,\n",
    "              num_parallel_tree=1, random_state=0, reg_alpha=0, reg_lambda=1,\n",
    "              scale_pos_weight=1, subsample=1.0, tree_method='exact',\n",
    "              use_label_encoder=False, validate_parameters=1, verbosity=None)"
   ]
  },
  {
   "cell_type": "code",
   "execution_count": 275,
   "metadata": {},
   "outputs": [
    {
     "data": {
      "text/plain": [
       "XGBClassifier(base_score=0.5, booster='gbtree', colsample_bylevel=1,\n",
       "              colsample_bynode=1, colsample_bytree=0.6, eval_metric='aucpr',\n",
       "              gamma=2, gpu_id=-1, importance_type='gain',\n",
       "              interaction_constraints='', learning_rate=0.1, max_delta_step=0,\n",
       "              max_depth=5, min_child_weight=100, missing=nan,\n",
       "              monotone_constraints='()', n_estimators=100, n_jobs=16,\n",
       "              num_parallel_tree=1, random_state=0, reg_alpha=0, reg_lambda=1,\n",
       "              scale_pos_weight=1, subsample=1.0, tree_method='exact',\n",
       "              use_label_encoder=False, validate_parameters=1, verbosity=None)"
      ]
     },
     "execution_count": 275,
     "metadata": {},
     "output_type": "execute_result"
    }
   ],
   "source": [
    "best_xgb.fit(X_train_smote_1_selected, y_train_smote_1)"
   ]
  },
  {
   "cell_type": "code",
   "execution_count": 278,
   "metadata": {},
   "outputs": [
    {
     "name": "stdout",
     "output_type": "stream",
     "text": [
      "Base Model Result(XGBoost) Train\n",
      "accuracy: 0.907885\n",
      "precision: 0.08148212176218055\n",
      "recall: 0.3627966645285439\n",
      "f2: 0.21460986234006707\n"
     ]
    }
   ],
   "source": [
    "print_results(\"Base Model Result(XGBoost) Train\", y_train, best_xgb.predict(X_train_selected))"
   ]
  },
  {
   "cell_type": "code",
   "execution_count": 279,
   "metadata": {},
   "outputs": [
    {
     "name": "stdout",
     "output_type": "stream",
     "text": [
      "Base Model Result(XGBoost) Test\n",
      "accuracy: 0.90715\n",
      "precision: 0.07805834198086015\n",
      "recall: 0.344354018311292\n",
      "f2: 0.20469250770998368\n"
     ]
    }
   ],
   "source": [
    "print_results(\"Base Model Result(XGBoost) Test\", y_test, best_xgb.predict(X_test_selected))"
   ]
  },
  {
   "cell_type": "code",
   "execution_count": 65,
   "metadata": {},
   "outputs": [
    {
     "name": "stdout",
     "output_type": "stream",
     "text": [
      "              precision    recall  f1-score   support\n",
      "\n",
      "           0       0.99      0.92      0.95     98034\n",
      "           1       0.08      0.34      0.13      1966\n",
      "\n",
      "    accuracy                           0.91    100000\n",
      "   macro avg       0.53      0.63      0.54    100000\n",
      "weighted avg       0.97      0.91      0.93    100000\n",
      "\n"
     ]
    }
   ],
   "source": [
    "print(classification_report(y_test, best_xgb.predict(X_test_selected)))"
   ]
  },
  {
   "cell_type": "code",
   "execution_count": 104,
   "metadata": {},
   "outputs": [
    {
     "data": {
      "text/plain": [
       "<matplotlib.axes._subplots.AxesSubplot at 0x1d598d12fa0>"
      ]
     },
     "execution_count": 104,
     "metadata": {},
     "output_type": "execute_result"
    },
    {
     "data": {
      "image/png": "[encoded data removed]",
      "text/plain": [
       "<Figure size 432x288 with 2 Axes>"
      ]
     },
     "metadata": {
      "needs_background": "light"
     },
     "output_type": "display_data"
    }
   ],
   "source": [
    "sns.heatmap(confusion_matrix(y_train, best_xgb.predict(X_train_selected)), annot=True, fmt='g')"
   ]
  },
  {
   "cell_type": "code",
   "execution_count": 68,
   "metadata": {},
   "outputs": [
    {
     "data": {
      "image/png": "[encoded data removed]",
      "text/plain": [
       "<Figure size 576x432 with 1 Axes>"
      ]
     },
     "metadata": {
      "needs_background": "light"
     },
     "output_type": "display_data"
    }
   ],
   "source": [
    "plot_roc_curve(best_xgb, X_test_selected, y_test)"
   ]
  },
  {
   "cell_type": "code",
   "execution_count": 69,
   "metadata": {},
   "outputs": [
    {
     "data": {
      "image/png": "[encoded data removed]",
      "text/plain": [
       "<Figure size 576x432 with 1 Axes>"
      ]
     },
     "metadata": {
      "needs_background": "light"
     },
     "output_type": "display_data"
    }
   ],
   "source": [
    "plot_pr_curve(best_xgb, X_test_selected, y_test)"
   ]
  },
  {
   "cell_type": "code",
   "execution_count": 70,
   "metadata": {},
   "outputs": [
    {
     "data": {
      "text/plain": [
       "Text(0.5, 0.98, 'Impact of threshold adjustment on the error matrix')"
      ]
     },
     "execution_count": 70,
     "metadata": {},
     "output_type": "execute_result"
    },
    {
     "data": {
      "image/png": "[encoded data removed]",
      "text/plain": [
       "<Figure size 720x720 with 9 Axes>"
      ]
     },
     "metadata": {
      "needs_background": "light"
     },
     "output_type": "display_data"
    }
   ],
   "source": [
    "y_pred = best_xgb.predict_proba(X_test_selected)[:,1]\n",
    "fig, axes = plt.subplots(3,3, figsize=(10,10))\n",
    "for t, ax in enumerate(axes.flat):\n",
    "    threshold = (t+1)/10\n",
    "    y_pred_int = (y_pred > threshold).astype(int)\n",
    "    c_matrix = sklearn.metrics.confusion_matrix(y_test, y_pred_int)\n",
    "    sns.heatmap(c_matrix, annot=True, cmap=\"Blues\", fmt=\"d\", ax=ax, cbar=False)\n",
    "    ax.title.set_text(\"T=%.1f\" % threshold)\n",
    "plt.subplots_adjust(hspace=0.5, wspace=0.5)\n",
    "plt.suptitle(\"Impact of threshold adjustment on the error matrix\")"
   ]
  },
  {
   "cell_type": "markdown",
   "metadata": {},
   "source": [
    "Although the AUC score decreased but the f2 score improved"
   ]
  },
  {
   "cell_type": "markdown",
   "metadata": {},
   "source": [
    "### Light GBM with Optuna\n",
    "\n",
    "we will tune lightgbm with optuna. Optuna is a library for hyperparameter tuning using bayesian techniques "
   ]
  },
  {
   "cell_type": "code",
   "execution_count": 75,
   "metadata": {},
   "outputs": [],
   "source": [
    "import lightgbm as lgb"
   ]
  },
  {
   "cell_type": "code",
   "execution_count": 76,
   "metadata": {},
   "outputs": [],
   "source": [
    "import optuna\n",
    "def objective(trial):\n",
    "    X_train,X_test,y_train,y_test = train_test_split(X_train_smote_1_selected,y_train_smote_1,test_size=0.25)\n",
    "    dtrain = lgb.Dataset(X_train, label=y_train)\n",
    "\n",
    "    param = {\n",
    "        \"objective\": \"binary\",\n",
    "        \"metric\": \"auc\",\n",
    "        \"is_unbalance \":'True',\n",
    "        \"verbosity\": -1,\n",
    "        \"boosting_type\": \"gbdt\",\n",
    "        \"lambda_l1\": trial.suggest_float(\"lambda_l1\", 1e-8, 10.0, log=True),\n",
    "        \"lambda_l2\": trial.suggest_float(\"lambda_l2\", 1e-8, 10.0, log=True),\n",
    "        \"num_leaves\": trial.suggest_int(\"num_leaves\", 2, 256),\n",
    "        \"feature_fraction\": trial.suggest_float(\"feature_fraction\", 0.4, 1.0),\n",
    "        \"bagging_fraction\": trial.suggest_float(\"bagging_fraction\", 0.4, 1.0),\n",
    "        \"bagging_freq\": trial.suggest_int(\"bagging_freq\", 1, 7),\n",
    "        \"min_child_samples\": trial.suggest_int(\"min_child_samples\", 5, 100),\n",
    "    }\n",
    "\n",
    "    gbm = lgb.train(param, dtrain)\n",
    "    preds = gbm.predict(X_test)\n",
    "    pred_labels = np.rint(preds)\n",
    "    accuracy = sklearn.metrics.accuracy_score(y_test, pred_labels)\n",
    "    return accuracy"
   ]
  },
  {
   "cell_type": "code",
   "execution_count": 77,
   "metadata": {},
   "outputs": [
    {
     "name": "stderr",
     "output_type": "stream",
     "text": [
      "\u001b[32m[I 2021-12-12 04:47:13,965]\u001b[0m A new study created in memory with name: no-name-99978ceb-27f3-415d-9534-449ccfdcf544\u001b[0m\n"
     ]
    },
    {
     "name": "stdout",
     "output_type": "stream",
     "text": [
      "[LightGBM] [Warning] Unknown parameter: True\n"
     ]
    },
    {
     "name": "stderr",
     "output_type": "stream",
     "text": [
      "\u001b[32m[I 2021-12-12 04:47:16,800]\u001b[0m Trial 0 finished with value: 0.95886079983682 and parameters: {'lambda_l1': 0.011925886076390306, 'lambda_l2': 6.363934375295728e-08, 'num_leaves': 171, 'feature_fraction': 0.5536488416087494, 'bagging_fraction': 0.6053678622752915, 'bagging_freq': 4, 'min_child_samples': 99}. Best is trial 0 with value: 0.95886079983682.\u001b[0m\n"
     ]
    },
    {
     "name": "stdout",
     "output_type": "stream",
     "text": [
      "[LightGBM] [Warning] Unknown parameter: True\n"
     ]
    },
    {
     "name": "stderr",
     "output_type": "stream",
     "text": [
      "\u001b[32m[I 2021-12-12 04:47:19,108]\u001b[0m Trial 1 finished with value: 0.9386609043739881 and parameters: {'lambda_l1': 1.1218050715273966, 'lambda_l2': 2.6811338356377256e-07, 'num_leaves': 28, 'feature_fraction': 0.9010751338837633, 'bagging_fraction': 0.41149431854890284, 'bagging_freq': 6, 'min_child_samples': 19}. Best is trial 0 with value: 0.95886079983682.\u001b[0m\n"
     ]
    },
    {
     "name": "stdout",
     "output_type": "stream",
     "text": [
      "[LightGBM] [Warning] Unknown parameter: True\n"
     ]
    },
    {
     "name": "stderr",
     "output_type": "stream",
     "text": [
      "\u001b[32m[I 2021-12-12 04:47:21,224]\u001b[0m Trial 2 finished with value: 0.8445455820298058 and parameters: {'lambda_l1': 9.213565340602048e-06, 'lambda_l2': 0.05901315237809294, 'num_leaves': 4, 'feature_fraction': 0.5639109719811238, 'bagging_fraction': 0.9101659401587792, 'bagging_freq': 2, 'min_child_samples': 34}. Best is trial 0 with value: 0.95886079983682.\u001b[0m\n"
     ]
    },
    {
     "name": "stdout",
     "output_type": "stream",
     "text": [
      "[LightGBM] [Warning] Unknown parameter: True\n"
     ]
    },
    {
     "name": "stderr",
     "output_type": "stream",
     "text": [
      "\u001b[32m[I 2021-12-12 04:47:23,272]\u001b[0m Trial 3 finished with value: 0.9509822669267347 and parameters: {'lambda_l1': 0.0013483327975708042, 'lambda_l2': 2.724763289315659e-07, 'num_leaves': 70, 'feature_fraction': 0.8711756631127092, 'bagging_fraction': 0.40460693768811756, 'bagging_freq': 7, 'min_child_samples': 66}. Best is trial 0 with value: 0.95886079983682.\u001b[0m\n"
     ]
    },
    {
     "name": "stdout",
     "output_type": "stream",
     "text": [
      "[LightGBM] [Warning] Unknown parameter: True\n"
     ]
    },
    {
     "name": "stderr",
     "output_type": "stream",
     "text": [
      "\u001b[32m[I 2021-12-12 04:47:26,124]\u001b[0m Trial 4 finished with value: 0.9612256345533585 and parameters: {'lambda_l1': 1.02837833843506e-06, 'lambda_l2': 3.830810636528695e-08, 'num_leaves': 213, 'feature_fraction': 0.7839362127034717, 'bagging_fraction': 0.6119390604228472, 'bagging_freq': 4, 'min_child_samples': 75}. Best is trial 4 with value: 0.9612256345533585.\u001b[0m\n"
     ]
    },
    {
     "name": "stdout",
     "output_type": "stream",
     "text": [
      "[LightGBM] [Warning] Unknown parameter: True\n"
     ]
    },
    {
     "name": "stderr",
     "output_type": "stream",
     "text": [
      "\u001b[32m[I 2021-12-12 04:47:29,052]\u001b[0m Trial 5 finished with value: 0.9594344794176515 and parameters: {'lambda_l1': 0.00026409211865223876, 'lambda_l2': 0.7176054289326712, 'num_leaves': 167, 'feature_fraction': 0.7038346451597068, 'bagging_fraction': 0.9472059478580191, 'bagging_freq': 3, 'min_child_samples': 95}. Best is trial 4 with value: 0.9612256345533585.\u001b[0m\n"
     ]
    },
    {
     "name": "stdout",
     "output_type": "stream",
     "text": [
      "[LightGBM] [Warning] Unknown parameter: True\n"
     ]
    },
    {
     "name": "stderr",
     "output_type": "stream",
     "text": [
      "\u001b[32m[I 2021-12-12 04:47:31,470]\u001b[0m Trial 6 finished with value: 0.9536020703458651 and parameters: {'lambda_l1': 1.108257654265926, 'lambda_l2': 5.882588060814583e-08, 'num_leaves': 107, 'feature_fraction': 0.7512130525066065, 'bagging_fraction': 0.815806004021867, 'bagging_freq': 4, 'min_child_samples': 58}. Best is trial 4 with value: 0.9612256345533585.\u001b[0m\n"
     ]
    },
    {
     "name": "stdout",
     "output_type": "stream",
     "text": [
      "[LightGBM] [Warning] Unknown parameter: True\n"
     ]
    },
    {
     "name": "stderr",
     "output_type": "stream",
     "text": [
      "\u001b[32m[I 2021-12-12 04:47:34,247]\u001b[0m Trial 7 finished with value: 0.956572455731059 and parameters: {'lambda_l1': 3.291455071149072e-07, 'lambda_l2': 1.4980746815896415e-08, 'num_leaves': 151, 'feature_fraction': 0.443288612619564, 'bagging_fraction': 0.9520484361415151, 'bagging_freq': 3, 'min_child_samples': 98}. Best is trial 4 with value: 0.9612256345533585.\u001b[0m\n"
     ]
    },
    {
     "name": "stdout",
     "output_type": "stream",
     "text": [
      "[LightGBM] [Warning] Unknown parameter: True\n"
     ]
    },
    {
     "name": "stderr",
     "output_type": "stream",
     "text": [
      "\u001b[32m[I 2021-12-12 04:47:36,435]\u001b[0m Trial 8 finished with value: 0.9514157137211408 and parameters: {'lambda_l1': 1.0738168825287684e-05, 'lambda_l2': 0.30739993799348364, 'num_leaves': 85, 'feature_fraction': 0.5611282820779051, 'bagging_fraction': 0.4433804449205776, 'bagging_freq': 4, 'min_child_samples': 93}. Best is trial 4 with value: 0.9612256345533585.\u001b[0m\n"
     ]
    },
    {
     "name": "stdout",
     "output_type": "stream",
     "text": [
      "[LightGBM] [Warning] Unknown parameter: True\n"
     ]
    },
    {
     "name": "stderr",
     "output_type": "stream",
     "text": [
      "\u001b[32m[I 2021-12-12 04:47:39,747]\u001b[0m Trial 9 finished with value: 0.9624112390204103 and parameters: {'lambda_l1': 0.00040472921741871627, 'lambda_l2': 1.623904405818253, 'num_leaves': 254, 'feature_fraction': 0.8675881049316996, 'bagging_fraction': 0.6403305885874366, 'bagging_freq': 5, 'min_child_samples': 68}. Best is trial 9 with value: 0.9624112390204103.\u001b[0m\n"
     ]
    },
    {
     "name": "stdout",
     "output_type": "stream",
     "text": [
      "[LightGBM] [Warning] Unknown parameter: True\n"
     ]
    },
    {
     "name": "stderr",
     "output_type": "stream",
     "text": [
      "\u001b[32m[I 2021-12-12 04:47:43,347]\u001b[0m Trial 10 finished with value: 0.9618885531800971 and parameters: {'lambda_l1': 0.023523097907323813, 'lambda_l2': 0.0014793856293050353, 'num_leaves': 246, 'feature_fraction': 0.9203725446526809, 'bagging_fraction': 0.6997156727965392, 'bagging_freq': 6, 'min_child_samples': 41}. Best is trial 9 with value: 0.9624112390204103.\u001b[0m\n"
     ]
    },
    {
     "name": "stdout",
     "output_type": "stream",
     "text": [
      "[LightGBM] [Warning] Unknown parameter: True\n"
     ]
    },
    {
     "name": "stderr",
     "output_type": "stream",
     "text": [
      "\u001b[32m[I 2021-12-12 04:47:46,526]\u001b[0m Trial 11 finished with value: 0.9626343366351781 and parameters: {'lambda_l1': 0.021201904551848016, 'lambda_l2': 0.000993661983205785, 'num_leaves': 256, 'feature_fraction': 0.9886659734762022, 'bagging_fraction': 0.7363567801845725, 'bagging_freq': 6, 'min_child_samples': 41}. Best is trial 11 with value: 0.9626343366351781.\u001b[0m\n"
     ]
    },
    {
     "name": "stdout",
     "output_type": "stream",
     "text": [
      "[LightGBM] [Warning] Unknown parameter: True\n"
     ]
    },
    {
     "name": "stderr",
     "output_type": "stream",
     "text": [
      "\u001b[32m[I 2021-12-12 04:47:49,750]\u001b[0m Trial 12 finished with value: 0.9635904692698971 and parameters: {'lambda_l1': 1.4112685382884997e-08, 'lambda_l2': 7.793084819513229e-05, 'num_leaves': 249, 'feature_fraction': 0.9737498653579578, 'bagging_fraction': 0.7694599094370775, 'bagging_freq': 6, 'min_child_samples': 7}. Best is trial 12 with value: 0.9635904692698971.\u001b[0m\n"
     ]
    },
    {
     "name": "stdout",
     "output_type": "stream",
     "text": [
      "[LightGBM] [Warning] Unknown parameter: True\n"
     ]
    },
    {
     "name": "stderr",
     "output_type": "stream",
     "text": [
      "\u001b[32m[I 2021-12-12 04:47:52,851]\u001b[0m Trial 13 finished with value: 0.9617419461761069 and parameters: {'lambda_l1': 5.467861931040378e-08, 'lambda_l2': 6.280415344522203e-05, 'num_leaves': 223, 'feature_fraction': 0.9911279463013031, 'bagging_fraction': 0.7977283863383728, 'bagging_freq': 7, 'min_child_samples': 15}. Best is trial 12 with value: 0.9635904692698971.\u001b[0m\n"
     ]
    },
    {
     "name": "stdout",
     "output_type": "stream",
     "text": [
      "[LightGBM] [Warning] Unknown parameter: True\n"
     ]
    },
    {
     "name": "stderr",
     "output_type": "stream",
     "text": [
      "\u001b[32m[I 2021-12-12 04:47:56,408]\u001b[0m Trial 14 finished with value: 0.9610216595912852 and parameters: {'lambda_l1': 1.3054501236132875e-08, 'lambda_l2': 2.336692764367593e-05, 'num_leaves': 202, 'feature_fraction': 0.9696500865521143, 'bagging_fraction': 0.8025471541212021, 'bagging_freq': 6, 'min_child_samples': 32}. Best is trial 12 with value: 0.9635904692698971.\u001b[0m\n"
     ]
    },
    {
     "name": "stdout",
     "output_type": "stream",
     "text": [
      "[LightGBM] [Warning] Unknown parameter: True\n"
     ]
    },
    {
     "name": "stderr",
     "output_type": "stream",
     "text": [
      "\u001b[32m[I 2021-12-12 04:47:59,237]\u001b[0m Trial 15 finished with value: 0.9609706658507668 and parameters: {'lambda_l1': 0.06308907730011679, 'lambda_l2': 0.0035158342609333424, 'num_leaves': 195, 'feature_fraction': 0.8158727190659489, 'bagging_fraction': 0.7293150994218286, 'bagging_freq': 5, 'min_child_samples': 10}. Best is trial 12 with value: 0.9635904692698971.\u001b[0m\n"
     ]
    },
    {
     "name": "stdout",
     "output_type": "stream",
     "text": [
      "[LightGBM] [Warning] Unknown parameter: True\n"
     ]
    },
    {
     "name": "stderr",
     "output_type": "stream",
     "text": [
      "\u001b[32m[I 2021-12-12 04:48:02,116]\u001b[0m Trial 16 finished with value: 0.9590201552759399 and parameters: {'lambda_l1': 8.334582088748434, 'lambda_l2': 3.657970109355309e-06, 'num_leaves': 236, 'feature_fraction': 0.9693304567780401, 'bagging_fraction': 0.5552585572268962, 'bagging_freq': 1, 'min_child_samples': 45}. Best is trial 12 with value: 0.9635904692698971.\u001b[0m\n"
     ]
    },
    {
     "name": "stdout",
     "output_type": "stream",
     "text": [
      "[LightGBM] [Warning] Unknown parameter: True\n"
     ]
    },
    {
     "name": "stderr",
     "output_type": "stream",
     "text": [
      "\u001b[32m[I 2021-12-12 04:48:04,689]\u001b[0m Trial 17 finished with value: 0.9565469588607999 and parameters: {'lambda_l1': 2.6179614890798263e-05, 'lambda_l2': 0.018931573472845204, 'num_leaves': 128, 'feature_fraction': 0.6413072013819044, 'bagging_fraction': 0.7492030442933968, 'bagging_freq': 5, 'min_child_samples': 26}. Best is trial 12 with value: 0.9635904692698971.\u001b[0m\n"
     ]
    },
    {
     "name": "stdout",
     "output_type": "stream",
     "text": [
      "[LightGBM] [Warning] Unknown parameter: True\n"
     ]
    },
    {
     "name": "stderr",
     "output_type": "stream",
     "text": [
      "\u001b[32m[I 2021-12-12 04:48:07,987]\u001b[0m Trial 18 finished with value: 0.9631124029525375 and parameters: {'lambda_l1': 0.004299069733001423, 'lambda_l2': 0.00027796220400271027, 'num_leaves': 256, 'feature_fraction': 0.8402741835870207, 'bagging_fraction': 0.868708884043894, 'bagging_freq': 7, 'min_child_samples': 7}. Best is trial 12 with value: 0.9635904692698971.\u001b[0m\n"
     ]
    },
    {
     "name": "stdout",
     "output_type": "stream",
     "text": [
      "[LightGBM] [Warning] Unknown parameter: True\n"
     ]
    },
    {
     "name": "stderr",
     "output_type": "stream",
     "text": [
      "\u001b[32m[I 2021-12-12 04:48:10,906]\u001b[0m Trial 19 finished with value: 0.9603013730064635 and parameters: {'lambda_l1': 0.00011022248160993035, 'lambda_l2': 6.584106522935442e-05, 'num_leaves': 189, 'feature_fraction': 0.8340400940289991, 'bagging_fraction': 0.8778993536805345, 'bagging_freq': 7, 'min_child_samples': 5}. Best is trial 12 with value: 0.9635904692698971.\u001b[0m\n"
     ]
    },
    {
     "name": "stdout",
     "output_type": "stream",
     "text": [
      "[LightGBM] [Warning] Unknown parameter: True\n"
     ]
    },
    {
     "name": "stderr",
     "output_type": "stream",
     "text": [
      "\u001b[32m[I 2021-12-12 04:48:14,022]\u001b[0m Trial 20 finished with value: 0.9617419461761069 and parameters: {'lambda_l1': 0.0027142717912885094, 'lambda_l2': 4.419890636370434e-06, 'num_leaves': 223, 'feature_fraction': 0.7263818368781467, 'bagging_fraction': 0.8642112844611427, 'bagging_freq': 7, 'min_child_samples': 21}. Best is trial 12 with value: 0.9635904692698971.\u001b[0m\n"
     ]
    },
    {
     "name": "stdout",
     "output_type": "stream",
     "text": [
      "[LightGBM] [Warning] Unknown parameter: True\n"
     ]
    },
    {
     "name": "stderr",
     "output_type": "stream",
     "text": [
      "\u001b[32m[I 2021-12-12 04:48:17,152]\u001b[0m Trial 21 finished with value: 0.9630614092120192 and parameters: {'lambda_l1': 0.1625424220296169, 'lambda_l2': 0.00042099002573865745, 'num_leaves': 254, 'feature_fraction': 0.9516084570102323, 'bagging_fraction': 0.6896454304026656, 'bagging_freq': 6, 'min_child_samples': 5}. Best is trial 12 with value: 0.9635904692698971.\u001b[0m\n"
     ]
    },
    {
     "name": "stdout",
     "output_type": "stream",
     "text": [
      "[LightGBM] [Warning] Unknown parameter: True\n"
     ]
    },
    {
     "name": "stderr",
     "output_type": "stream",
     "text": [
      "\u001b[32m[I 2021-12-12 04:48:20,215]\u001b[0m Trial 22 finished with value: 0.9619650437908747 and parameters: {'lambda_l1': 0.2051861616968214, 'lambda_l2': 0.00022571275495130474, 'num_leaves': 231, 'feature_fraction': 0.9243143399966987, 'bagging_fraction': 0.6593212461982959, 'bagging_freq': 6, 'min_child_samples': 5}. Best is trial 12 with value: 0.9635904692698971.\u001b[0m\n"
     ]
    },
    {
     "name": "stdout",
     "output_type": "stream",
     "text": [
      "[LightGBM] [Warning] Unknown parameter: True\n"
     ]
    },
    {
     "name": "stderr",
     "output_type": "stream",
     "text": [
      "\u001b[32m[I 2021-12-12 04:48:23,105]\u001b[0m Trial 23 finished with value: 0.962079779707041 and parameters: {'lambda_l1': 0.0027200561526743152, 'lambda_l2': 0.009041614109159287, 'num_leaves': 255, 'feature_fraction': 0.9382109661325426, 'bagging_fraction': 0.5251100885696058, 'bagging_freq': 7, 'min_child_samples': 14}. Best is trial 12 with value: 0.9635904692698971.\u001b[0m\n"
     ]
    },
    {
     "name": "stdout",
     "output_type": "stream",
     "text": [
      "[LightGBM] [Warning] Unknown parameter: True\n"
     ]
    },
    {
     "name": "stderr",
     "output_type": "stream",
     "text": [
      "\u001b[32m[I 2021-12-12 04:48:27,994]\u001b[0m Trial 24 finished with value: 0.9596002090743361 and parameters: {'lambda_l1': 0.3537088494366073, 'lambda_l2': 8.913547154058959, 'num_leaves': 210, 'feature_fraction': 0.8564409095193635, 'bagging_fraction': 0.8357190740365794, 'bagging_freq': 5, 'min_child_samples': 26}. Best is trial 12 with value: 0.9635904692698971.\u001b[0m\n"
     ]
    },
    {
     "name": "stdout",
     "output_type": "stream",
     "text": [
      "[LightGBM] [Warning] Unknown parameter: True\n"
     ]
    },
    {
     "name": "stderr",
     "output_type": "stream",
     "text": [
      "\u001b[32m[I 2021-12-12 04:48:31,085]\u001b[0m Trial 25 finished with value: 0.9571652579645848 and parameters: {'lambda_l1': 9.044569048874108, 'lambda_l2': 0.0003269145756189186, 'num_leaves': 181, 'feature_fraction': 0.8066861941754806, 'bagging_fraction': 0.9959604218186292, 'bagging_freq': 6, 'min_child_samples': 5}. Best is trial 12 with value: 0.9635904692698971.\u001b[0m\n"
     ]
    },
    {
     "name": "stdout",
     "output_type": "stream",
     "text": [
      "[LightGBM] [Warning] Unknown parameter: True\n"
     ]
    },
    {
     "name": "stderr",
     "output_type": "stream",
     "text": [
      "\u001b[32m[I 2021-12-12 04:48:34,203]\u001b[0m Trial 26 finished with value: 0.9620287859665226 and parameters: {'lambda_l1': 6.350006198309611e-07, 'lambda_l2': 1.6329721266160396e-05, 'num_leaves': 231, 'feature_fraction': 0.899168801796552, 'bagging_fraction': 0.7722214620023635, 'bagging_freq': 7, 'min_child_samples': 13}. Best is trial 12 with value: 0.9635904692698971.\u001b[0m\n"
     ]
    },
    {
     "name": "stdout",
     "output_type": "stream",
     "text": [
      "[LightGBM] [Warning] Unknown parameter: True\n"
     ]
    },
    {
     "name": "stderr",
     "output_type": "stream",
     "text": [
      "\u001b[32m[I 2021-12-12 04:48:37,112]\u001b[0m Trial 27 finished with value: 0.9580703968587856 and parameters: {'lambda_l1': 0.006050504302216652, 'lambda_l2': 2.1823856473167062e-06, 'num_leaves': 144, 'feature_fraction': 0.953325653298957, 'bagging_fraction': 0.6890238805065679, 'bagging_freq': 5, 'min_child_samples': 24}. Best is trial 12 with value: 0.9635904692698971.\u001b[0m\n"
     ]
    },
    {
     "name": "stdout",
     "output_type": "stream",
     "text": [
      "[LightGBM] [Warning] Unknown parameter: True\n"
     ]
    },
    {
     "name": "stderr",
     "output_type": "stream",
     "text": [
      "\u001b[32m[I 2021-12-12 04:48:40,693]\u001b[0m Trial 28 finished with value: 0.9629657959485474 and parameters: {'lambda_l1': 0.07909693803404212, 'lambda_l2': 0.00039656511878142077, 'num_leaves': 235, 'feature_fraction': 0.7609987242482223, 'bagging_fraction': 0.8715974791018023, 'bagging_freq': 6, 'min_child_samples': 32}. Best is trial 12 with value: 0.9635904692698971.\u001b[0m\n"
     ]
    },
    {
     "name": "stdout",
     "output_type": "stream",
     "text": [
      "[LightGBM] [Warning] Unknown parameter: True\n"
     ]
    },
    {
     "name": "stderr",
     "output_type": "stream",
     "text": [
      "\u001b[32m[I 2021-12-12 04:48:43,615]\u001b[0m Trial 29 finished with value: 0.9596766996851136 and parameters: {'lambda_l1': 7.719955172942513e-05, 'lambda_l2': 0.03972716309338738, 'num_leaves': 173, 'feature_fraction': 0.8801143226512367, 'bagging_fraction': 0.7626450407057379, 'bagging_freq': 7, 'min_child_samples': 83}. Best is trial 12 with value: 0.9635904692698971.\u001b[0m\n"
     ]
    },
    {
     "name": "stdout",
     "output_type": "stream",
     "text": [
      "[LightGBM] [Warning] Unknown parameter: True\n"
     ]
    },
    {
     "name": "stderr",
     "output_type": "stream",
     "text": [
      "\u001b[32m[I 2021-12-12 04:48:46,317]\u001b[0m Trial 30 finished with value: 0.960530844838796 and parameters: {'lambda_l1': 2.7974952246165243e-06, 'lambda_l2': 9.47659991292987e-05, 'num_leaves': 209, 'feature_fraction': 0.4505581586359677, 'bagging_fraction': 0.5415007522181394, 'bagging_freq': 3, 'min_child_samples': 18}. Best is trial 12 with value: 0.9635904692698971.\u001b[0m\n"
     ]
    },
    {
     "name": "stdout",
     "output_type": "stream",
     "text": [
      "[LightGBM] [Warning] Unknown parameter: True\n"
     ]
    },
    {
     "name": "stderr",
     "output_type": "stream",
     "text": [
      "\u001b[32m[I 2021-12-12 04:48:49,560]\u001b[0m Trial 31 finished with value: 0.9615315969964687 and parameters: {'lambda_l1': 0.07423371911757297, 'lambda_l2': 0.00042208192552581786, 'num_leaves': 240, 'feature_fraction': 0.6580663987955753, 'bagging_fraction': 0.8636592732848917, 'bagging_freq': 6, 'min_child_samples': 31}. Best is trial 12 with value: 0.9635904692698971.\u001b[0m\n"
     ]
    },
    {
     "name": "stdout",
     "output_type": "stream",
     "text": [
      "[LightGBM] [Warning] Unknown parameter: True\n"
     ]
    },
    {
     "name": "stderr",
     "output_type": "stream",
     "text": [
      "\u001b[32m[I 2021-12-12 04:48:53,241]\u001b[0m Trial 32 finished with value: 0.9627681952040387 and parameters: {'lambda_l1': 1.2761655316349703, 'lambda_l2': 0.0024019409891228643, 'num_leaves': 241, 'feature_fraction': 0.7715744855883984, 'bagging_fraction': 0.9212159512355553, 'bagging_freq': 6, 'min_child_samples': 9}. Best is trial 12 with value: 0.9635904692698971.\u001b[0m\n"
     ]
    },
    {
     "name": "stdout",
     "output_type": "stream",
     "text": [
      "[LightGBM] [Warning] Unknown parameter: True\n"
     ]
    },
    {
     "name": "stderr",
     "output_type": "stream",
     "text": [
      "\u001b[32m[I 2021-12-12 04:48:57,595]\u001b[0m Trial 33 finished with value: 0.9617546946112364 and parameters: {'lambda_l1': 0.09686887069971471, 'lambda_l2': 1.258367873256256e-05, 'num_leaves': 223, 'feature_fraction': 0.6824543294874594, 'bagging_fraction': 0.8869796783128868, 'bagging_freq': 5, 'min_child_samples': 49}. Best is trial 12 with value: 0.9635904692698971.\u001b[0m\n"
     ]
    },
    {
     "name": "stdout",
     "output_type": "stream",
     "text": [
      "[LightGBM] [Warning] Unknown parameter: True\n"
     ]
    },
    {
     "name": "stderr",
     "output_type": "stream",
     "text": [
      "\u001b[32m[I 2021-12-12 04:48:59,658]\u001b[0m Trial 34 finished with value: 0.9483178439846509 and parameters: {'lambda_l1': 0.015048356538879292, 'lambda_l2': 4.288831255642598e-07, 'num_leaves': 56, 'feature_fraction': 0.6171562110818696, 'bagging_fraction': 0.8235517019737961, 'bagging_freq': 6, 'min_child_samples': 20}. Best is trial 12 with value: 0.9635904692698971.\u001b[0m\n"
     ]
    },
    {
     "name": "stdout",
     "output_type": "stream",
     "text": [
      "[LightGBM] [Warning] Unknown parameter: True\n"
     ]
    },
    {
     "name": "stderr",
     "output_type": "stream",
     "text": [
      "\u001b[32m[I 2021-12-12 04:49:02,832]\u001b[0m Trial 35 finished with value: 0.9621817671880777 and parameters: {'lambda_l1': 0.0005712781660793487, 'lambda_l2': 0.00625606293300089, 'num_leaves': 242, 'feature_fraction': 0.8449713328532791, 'bagging_fraction': 0.8459433884631089, 'bagging_freq': 7, 'min_child_samples': 11}. Best is trial 12 with value: 0.9635904692698971.\u001b[0m\n"
     ]
    },
    {
     "name": "stdout",
     "output_type": "stream",
     "text": [
      "[LightGBM] [Warning] Unknown parameter: True\n"
     ]
    },
    {
     "name": "stderr",
     "output_type": "stream",
     "text": [
      "\u001b[32m[I 2021-12-12 04:49:04,347]\u001b[0m Trial 36 finished with value: 0.9152547774760648 and parameters: {'lambda_l1': 0.5063349699999149, 'lambda_l2': 0.0005954045506660977, 'num_leaves': 13, 'feature_fraction': 0.9050015628208002, 'bagging_fraction': 0.9127124843023643, 'bagging_freq': 5, 'min_child_samples': 35}. Best is trial 12 with value: 0.9635904692698971.\u001b[0m\n"
     ]
    },
    {
     "name": "stdout",
     "output_type": "stream",
     "text": [
      "[LightGBM] [Warning] Unknown parameter: True\n"
     ]
    },
    {
     "name": "stderr",
     "output_type": "stream",
     "text": [
      "\u001b[32m[I 2021-12-12 04:49:07,533]\u001b[0m Trial 37 finished with value: 0.9613212478168305 and parameters: {'lambda_l1': 2.2424198589154303, 'lambda_l2': 0.0001527377721492565, 'num_leaves': 220, 'feature_fraction': 0.7421872014428592, 'bagging_fraction': 0.7842773286624493, 'bagging_freq': 7, 'min_child_samples': 54}. Best is trial 12 with value: 0.9635904692698971.\u001b[0m\n"
     ]
    },
    {
     "name": "stdout",
     "output_type": "stream",
     "text": [
      "[LightGBM] [Warning] Unknown parameter: True\n"
     ]
    },
    {
     "name": "stderr",
     "output_type": "stream",
     "text": [
      "\u001b[32m[I 2021-12-12 04:49:10,585]\u001b[0m Trial 38 finished with value: 0.9599762879106589 and parameters: {'lambda_l1': 0.007416395374204041, 'lambda_l2': 3.0194988736432967e-05, 'num_leaves': 198, 'feature_fraction': 0.7975154318793998, 'bagging_fraction': 0.997384121188103, 'bagging_freq': 6, 'min_child_samples': 17}. Best is trial 12 with value: 0.9635904692698971.\u001b[0m\n"
     ]
    },
    {
     "name": "stdout",
     "output_type": "stream",
     "text": [
      "[LightGBM] [Warning] Unknown parameter: True\n"
     ]
    },
    {
     "name": "stderr",
     "output_type": "stream",
     "text": [
      "\u001b[32m[I 2021-12-12 04:49:13,194]\u001b[0m Trial 39 finished with value: 0.9572353743577976 and parameters: {'lambda_l1': 0.046215678199029296, 'lambda_l2': 0.0013053390012806197, 'num_leaves': 159, 'feature_fraction': 0.4981443620428502, 'bagging_fraction': 0.5832731922841312, 'bagging_freq': 4, 'min_child_samples': 27}. Best is trial 12 with value: 0.9635904692698971.\u001b[0m\n"
     ]
    },
    {
     "name": "stdout",
     "output_type": "stream",
     "text": [
      "[LightGBM] [Warning] Unknown parameter: True\n"
     ]
    },
    {
     "name": "stderr",
     "output_type": "stream",
     "text": [
      "\u001b[32m[I 2021-12-12 04:49:16,386]\u001b[0m Trial 40 finished with value: 0.9627809436391683 and parameters: {'lambda_l1': 0.0010143741336969291, 'lambda_l2': 7.450210269340291e-07, 'num_leaves': 253, 'feature_fraction': 0.7682823136894554, 'bagging_fraction': 0.6674801697411799, 'bagging_freq': 6, 'min_child_samples': 38}. Best is trial 12 with value: 0.9635904692698971.\u001b[0m\n"
     ]
    },
    {
     "name": "stdout",
     "output_type": "stream",
     "text": [
      "[LightGBM] [Warning] Unknown parameter: True\n"
     ]
    },
    {
     "name": "stderr",
     "output_type": "stream",
     "text": [
      "\u001b[32m[I 2021-12-12 04:49:19,712]\u001b[0m Trial 41 finished with value: 0.9616399586950701 and parameters: {'lambda_l1': 0.0014295425974674145, 'lambda_l2': 6.617161505744027e-07, 'num_leaves': 248, 'feature_fraction': 0.7665296972686677, 'bagging_fraction': 0.6170092056607526, 'bagging_freq': 6, 'min_child_samples': 39}. Best is trial 12 with value: 0.9635904692698971.\u001b[0m\n"
     ]
    },
    {
     "name": "stdout",
     "output_type": "stream",
     "text": [
      "[LightGBM] [Warning] Unknown parameter: True\n"
     ]
    },
    {
     "name": "stderr",
     "output_type": "stream",
     "text": [
      "\u001b[32m[I 2021-12-12 04:49:22,872]\u001b[0m Trial 42 finished with value: 0.9622136382759017 and parameters: {'lambda_l1': 0.0047370212231841215, 'lambda_l2': 1.6307957531139117e-07, 'num_leaves': 233, 'feature_fraction': 0.712047388608413, 'bagging_fraction': 0.6859836591847228, 'bagging_freq': 6, 'min_child_samples': 57}. Best is trial 12 with value: 0.9635904692698971.\u001b[0m\n"
     ]
    },
    {
     "name": "stdout",
     "output_type": "stream",
     "text": [
      "[LightGBM] [Warning] Unknown parameter: True\n"
     ]
    },
    {
     "name": "stderr",
     "output_type": "stream",
     "text": [
      "\u001b[32m[I 2021-12-12 04:49:26,095]\u001b[0m Trial 43 finished with value: 0.9630486607768897 and parameters: {'lambda_l1': 0.0005941340575437484, 'lambda_l2': 1.0260414737400653e-08, 'num_leaves': 256, 'feature_fraction': 0.8894358439676572, 'bagging_fraction': 0.7223259091631367, 'bagging_freq': 7, 'min_child_samples': 48}. Best is trial 12 with value: 0.9635904692698971.\u001b[0m\n"
     ]
    },
    {
     "name": "stdout",
     "output_type": "stream",
     "text": [
      "[LightGBM] [Warning] Unknown parameter: True\n"
     ]
    },
    {
     "name": "stderr",
     "output_type": "stream",
     "text": [
      "\u001b[32m[I 2021-12-12 04:49:29,943]\u001b[0m Trial 44 finished with value: 0.9611236470723219 and parameters: {'lambda_l1': 6.178176163440971e-05, 'lambda_l2': 0.31484212613755563, 'num_leaves': 211, 'feature_fraction': 0.8889622270430556, 'bagging_fraction': 0.9516918420901818, 'bagging_freq': 7, 'min_child_samples': 63}. Best is trial 12 with value: 0.9635904692698971.\u001b[0m\n"
     ]
    },
    {
     "name": "stdout",
     "output_type": "stream",
     "text": [
      "[LightGBM] [Warning] Unknown parameter: True\n"
     ]
    },
    {
     "name": "stderr",
     "output_type": "stream",
     "text": [
      "\u001b[32m[I 2021-12-12 04:49:32,964]\u001b[0m Trial 45 finished with value: 0.9553677286113129 and parameters: {'lambda_l1': 4.318591647464567e-06, 'lambda_l2': 1.960393691977634e-08, 'num_leaves': 103, 'feature_fraction': 0.9393905779193902, 'bagging_fraction': 0.7203964807097032, 'bagging_freq': 7, 'min_child_samples': 49}. Best is trial 12 with value: 0.9635904692698971.\u001b[0m\n"
     ]
    },
    {
     "name": "stdout",
     "output_type": "stream",
     "text": [
      "[LightGBM] [Warning] Unknown parameter: True\n"
     ]
    },
    {
     "name": "stderr",
     "output_type": "stream",
     "text": [
      "\u001b[32m[I 2021-12-12 04:49:36,295]\u001b[0m Trial 46 finished with value: 0.9627235756810851 and parameters: {'lambda_l1': 0.0003406936048204062, 'lambda_l2': 0.06748261576711995, 'num_leaves': 245, 'feature_fraction': 0.9972148825495075, 'bagging_fraction': 0.718671621793958, 'bagging_freq': 7, 'min_child_samples': 9}. Best is trial 12 with value: 0.9635904692698971.\u001b[0m\n"
     ]
    },
    {
     "name": "stdout",
     "output_type": "stream",
     "text": [
      "[LightGBM] [Warning] Unknown parameter: True\n"
     ]
    },
    {
     "name": "stderr",
     "output_type": "stream",
     "text": [
      "\u001b[32m[I 2021-12-12 04:49:39,721]\u001b[0m Trial 47 finished with value: 0.9613148735992657 and parameters: {'lambda_l1': 1.1520749791940594e-07, 'lambda_l2': 0.0007824573465035325, 'num_leaves': 254, 'feature_fraction': 0.8269220515730432, 'bagging_fraction': 0.6344761540785506, 'bagging_freq': 7, 'min_child_samples': 68}. Best is trial 12 with value: 0.9635904692698971.\u001b[0m\n"
     ]
    },
    {
     "name": "stdout",
     "output_type": "stream",
     "text": [
      "[LightGBM] [Warning] Unknown parameter: True\n"
     ]
    },
    {
     "name": "stderr",
     "output_type": "stream",
     "text": [
      "\u001b[32m[I 2021-12-12 04:49:43,670]\u001b[0m Trial 48 finished with value: 0.962047908619217 and parameters: {'lambda_l1': 0.02462871950856705, 'lambda_l2': 9.041198169864982e-08, 'num_leaves': 230, 'feature_fraction': 0.9590214712583164, 'bagging_fraction': 0.8009974173118221, 'bagging_freq': 2, 'min_child_samples': 77}. Best is trial 12 with value: 0.9635904692698971.\u001b[0m\n"
     ]
    },
    {
     "name": "stdout",
     "output_type": "stream",
     "text": [
      "[LightGBM] [Warning] Unknown parameter: True\n"
     ]
    },
    {
     "name": "stderr",
     "output_type": "stream",
     "text": [
      "\u001b[32m[I 2021-12-12 04:49:46,820]\u001b[0m Trial 49 finished with value: 0.961397738427608 and parameters: {'lambda_l1': 0.1617153376258023, 'lambda_l2': 0.0033549878748297315, 'num_leaves': 216, 'feature_fraction': 0.8592418348422156, 'bagging_fraction': 0.758109896663618, 'bagging_freq': 5, 'min_child_samples': 45}. Best is trial 12 with value: 0.9635904692698971.\u001b[0m\n"
     ]
    },
    {
     "name": "stdout",
     "output_type": "stream",
     "text": [
      "[LightGBM] [Warning] Unknown parameter: True\n"
     ]
    },
    {
     "name": "stderr",
     "output_type": "stream",
     "text": [
      "\u001b[32m[I 2021-12-12 04:49:48,760]\u001b[0m Trial 50 finished with value: 0.9452454711184202 and parameters: {'lambda_l1': 2.235655983643306e-05, 'lambda_l2': 6.76998303350013e-06, 'num_leaves': 46, 'feature_fraction': 0.9201720375546198, 'bagging_fraction': 0.8201361673298955, 'bagging_freq': 6, 'min_child_samples': 22}. Best is trial 12 with value: 0.9635904692698971.\u001b[0m\n"
     ]
    },
    {
     "name": "stdout",
     "output_type": "stream",
     "text": [
      "[LightGBM] [Warning] Unknown parameter: True\n"
     ]
    },
    {
     "name": "stderr",
     "output_type": "stream",
     "text": [
      "\u001b[32m[I 2021-12-12 04:49:51,916]\u001b[0m Trial 51 finished with value: 0.9628956795553346 and parameters: {'lambda_l1': 0.0011193276486407007, 'lambda_l2': 1.2659020928633305e-06, 'num_leaves': 255, 'feature_fraction': 0.7966608259806672, 'bagging_fraction': 0.6741328108127793, 'bagging_freq': 6, 'min_child_samples': 38}. Best is trial 12 with value: 0.9635904692698971.\u001b[0m\n"
     ]
    },
    {
     "name": "stdout",
     "output_type": "stream",
     "text": [
      "[LightGBM] [Warning] Unknown parameter: True\n"
     ]
    },
    {
     "name": "stderr",
     "output_type": "stream",
     "text": [
      "\u001b[32m[I 2021-12-12 04:49:55,098]\u001b[0m Trial 52 finished with value: 0.9623666194974567 and parameters: {'lambda_l1': 0.00020228865389289744, 'lambda_l2': 1.7596875024467904e-06, 'num_leaves': 242, 'feature_fraction': 0.7998916871294554, 'bagging_fraction': 0.6661624662235176, 'bagging_freq': 6, 'min_child_samples': 29}. Best is trial 12 with value: 0.9635904692698971.\u001b[0m\n"
     ]
    },
    {
     "name": "stdout",
     "output_type": "stream",
     "text": [
      "[LightGBM] [Warning] Unknown parameter: True\n"
     ]
    },
    {
     "name": "stderr",
     "output_type": "stream",
     "text": [
      "\u001b[32m[I 2021-12-12 04:49:58,512]\u001b[0m Trial 53 finished with value: 0.9637498247090169 and parameters: {'lambda_l1': 0.00109030836866613, 'lambda_l2': 4.6990889744943706e-05, 'num_leaves': 255, 'feature_fraction': 0.8747075522206045, 'bagging_fraction': 0.7108018770409114, 'bagging_freq': 7, 'min_child_samples': 43}. Best is trial 53 with value: 0.9637498247090169.\u001b[0m\n"
     ]
    },
    {
     "name": "stdout",
     "output_type": "stream",
     "text": [
      "[LightGBM] [Warning] Unknown parameter: True\n"
     ]
    },
    {
     "name": "stderr",
     "output_type": "stream",
     "text": [
      "\u001b[32m[I 2021-12-12 04:50:01,480]\u001b[0m Trial 54 finished with value: 0.961614461824811 and parameters: {'lambda_l1': 0.0114841146808368, 'lambda_l2': 3.55625881896908e-05, 'num_leaves': 230, 'feature_fraction': 0.9070232691749233, 'bagging_fraction': 0.7113697284648458, 'bagging_freq': 7, 'min_child_samples': 44}. Best is trial 53 with value: 0.9637498247090169.\u001b[0m\n"
     ]
    },
    {
     "name": "stdout",
     "output_type": "stream",
     "text": [
      "[LightGBM] [Warning] Unknown parameter: True\n"
     ]
    },
    {
     "name": "stderr",
     "output_type": "stream",
     "text": [
      "\u001b[32m[I 2021-12-12 04:50:04,624]\u001b[0m Trial 55 finished with value: 0.962513226501447 and parameters: {'lambda_l1': 0.0024449442688622577, 'lambda_l2': 0.0001538469191173067, 'num_leaves': 244, 'feature_fraction': 0.8740168246443029, 'bagging_fraction': 0.73518986124639, 'bagging_freq': 7, 'min_child_samples': 49}. Best is trial 53 with value: 0.9637498247090169.\u001b[0m\n"
     ]
    },
    {
     "name": "stdout",
     "output_type": "stream",
     "text": [
      "[LightGBM] [Warning] Unknown parameter: True\n"
     ]
    },
    {
     "name": "stderr",
     "output_type": "stream",
     "text": [
      "\u001b[32m[I 2021-12-12 04:50:13,940]\u001b[0m Trial 56 finished with value: 0.9611746408128402 and parameters: {'lambda_l1': 0.037620610879215276, 'lambda_l2': 8.40129911890266e-05, 'num_leaves': 202, 'feature_fraction': 0.9404343920439474, 'bagging_fraction': 0.893349114941619, 'bagging_freq': 7, 'min_child_samples': 8}. Best is trial 53 with value: 0.9637498247090169.\u001b[0m\n"
     ]
    },
    {
     "name": "stdout",
     "output_type": "stream",
     "text": [
      "[LightGBM] [Warning] Unknown parameter: True\n"
     ]
    },
    {
     "name": "stderr",
     "output_type": "stream",
     "text": [
      "\u001b[32m[I 2021-12-12 04:50:17,181]\u001b[0m Trial 57 finished with value: 0.9628574342499459 and parameters: {'lambda_l1': 0.00017724422378999363, 'lambda_l2': 9.101788321176573e-06, 'num_leaves': 256, 'feature_fraction': 0.9839569423788559, 'bagging_fraction': 0.7819985323589028, 'bagging_freq': 7, 'min_child_samples': 15}. Best is trial 53 with value: 0.9637498247090169.\u001b[0m\n"
     ]
    },
    {
     "name": "stdout",
     "output_type": "stream",
     "text": [
      "[LightGBM] [Warning] Unknown parameter: True\n"
     ]
    },
    {
     "name": "stderr",
     "output_type": "stream",
     "text": [
      "\u001b[32m[I 2021-12-12 04:50:31,859]\u001b[0m Trial 58 finished with value: 0.9600591527390013 and parameters: {'lambda_l1': 0.0006005957066839754, 'lambda_l2': 4.832923269490587e-05, 'num_leaves': 188, 'feature_fraction': 0.8386661846567498, 'bagging_fraction': 0.642565983558966, 'bagging_freq': 4, 'min_child_samples': 62}. Best is trial 53 with value: 0.9637498247090169.\u001b[0m\n"
     ]
    },
    {
     "name": "stdout",
     "output_type": "stream",
     "text": [
      "[LightGBM] [Warning] Unknown parameter: True\n"
     ]
    },
    {
     "name": "stderr",
     "output_type": "stream",
     "text": [
      "\u001b[32m[I 2021-12-12 04:50:35,249]\u001b[0m Trial 59 finished with value: 0.9617738172639309 and parameters: {'lambda_l1': 3.335816666788071e-05, 'lambda_l2': 0.0001808208761829091, 'num_leaves': 224, 'feature_fraction': 0.8823898554700549, 'bagging_fraction': 0.444021816696112, 'bagging_freq': 7, 'min_child_samples': 36}. Best is trial 53 with value: 0.9637498247090169.\u001b[0m\n"
     ]
    },
    {
     "name": "stdout",
     "output_type": "stream",
     "text": [
      "[LightGBM] [Warning] Unknown parameter: True\n"
     ]
    },
    {
     "name": "stderr",
     "output_type": "stream",
     "text": [
      "\u001b[32m[I 2021-12-12 04:50:40,315]\u001b[0m Trial 60 finished with value: 0.962328374192068 and parameters: {'lambda_l1': 0.20153746272908743, 'lambda_l2': 0.010298199653562936, 'num_leaves': 247, 'feature_fraction': 0.9794031165055316, 'bagging_fraction': 0.7407450044133739, 'bagging_freq': 2, 'min_child_samples': 54}. Best is trial 53 with value: 0.9637498247090169.\u001b[0m\n"
     ]
    },
    {
     "name": "stdout",
     "output_type": "stream",
     "text": [
      "[LightGBM] [Warning] Unknown parameter: True\n"
     ]
    },
    {
     "name": "stderr",
     "output_type": "stream",
     "text": [
      "\u001b[32m[I 2021-12-12 04:50:44,260]\u001b[0m Trial 61 finished with value: 0.9632016419984447 and parameters: {'lambda_l1': 0.0010591641869806918, 'lambda_l2': 2.9277344374768955e-08, 'num_leaves': 256, 'feature_fraction': 0.8211013680059948, 'bagging_fraction': 0.6918525163075196, 'bagging_freq': 6, 'min_child_samples': 43}. Best is trial 53 with value: 0.9637498247090169.\u001b[0m\n"
     ]
    },
    {
     "name": "stdout",
     "output_type": "stream",
     "text": [
      "[LightGBM] [Warning] Unknown parameter: True\n"
     ]
    },
    {
     "name": "stderr",
     "output_type": "stream",
     "text": [
      "\u001b[32m[I 2021-12-12 04:50:47,414]\u001b[0m Trial 62 finished with value: 0.9619714180084394 and parameters: {'lambda_l1': 0.0036647034510375602, 'lambda_l2': 1.479003018925551e-08, 'num_leaves': 236, 'feature_fraction': 0.8250156274031686, 'bagging_fraction': 0.6885148775649074, 'bagging_freq': 6, 'min_child_samples': 43}. Best is trial 53 with value: 0.9637498247090169.\u001b[0m\n"
     ]
    },
    {
     "name": "stdout",
     "output_type": "stream",
     "text": [
      "[LightGBM] [Warning] Unknown parameter: True\n"
     ]
    },
    {
     "name": "stderr",
     "output_type": "stream",
     "text": [
      "\u001b[32m[I 2021-12-12 04:50:50,520]\u001b[0m Trial 63 finished with value: 0.9618375594395788 and parameters: {'lambda_l1': 0.0018266215618012677, 'lambda_l2': 4.514717757909567e-08, 'num_leaves': 236, 'feature_fraction': 0.9216007391887036, 'bagging_fraction': 0.7060811389215178, 'bagging_freq': 5, 'min_child_samples': 32}. Best is trial 53 with value: 0.9637498247090169.\u001b[0m\n"
     ]
    },
    {
     "name": "stdout",
     "output_type": "stream",
     "text": [
      "[LightGBM] [Warning] Unknown parameter: True\n"
     ]
    },
    {
     "name": "stderr",
     "output_type": "stream",
     "text": [
      "\u001b[32m[I 2021-12-12 04:50:54,012]\u001b[0m Trial 64 finished with value: 0.9626853303756964 and parameters: {'lambda_l1': 0.010440453192608497, 'lambda_l2': 1.0009678054889732e-08, 'num_leaves': 249, 'feature_fraction': 0.8560957416763528, 'bagging_fraction': 0.9305654340636738, 'bagging_freq': 6, 'min_child_samples': 48}. Best is trial 53 with value: 0.9637498247090169.\u001b[0m\n"
     ]
    },
    {
     "name": "stdout",
     "output_type": "stream",
     "text": [
      "[LightGBM] [Warning] Unknown parameter: True\n"
     ]
    },
    {
     "name": "stderr",
     "output_type": "stream",
     "text": [
      "\u001b[32m[I 2021-12-12 04:50:57,759]\u001b[0m Trial 65 finished with value: 0.9618120625693196 and parameters: {'lambda_l1': 1.1305140511831276e-08, 'lambda_l2': 0.0003184695024315899, 'num_leaves': 227, 'feature_fraction': 0.9589095410287748, 'bagging_fraction': 0.7485825483395412, 'bagging_freq': 5, 'min_child_samples': 7}. Best is trial 53 with value: 0.9637498247090169.\u001b[0m\n"
     ]
    },
    {
     "name": "stdout",
     "output_type": "stream",
     "text": [
      "[LightGBM] [Warning] Unknown parameter: True\n"
     ]
    },
    {
     "name": "stderr",
     "output_type": "stream",
     "text": [
      "\u001b[32m[I 2021-12-12 04:51:00,533]\u001b[0m Trial 66 finished with value: 0.9558202980584133 and parameters: {'lambda_l1': 4.108071391127103, 'lambda_l2': 1.074622686211886e-07, 'num_leaves': 125, 'feature_fraction': 0.8969103514108161, 'bagging_fraction': 0.8562182781489713, 'bagging_freq': 7, 'min_child_samples': 12}. Best is trial 53 with value: 0.9637498247090169.\u001b[0m\n"
     ]
    },
    {
     "name": "stdout",
     "output_type": "stream",
     "text": [
      "[LightGBM] [Warning] Unknown parameter: True\n"
     ]
    },
    {
     "name": "stderr",
     "output_type": "stream",
     "text": [
      "\u001b[32m[I 2021-12-12 04:51:03,527]\u001b[0m Trial 67 finished with value: 0.9611555181601459 and parameters: {'lambda_l1': 0.6329567808912646, 'lambda_l2': 3.0394441596905844e-08, 'num_leaves': 238, 'feature_fraction': 0.7346789974754395, 'bagging_fraction': 0.646523415499326, 'bagging_freq': 6, 'min_child_samples': 51}. Best is trial 53 with value: 0.9637498247090169.\u001b[0m\n"
     ]
    },
    {
     "name": "stdout",
     "output_type": "stream",
     "text": [
      "[LightGBM] [Warning] Unknown parameter: True\n"
     ]
    },
    {
     "name": "stderr",
     "output_type": "stream",
     "text": [
      "\u001b[32m[I 2021-12-12 04:51:06,382]\u001b[0m Trial 68 finished with value: 0.9615634680842926 and parameters: {'lambda_l1': 0.00012267948232285204, 'lambda_l2': 0.0005951181463570008, 'num_leaves': 217, 'feature_fraction': 0.815327384782871, 'bagging_fraction': 0.599708938978553, 'bagging_freq': 7, 'min_child_samples': 18}. Best is trial 53 with value: 0.9637498247090169.\u001b[0m\n"
     ]
    },
    {
     "name": "stdout",
     "output_type": "stream",
     "text": [
      "[LightGBM] [Warning] Unknown parameter: True\n"
     ]
    },
    {
     "name": "stderr",
     "output_type": "stream",
     "text": [
      "\u001b[32m[I 2021-12-12 04:51:09,398]\u001b[0m Trial 69 finished with value: 0.9615698423018575 and parameters: {'lambda_l1': 0.0008943083042718621, 'lambda_l2': 0.0023271348462836354, 'num_leaves': 247, 'feature_fraction': 0.7844069034470056, 'bagging_fraction': 0.6983192423063619, 'bagging_freq': 6, 'min_child_samples': 42}. Best is trial 53 with value: 0.9637498247090169.\u001b[0m\n"
     ]
    },
    {
     "name": "stdout",
     "output_type": "stream",
     "text": [
      "[LightGBM] [Warning] Unknown parameter: True\n"
     ]
    },
    {
     "name": "stderr",
     "output_type": "stream",
     "text": [
      "\u001b[32m[I 2021-12-12 04:51:12,747]\u001b[0m Trial 70 finished with value: 0.9631378998227967 and parameters: {'lambda_l1': 5.646125648995052e-08, 'lambda_l2': 9.96813171258296e-05, 'num_leaves': 256, 'feature_fraction': 0.8672333470922792, 'bagging_fraction': 0.9714222972882911, 'bagging_freq': 5, 'min_child_samples': 58}. Best is trial 53 with value: 0.9637498247090169.\u001b[0m\n"
     ]
    },
    {
     "name": "stdout",
     "output_type": "stream",
     "text": [
      "[LightGBM] [Warning] Unknown parameter: True\n"
     ]
    },
    {
     "name": "stderr",
     "output_type": "stream",
     "text": [
      "\u001b[32m[I 2021-12-12 04:51:16,122]\u001b[0m Trial 71 finished with value: 0.9621817671880777 and parameters: {'lambda_l1': 1.1391508461745003e-07, 'lambda_l2': 0.00012178233918418812, 'num_leaves': 255, 'feature_fraction': 0.8660417591885854, 'bagging_fraction': 0.9810641742429995, 'bagging_freq': 5, 'min_child_samples': 58}. Best is trial 53 with value: 0.9637498247090169.\u001b[0m\n"
     ]
    },
    {
     "name": "stdout",
     "output_type": "stream",
     "text": [
      "[LightGBM] [Warning] Unknown parameter: True\n"
     ]
    },
    {
     "name": "stderr",
     "output_type": "stream",
     "text": [
      "\u001b[32m[I 2021-12-12 04:51:19,451]\u001b[0m Trial 72 finished with value: 0.9626917045932611 and parameters: {'lambda_l1': 2.4423733676470113e-08, 'lambda_l2': 2.0795078919378492e-05, 'num_leaves': 248, 'feature_fraction': 0.8398636332358926, 'bagging_fraction': 0.975842844108324, 'bagging_freq': 5, 'min_child_samples': 72}. Best is trial 53 with value: 0.9637498247090169.\u001b[0m\n"
     ]
    },
    {
     "name": "stdout",
     "output_type": "stream",
     "text": [
      "[LightGBM] [Warning] Unknown parameter: True\n"
     ]
    },
    {
     "name": "stderr",
     "output_type": "stream",
     "text": [
      "\u001b[32m[I 2021-12-12 04:51:22,711]\u001b[0m Trial 73 finished with value: 0.96303591234176 and parameters: {'lambda_l1': 7.72249780571537e-08, 'lambda_l2': 0.00028203694300310745, 'num_leaves': 236, 'feature_fraction': 0.9137896902895547, 'bagging_fraction': 0.9007051321451093, 'bagging_freq': 6, 'min_child_samples': 63}. Best is trial 53 with value: 0.9637498247090169.\u001b[0m\n"
     ]
    },
    {
     "name": "stdout",
     "output_type": "stream",
     "text": [
      "[LightGBM] [Warning] Unknown parameter: True\n"
     ]
    },
    {
     "name": "stderr",
     "output_type": "stream",
     "text": [
      "\u001b[32m[I 2021-12-12 04:51:26,015]\u001b[0m Trial 74 finished with value: 0.9624749811960582 and parameters: {'lambda_l1': 6.738080259419529e-08, 'lambda_l2': 7.122519511223374e-05, 'num_leaves': 240, 'feature_fraction': 0.9322991609271715, 'bagging_fraction': 0.8942970867813188, 'bagging_freq': 6, 'min_child_samples': 61}. Best is trial 53 with value: 0.9637498247090169.\u001b[0m\n"
     ]
    },
    {
     "name": "stdout",
     "output_type": "stream",
     "text": [
      "[LightGBM] [Warning] Unknown parameter: True\n"
     ]
    },
    {
     "name": "stderr",
     "output_type": "stream",
     "text": [
      "\u001b[32m[I 2021-12-12 04:51:29,561]\u001b[0m Trial 75 finished with value: 0.9620096633138282 and parameters: {'lambda_l1': 2.905767681087432e-07, 'lambda_l2': 0.00022435708733955682, 'num_leaves': 256, 'feature_fraction': 0.9700996023222055, 'bagging_fraction': 0.9330337566532632, 'bagging_freq': 5, 'min_child_samples': 66}. Best is trial 53 with value: 0.9637498247090169.\u001b[0m\n"
     ]
    },
    {
     "name": "stdout",
     "output_type": "stream",
     "text": [
      "[LightGBM] [Warning] Unknown parameter: True\n"
     ]
    },
    {
     "name": "stderr",
     "output_type": "stream",
     "text": [
      "\u001b[32m[I 2021-12-12 04:51:32,856]\u001b[0m Trial 76 finished with value: 0.962200889840772 and parameters: {'lambda_l1': 2.8803590744438228e-08, 'lambda_l2': 0.0012642954459077351, 'num_leaves': 226, 'feature_fraction': 0.9129385113685595, 'bagging_fraction': 0.9620654000205268, 'bagging_freq': 6, 'min_child_samples': 91}. Best is trial 53 with value: 0.9637498247090169.\u001b[0m\n"
     ]
    },
    {
     "name": "stdout",
     "output_type": "stream",
     "text": [
      "[LightGBM] [Warning] Unknown parameter: True\n"
     ]
    },
    {
     "name": "stderr",
     "output_type": "stream",
     "text": [
      "\u001b[32m[I 2021-12-12 04:51:36,020]\u001b[0m Trial 77 finished with value: 0.9603587409645467 and parameters: {'lambda_l1': 2.686856281304554e-08, 'lambda_l2': 3.900025031570874e-06, 'num_leaves': 207, 'feature_fraction': 0.9498597734953294, 'bagging_fraction': 0.76500723988374, 'bagging_freq': 7, 'min_child_samples': 57}. Best is trial 53 with value: 0.9637498247090169.\u001b[0m\n"
     ]
    },
    {
     "name": "stdout",
     "output_type": "stream",
     "text": [
      "[LightGBM] [Warning] Unknown parameter: True\n"
     ]
    },
    {
     "name": "stderr",
     "output_type": "stream",
     "text": [
      "\u001b[32m[I 2021-12-12 04:51:39,282]\u001b[0m Trial 78 finished with value: 0.9623538710623271 and parameters: {'lambda_l1': 3.269553425962124e-07, 'lambda_l2': 3.841087605015483e-05, 'num_leaves': 249, 'feature_fraction': 0.9009288059655265, 'bagging_fraction': 0.8350827103280206, 'bagging_freq': 6, 'min_child_samples': 55}. Best is trial 53 with value: 0.9637498247090169.\u001b[0m\n"
     ]
    },
    {
     "name": "stdout",
     "output_type": "stream",
     "text": [
      "[LightGBM] [Warning] Unknown parameter: True\n"
     ]
    },
    {
     "name": "stderr",
     "output_type": "stream",
     "text": [
      "\u001b[32m[I 2021-12-12 04:51:44,368]\u001b[0m Trial 79 finished with value: 0.9621562703178185 and parameters: {'lambda_l1': 8.437954175068921e-07, 'lambda_l2': 0.0004053198154644996, 'num_leaves': 235, 'feature_fraction': 0.8810236082512913, 'bagging_fraction': 0.9049307186401196, 'bagging_freq': 7, 'min_child_samples': 73}. Best is trial 53 with value: 0.9637498247090169.\u001b[0m\n"
     ]
    },
    {
     "name": "stdout",
     "output_type": "stream",
     "text": [
      "[LightGBM] [Warning] Unknown parameter: True\n"
     ]
    },
    {
     "name": "stderr",
     "output_type": "stream",
     "text": [
      "\u001b[32m[I 2021-12-12 04:51:47,580]\u001b[0m Trial 80 finished with value: 0.9609897885034612 and parameters: {'lambda_l1': 2.065655384463541e-06, 'lambda_l2': 3.1216482336342656e-07, 'num_leaves': 219, 'feature_fraction': 0.8512996892852881, 'bagging_fraction': 0.7854923371044072, 'bagging_freq': 5, 'min_child_samples': 5}. Best is trial 53 with value: 0.9637498247090169.\u001b[0m\n"
     ]
    },
    {
     "name": "stdout",
     "output_type": "stream",
     "text": [
      "[LightGBM] [Warning] Unknown parameter: True\n"
     ]
    },
    {
     "name": "stderr",
     "output_type": "stream",
     "text": [
      "\u001b[32m[I 2021-12-12 04:51:50,773]\u001b[0m Trial 81 finished with value: 0.9616590813477646 and parameters: {'lambda_l1': 0.0005163122352688619, 'lambda_l2': 0.0007201990138790999, 'num_leaves': 243, 'feature_fraction': 0.8735157513721696, 'bagging_fraction': 0.8657031816863898, 'bagging_freq': 6, 'min_child_samples': 47}. Best is trial 53 with value: 0.9637498247090169.\u001b[0m\n"
     ]
    },
    {
     "name": "stdout",
     "output_type": "stream",
     "text": [
      "[LightGBM] [Warning] Unknown parameter: True\n"
     ]
    },
    {
     "name": "stderr",
     "output_type": "stream",
     "text": [
      "\u001b[32m[I 2021-12-12 04:51:53,935]\u001b[0m Trial 82 finished with value: 0.9623411226271975 and parameters: {'lambda_l1': 6.406499354136671e-08, 'lambda_l2': 0.0018628218150571142, 'num_leaves': 235, 'feature_fraction': 0.8172423833229358, 'bagging_fraction': 0.882766075240803, 'bagging_freq': 6, 'min_child_samples': 51}. Best is trial 53 with value: 0.9637498247090169.\u001b[0m\n"
     ]
    },
    {
     "name": "stdout",
     "output_type": "stream",
     "text": [
      "[LightGBM] [Warning] Unknown parameter: True\n"
     ]
    },
    {
     "name": "stderr",
     "output_type": "stream",
     "text": [
      "\u001b[32m[I 2021-12-12 04:51:57,654]\u001b[0m Trial 83 finished with value: 0.9627044530283908 and parameters: {'lambda_l1': 1.5291210449149327e-07, 'lambda_l2': 0.00025009060402834856, 'num_leaves': 250, 'feature_fraction': 0.7549808050672037, 'bagging_fraction': 0.7243299937796875, 'bagging_freq': 6, 'min_child_samples': 65}. Best is trial 53 with value: 0.9637498247090169.\u001b[0m\n"
     ]
    },
    {
     "name": "stdout",
     "output_type": "stream",
     "text": [
      "[LightGBM] [Warning] Unknown parameter: True\n"
     ]
    },
    {
     "name": "stderr",
     "output_type": "stream",
     "text": [
      "\u001b[32m[I 2021-12-12 04:52:01,392]\u001b[0m Trial 84 finished with value: 0.9617610688288013 and parameters: {'lambda_l1': 0.1116220032741917, 'lambda_l2': 0.00011316939092384003, 'num_leaves': 240, 'feature_fraction': 0.7839385268818678, 'bagging_fraction': 0.8106546833350277, 'bagging_freq': 7, 'min_child_samples': 40}. Best is trial 53 with value: 0.9637498247090169.\u001b[0m\n"
     ]
    },
    {
     "name": "stdout",
     "output_type": "stream",
     "text": [
      "[LightGBM] [Warning] Unknown parameter: True\n"
     ]
    },
    {
     "name": "stderr",
     "output_type": "stream",
     "text": [
      "\u001b[32m[I 2021-12-12 04:52:04,515]\u001b[0m Trial 85 finished with value: 0.9617993141341901 and parameters: {'lambda_l1': 1.966172032720408e-08, 'lambda_l2': 0.004403203653784514, 'num_leaves': 230, 'feature_fraction': 0.8869627512269952, 'bagging_fraction': 0.8469347008380519, 'bagging_freq': 6, 'min_child_samples': 11}. Best is trial 53 with value: 0.9637498247090169.\u001b[0m\n"
     ]
    },
    {
     "name": "stdout",
     "output_type": "stream",
     "text": [
      "[LightGBM] [Warning] Unknown parameter: True\n"
     ]
    },
    {
     "name": "stderr",
     "output_type": "stream",
     "text": [
      "\u001b[32m[I 2021-12-12 04:52:08,114]\u001b[0m Trial 86 finished with value: 0.9621753929705129 and parameters: {'lambda_l1': 4.3939693263004306e-08, 'lambda_l2': 0.00040816356123409724, 'num_leaves': 256, 'feature_fraction': 0.9176224427053038, 'bagging_fraction': 0.945597887907947, 'bagging_freq': 4, 'min_child_samples': 60}. Best is trial 53 with value: 0.9637498247090169.\u001b[0m\n"
     ]
    },
    {
     "name": "stdout",
     "output_type": "stream",
     "text": [
      "[LightGBM] [Warning] Unknown parameter: True\n"
     ]
    },
    {
     "name": "stderr",
     "output_type": "stream",
     "text": [
      "\u001b[32m[I 2021-12-12 04:52:11,414]\u001b[0m Trial 87 finished with value: 0.9625450975892709 and parameters: {'lambda_l1': 0.0003216856551795641, 'lambda_l2': 1.4994942197288369e-05, 'num_leaves': 249, 'feature_fraction': 0.9362530770339967, 'bagging_fraction': 0.8742456252392896, 'bagging_freq': 7, 'min_child_samples': 34}. Best is trial 53 with value: 0.9637498247090169.\u001b[0m\n"
     ]
    },
    {
     "name": "stdout",
     "output_type": "stream",
     "text": [
      "[LightGBM] [Warning] Unknown parameter: True\n"
     ]
    },
    {
     "name": "stderr",
     "output_type": "stream",
     "text": [
      "\u001b[32m[I 2021-12-12 04:52:14,454]\u001b[0m Trial 88 finished with value: 0.9574329751023062 and parameters: {'lambda_l1': 0.004015288923047352, 'lambda_l2': 4.414088821969846, 'num_leaves': 143, 'feature_fraction': 0.8628044803758044, 'bagging_fraction': 0.6796146329489553, 'bagging_freq': 3, 'min_child_samples': 15}. Best is trial 53 with value: 0.9637498247090169.\u001b[0m\n"
     ]
    },
    {
     "name": "stdout",
     "output_type": "stream",
     "text": [
      "[LightGBM] [Warning] Unknown parameter: True\n"
     ]
    },
    {
     "name": "stderr",
     "output_type": "stream",
     "text": [
      "\u001b[32m[I 2021-12-12 04:52:17,488]\u001b[0m Trial 89 finished with value: 0.9617801914814956 and parameters: {'lambda_l1': 0.006158993582863276, 'lambda_l2': 0.0010401293507306035, 'num_leaves': 241, 'feature_fraction': 0.8403001409273201, 'bagging_fraction': 0.6224055123068254, 'bagging_freq': 1, 'min_child_samples': 69}. Best is trial 53 with value: 0.9637498247090169.\u001b[0m\n"
     ]
    },
    {
     "name": "stdout",
     "output_type": "stream",
     "text": [
      "[LightGBM] [Warning] Unknown parameter: True\n"
     ]
    },
    {
     "name": "stderr",
     "output_type": "stream",
     "text": [
      "\u001b[32m[I 2021-12-12 04:52:20,926]\u001b[0m Trial 90 finished with value: 0.9606710776252215 and parameters: {'lambda_l1': 0.3629499472860706, 'lambda_l2': 5.907736816507569e-05, 'num_leaves': 225, 'feature_fraction': 0.5847442454032117, 'bagging_fraction': 0.9122370996191428, 'bagging_freq': 6, 'min_child_samples': 52}. Best is trial 53 with value: 0.9637498247090169.\u001b[0m\n"
     ]
    },
    {
     "name": "stdout",
     "output_type": "stream",
     "text": [
      "[LightGBM] [Warning] Unknown parameter: True\n"
     ]
    },
    {
     "name": "stderr",
     "output_type": "stream",
     "text": [
      "\u001b[32m[I 2021-12-12 04:52:24,188]\u001b[0m Trial 91 finished with value: 0.9620542828367817 and parameters: {'lambda_l1': 0.000962570542983488, 'lambda_l2': 1.3893232901851298e-06, 'num_leaves': 251, 'feature_fraction': 0.7886508147549042, 'bagging_fraction': 0.6674302296908121, 'bagging_freq': 6, 'min_child_samples': 37}. Best is trial 53 with value: 0.9637498247090169.\u001b[0m\n"
     ]
    },
    {
     "name": "stdout",
     "output_type": "stream",
     "text": [
      "[LightGBM] [Warning] Unknown parameter: True\n"
     ]
    },
    {
     "name": "stderr",
     "output_type": "stream",
     "text": [
      "\u001b[32m[I 2021-12-12 04:52:27,500]\u001b[0m Trial 92 finished with value: 0.9625769686770949 and parameters: {'lambda_l1': 0.002537818915090786, 'lambda_l2': 3.329335188261033e-08, 'num_leaves': 256, 'feature_fraction': 0.7529808287425163, 'bagging_fraction': 0.7026968071355288, 'bagging_freq': 6, 'min_child_samples': 45}. Best is trial 53 with value: 0.9637498247090169.\u001b[0m\n"
     ]
    },
    {
     "name": "stdout",
     "output_type": "stream",
     "text": [
      "[LightGBM] [Warning] Unknown parameter: True\n"
     ]
    },
    {
     "name": "stderr",
     "output_type": "stream",
     "text": [
      "\u001b[32m[I 2021-12-12 04:52:29,971]\u001b[0m Trial 93 finished with value: 0.9534363406891804 and parameters: {'lambda_l1': 0.019027023430436857, 'lambda_l2': 1.7328015262056487e-07, 'num_leaves': 91, 'feature_fraction': 0.8065579885723497, 'bagging_fraction': 0.7256927648932694, 'bagging_freq': 6, 'min_child_samples': 30}. Best is trial 53 with value: 0.9637498247090169.\u001b[0m\n"
     ]
    },
    {
     "name": "stdout",
     "output_type": "stream",
     "text": [
      "[LightGBM] [Warning] Unknown parameter: True\n"
     ]
    },
    {
     "name": "stderr",
     "output_type": "stream",
     "text": [
      "\u001b[32m[I 2021-12-12 04:52:33,079]\u001b[0m Trial 94 finished with value: 0.9617164493058477 and parameters: {'lambda_l1': 0.0017162651977575842, 'lambda_l2': 2.0273368781982386e-08, 'num_leaves': 244, 'feature_fraction': 0.8260335761803277, 'bagging_fraction': 0.6759570622487918, 'bagging_freq': 7, 'min_child_samples': 41}. Best is trial 53 with value: 0.9637498247090169.\u001b[0m\n"
     ]
    },
    {
     "name": "stdout",
     "output_type": "stream",
     "text": [
      "[LightGBM] [Warning] Unknown parameter: True\n"
     ]
    },
    {
     "name": "stderr",
     "output_type": "stream",
     "text": [
      "\u001b[32m[I 2021-12-12 04:52:36,411]\u001b[0m Trial 95 finished with value: 0.9617483203936716 and parameters: {'lambda_l1': 0.036705244125465615, 'lambda_l2': 2.5690974385228447e-05, 'num_leaves': 230, 'feature_fraction': 0.770052133206862, 'bagging_fraction': 0.7410029149854734, 'bagging_freq': 6, 'min_child_samples': 46}. Best is trial 53 with value: 0.9637498247090169.\u001b[0m\n"
     ]
    },
    {
     "name": "stdout",
     "output_type": "stream",
     "text": [
      "[LightGBM] [Warning] Unknown parameter: True\n"
     ]
    },
    {
     "name": "stderr",
     "output_type": "stream",
     "text": [
      "\u001b[32m[I 2021-12-12 04:52:39,677]\u001b[0m Trial 96 finished with value: 0.9626343366351781 and parameters: {'lambda_l1': 0.0008020120500500175, 'lambda_l2': 0.00016379920628517658, 'num_leaves': 251, 'feature_fraction': 0.6847688819719066, 'bagging_fraction': 0.6525899022042202, 'bagging_freq': 7, 'min_child_samples': 7}. Best is trial 53 with value: 0.9637498247090169.\u001b[0m\n"
     ]
    },
    {
     "name": "stdout",
     "output_type": "stream",
     "text": [
      "[LightGBM] [Warning] Unknown parameter: True\n"
     ]
    },
    {
     "name": "stderr",
     "output_type": "stream",
     "text": [
      "\u001b[32m[I 2021-12-12 04:52:43,370]\u001b[0m Trial 97 finished with value: 0.9624686069784933 and parameters: {'lambda_l1': 0.000211964081569887, 'lambda_l2': 6.995133939514056e-06, 'num_leaves': 236, 'feature_fraction': 0.7167821602675547, 'bagging_fraction': 0.6935063548236966, 'bagging_freq': 5, 'min_child_samples': 34}. Best is trial 53 with value: 0.9637498247090169.\u001b[0m\n"
     ]
    },
    {
     "name": "stdout",
     "output_type": "stream",
     "text": [
      "[LightGBM] [Warning] Unknown parameter: True\n"
     ]
    },
    {
     "name": "stderr",
     "output_type": "stream",
     "text": [
      "\u001b[32m[I 2021-12-12 04:52:47,436]\u001b[0m Trial 98 finished with value: 0.9621817671880777 and parameters: {'lambda_l1': 0.0001092344699398974, 'lambda_l2': 6.928965655566268e-08, 'num_leaves': 244, 'feature_fraction': 0.9725168226049399, 'bagging_fraction': 0.7101155174678242, 'bagging_freq': 6, 'min_child_samples': 22}. Best is trial 53 with value: 0.9637498247090169.\u001b[0m\n"
     ]
    },
    {
     "name": "stdout",
     "output_type": "stream",
     "text": [
      "[LightGBM] [Warning] Unknown parameter: True\n"
     ]
    },
    {
     "name": "stderr",
     "output_type": "stream",
     "text": [
      "\u001b[32m[I 2021-12-12 04:52:51,834]\u001b[0m Trial 99 finished with value: 0.961831185222014 and parameters: {'lambda_l1': 0.007941422802680936, 'lambda_l2': 0.0005366834097128772, 'num_leaves': 251, 'feature_fraction': 0.8908996317095703, 'bagging_fraction': 0.7581757934520728, 'bagging_freq': 7, 'min_child_samples': 24}. Best is trial 53 with value: 0.9637498247090169.\u001b[0m\n"
     ]
    }
   ],
   "source": [
    "study = optuna.create_study(direction=\"maximize\")\n",
    "study.optimize(objective, n_trials=100)"
   ]
  },
  {
   "cell_type": "code",
   "execution_count": 78,
   "metadata": {},
   "outputs": [
    {
     "name": "stdout",
     "output_type": "stream",
     "text": [
      "Number of finished trials: 100\n",
      "Best trial:\n",
      "  Value: 0.9637498247090169\n",
      "  Params: \n",
      "    lambda_l1: 0.00109030836866613\n",
      "    lambda_l2: 4.6990889744943706e-05\n",
      "    num_leaves: 255\n",
      "    feature_fraction: 0.8747075522206045\n",
      "    bagging_fraction: 0.7108018770409114\n",
      "    bagging_freq: 7\n",
      "    min_child_samples: 43\n"
     ]
    }
   ],
   "source": [
    "print(\"Number of finished trials: {}\".format(len(study.trials)))\n",
    "\n",
    "print(\"Best trial:\")\n",
    "trial = study.best_trial\n",
    "\n",
    "print(\"  Value: {}\".format(trial.value))\n",
    "\n",
    "print(\"  Params: \")\n",
    "for key, value in trial.params.items():\n",
    "    print(\"    {}: {}\".format(key, value))"
   ]
  },
  {
   "cell_type": "code",
   "execution_count": 280,
   "metadata": {},
   "outputs": [],
   "source": [
    "best_lgbm_optuna= lgb.LGBMClassifier(objective='binary', is_unbalance= 'True', metric='auc', boosting_type='gbdt', lambda_l1=0.00109030836866613,\n",
    "                                  lambda_l2= 4.6990889744943706e-05, num_leaves=225, feature_fraction=0.8747075522206045, bagging_fraction=0.7108018770409114,\n",
    "                                     bagging_freq=7, min_child_samples=43)"
   ]
  },
  {
   "cell_type": "code",
   "execution_count": 281,
   "metadata": {},
   "outputs": [
    {
     "name": "stdout",
     "output_type": "stream",
     "text": [
      "[LightGBM] [Warning] feature_fraction is set=0.8747075522206045, colsample_bytree=1.0 will be ignored. Current value: feature_fraction=0.8747075522206045\n",
      "[LightGBM] [Warning] lambda_l1 is set=0.00109030836866613, reg_alpha=0.0 will be ignored. Current value: lambda_l1=0.00109030836866613\n",
      "[LightGBM] [Warning] bagging_fraction is set=0.7108018770409114, subsample=1.0 will be ignored. Current value: bagging_fraction=0.7108018770409114\n",
      "[LightGBM] [Warning] lambda_l2 is set=4.6990889744943706e-05, reg_lambda=0.0 will be ignored. Current value: lambda_l2=4.6990889744943706e-05\n",
      "[LightGBM] [Warning] bagging_freq is set=7, subsample_freq=0 will be ignored. Current value: bagging_freq=7\n"
     ]
    },
    {
     "data": {
      "text/plain": [
       "LGBMClassifier(bagging_fraction=0.7108018770409114, bagging_freq=7,\n",
       "               feature_fraction=0.8747075522206045, is_unbalance='True',\n",
       "               lambda_l1=0.00109030836866613, lambda_l2=4.6990889744943706e-05,\n",
       "               metric='auc', min_child_samples=43, num_leaves=225,\n",
       "               objective='binary')"
      ]
     },
     "execution_count": 281,
     "metadata": {},
     "output_type": "execute_result"
    }
   ],
   "source": [
    "best_lgbm_optuna.fit(X_train_smote_1_selected, y_train_smote_1)"
   ]
  },
  {
   "cell_type": "code",
   "execution_count": 283,
   "metadata": {},
   "outputs": [
    {
     "name": "stdout",
     "output_type": "stream",
     "text": [
      "Base Model Result(LGBM) Train\n",
      "accuracy: 0.94626\n",
      "precision: 0.10458874458874459\n",
      "recall: 0.23245670301475305\n",
      "f2: 0.1867848675394289\n"
     ]
    }
   ],
   "source": [
    "print_results(\"Base Model Result(LGBM) Train\", y_train, best_lgbm_optuna.predict(X_train_selected))"
   ]
  },
  {
   "cell_type": "code",
   "execution_count": 282,
   "metadata": {},
   "outputs": [
    {
     "name": "stdout",
     "output_type": "stream",
     "text": [
      "Base Model Result(LGBM) Test\n",
      "accuracy: 0.94308\n",
      "precision: 0.0760127446517979\n",
      "recall: 0.1698880976602238\n",
      "f2: 0.13623755914504815\n"
     ]
    }
   ],
   "source": [
    "print_results(\"Base Model Result(LGBM) Test\", y_test, best_lgbm_optuna.predict(X_test_selected))"
   ]
  },
  {
   "cell_type": "markdown",
   "metadata": {},
   "source": [
    "Our result certainly improved with optuna when we compare to last LGBM run but not the best"
   ]
  },
  {
   "cell_type": "markdown",
   "metadata": {},
   "source": [
    "### Neural network"
   ]
  },
  {
   "cell_type": "markdown",
   "metadata": {},
   "source": [
    "#### Part 1\n",
    "\n",
    "We will first fit neural network on balanced smote dataset. We will create three layer neural network, [input-hiddhen-output] then we will use accuracy metric and adam optimizer to fit model"
   ]
  },
  {
   "cell_type": "code",
   "execution_count": 82,
   "metadata": {},
   "outputs": [],
   "source": [
    "import keras\n",
    "from keras.models import Sequential\n",
    "from keras.layers import Dense\n"
   ]
  },
  {
   "cell_type": "code",
   "execution_count": 83,
   "metadata": {},
   "outputs": [],
   "source": [
    "classifier = Sequential()"
   ]
  },
  {
   "cell_type": "code",
   "execution_count": 85,
   "metadata": {},
   "outputs": [],
   "source": [
    "classifier.add(Dense(units =15 , kernel_initializer = 'uniform', activation = 'relu', input_dim = X_train_smote_1_selected.shape[1]))\n",
    "classifier.add(Dense(units = 15, kernel_initializer = 'uniform', activation = 'relu'))\n",
    "classifier.add(Dense(units = 1, kernel_initializer = 'uniform', activation = 'sigmoid'))\n"
   ]
  },
  {
   "cell_type": "code",
   "execution_count": 86,
   "metadata": {},
   "outputs": [],
   "source": [
    "classifier.compile(optimizer = 'adam', loss = 'binary_crossentropy', metrics = ['accuracy'])"
   ]
  },
  {
   "cell_type": "code",
   "execution_count": 87,
   "metadata": {},
   "outputs": [
    {
     "name": "stdout",
     "output_type": "stream",
     "text": [
      "Epoch 1/100\n",
      "19611/19611 [==============================] - 20s 985us/step - loss: 0.4498 - accuracy: 0.7873\n",
      "Epoch 2/100\n",
      "19611/19611 [==============================] - 19s 974us/step - loss: 0.4252 - accuracy: 0.8012\n",
      "Epoch 3/100\n",
      "19611/19611 [==============================] - 19s 975us/step - loss: 0.4100 - accuracy: 0.8103\n",
      "Epoch 4/100\n",
      "19611/19611 [==============================] - 19s 989us/step - loss: 0.4002 - accuracy: 0.8157\n",
      "Epoch 5/100\n",
      "19611/19611 [==============================] - 19s 978us/step - loss: 0.3924 - accuracy: 0.8207\n",
      "Epoch 6/100\n",
      "19611/19611 [==============================] - 19s 970us/step - loss: 0.3808 - accuracy: 0.8260\n",
      "Epoch 7/100\n",
      "19611/19611 [==============================] - 20s 1ms/step - loss: 0.3704 - accuracy: 0.8303\n",
      "Epoch 8/100\n",
      "19611/19611 [==============================] - 20s 1ms/step - loss: 0.3663 - accuracy: 0.8327\n",
      "Epoch 9/100\n",
      "19611/19611 [==============================] - 20s 1ms/step - loss: 0.3639 - accuracy: 0.8337\n",
      "Epoch 10/100\n",
      "19611/19611 [==============================] - 20s 1ms/step - loss: 0.3624 - accuracy: 0.8346\n",
      "Epoch 11/100\n",
      "19611/19611 [==============================] - 20s 1ms/step - loss: 0.3600 - accuracy: 0.8357\n",
      "Epoch 12/100\n",
      "19611/19611 [==============================] - 20s 1ms/step - loss: 0.3586 - accuracy: 0.8365\n",
      "Epoch 13/100\n",
      "19611/19611 [==============================] - 20s 1ms/step - loss: 0.3573 - accuracy: 0.8369\n",
      "Epoch 14/100\n",
      "19611/19611 [==============================] - 20s 1ms/step - loss: 0.3566 - accuracy: 0.8369\n",
      "Epoch 15/100\n",
      "19611/19611 [==============================] - 20s 1ms/step - loss: 0.3557 - accuracy: 0.8379\n",
      "Epoch 16/100\n",
      "19611/19611 [==============================] - 20s 1ms/step - loss: 0.3544 - accuracy: 0.8385\n",
      "Epoch 17/100\n",
      "19611/19611 [==============================] - 20s 1ms/step - loss: 0.3539 - accuracy: 0.8384\n",
      "Epoch 18/100\n",
      "19611/19611 [==============================] - 20s 1ms/step - loss: 0.3532 - accuracy: 0.8385\n",
      "Epoch 19/100\n",
      "19611/19611 [==============================] - 20s 1ms/step - loss: 0.3522 - accuracy: 0.8390\n",
      "Epoch 20/100\n",
      "19611/19611 [==============================] - 20s 1ms/step - loss: 0.3518 - accuracy: 0.8397\n",
      "Epoch 21/100\n",
      "19611/19611 [==============================] - 20s 1ms/step - loss: 0.3510 - accuracy: 0.8399\n",
      "Epoch 22/100\n",
      "19611/19611 [==============================] - 20s 1ms/step - loss: 0.3505 - accuracy: 0.8404\n",
      "Epoch 23/100\n",
      "19611/19611 [==============================] - 20s 1ms/step - loss: 0.3501 - accuracy: 0.8408\n",
      "Epoch 24/100\n",
      "19611/19611 [==============================] - 20s 1ms/step - loss: 0.3491 - accuracy: 0.8409\n",
      "Epoch 25/100\n",
      "19611/19611 [==============================] - 20s 1ms/step - loss: 0.3492 - accuracy: 0.8410\n",
      "Epoch 26/100\n",
      "19611/19611 [==============================] - 20s 1ms/step - loss: 0.3489 - accuracy: 0.8411\n",
      "Epoch 27/100\n",
      "19611/19611 [==============================] - 20s 1ms/step - loss: 0.3489 - accuracy: 0.8412\n",
      "Epoch 28/100\n",
      "19611/19611 [==============================] - 20s 1ms/step - loss: 0.3475 - accuracy: 0.8424\n",
      "Epoch 29/100\n",
      "19611/19611 [==============================] - 20s 1ms/step - loss: 0.3475 - accuracy: 0.8418\n",
      "Epoch 30/100\n",
      "19611/19611 [==============================] - 20s 1ms/step - loss: 0.3467 - accuracy: 0.8424\n",
      "Epoch 31/100\n",
      "19611/19611 [==============================] - 20s 1ms/step - loss: 0.3466 - accuracy: 0.8427\n",
      "Epoch 32/100\n",
      "19611/19611 [==============================] - 20s 1ms/step - loss: 0.3465 - accuracy: 0.8422\n",
      "Epoch 33/100\n",
      "19611/19611 [==============================] - 20s 1ms/step - loss: 0.3455 - accuracy: 0.8430\n",
      "Epoch 34/100\n",
      "19611/19611 [==============================] - 20s 1ms/step - loss: 0.3456 - accuracy: 0.8432\n",
      "Epoch 35/100\n",
      "19611/19611 [==============================] - 20s 1ms/step - loss: 0.3451 - accuracy: 0.8437\n",
      "Epoch 36/100\n",
      "19611/19611 [==============================] - 20s 1ms/step - loss: 0.3451 - accuracy: 0.8435\n",
      "Epoch 37/100\n",
      "19611/19611 [==============================] - 20s 1ms/step - loss: 0.3449 - accuracy: 0.8435\n",
      "Epoch 38/100\n",
      "19611/19611 [==============================] - 20s 1ms/step - loss: 0.3442 - accuracy: 0.8438\n",
      "Epoch 39/100\n",
      "19611/19611 [==============================] - 20s 1ms/step - loss: 0.3440 - accuracy: 0.8442\n",
      "Epoch 40/100\n",
      "19611/19611 [==============================] - 20s 1ms/step - loss: 0.3441 - accuracy: 0.8442\n",
      "Epoch 41/100\n",
      "19611/19611 [==============================] - 20s 1ms/step - loss: 0.3435 - accuracy: 0.8443\n",
      "Epoch 42/100\n",
      "19611/19611 [==============================] - 20s 1ms/step - loss: 0.3432 - accuracy: 0.8447\n",
      "Epoch 43/100\n",
      "19611/19611 [==============================] - 20s 1ms/step - loss: 0.3432 - accuracy: 0.8442\n",
      "Epoch 44/100\n",
      " 6004/19611 [========>.....................] - ETA: 13s - loss: 0.3438 - accuracy: 0.8434"
     ]
    },
    {
     "ename": "KeyboardInterrupt",
     "evalue": "",
     "output_type": "error",
     "traceback": [
      "\u001b[1;31m---------------------------------------------------------------------------\u001b[0m",
      "\u001b[1;31mKeyboardInterrupt\u001b[0m                         Traceback (most recent call last)",
      "\u001b[1;32m<ipython-input-87-f0c0eb871d7a>\u001b[0m in \u001b[0;36m<module>\u001b[1;34m\u001b[0m\n\u001b[1;32m----> 1\u001b[1;33m \u001b[0mclassifier\u001b[0m\u001b[1;33m.\u001b[0m\u001b[0mfit\u001b[0m\u001b[1;33m(\u001b[0m\u001b[0mX_train_smote_1_selected\u001b[0m\u001b[1;33m,\u001b[0m \u001b[0my_train_smote_1\u001b[0m\u001b[1;33m,\u001b[0m \u001b[0mbatch_size\u001b[0m \u001b[1;33m=\u001b[0m \u001b[1;36m32\u001b[0m\u001b[1;33m,\u001b[0m \u001b[0mepochs\u001b[0m \u001b[1;33m=\u001b[0m \u001b[1;36m100\u001b[0m\u001b[1;33m)\u001b[0m\u001b[1;33m\u001b[0m\u001b[1;33m\u001b[0m\u001b[0m\n\u001b[0m",
      "\u001b[1;32mC:\\ProgramData\\Anaconda3\\lib\\site-packages\\keras\\utils\\traceback_utils.py\u001b[0m in \u001b[0;36merror_handler\u001b[1;34m(*args, **kwargs)\u001b[0m\n\u001b[0;32m     62\u001b[0m     \u001b[0mfiltered_tb\u001b[0m \u001b[1;33m=\u001b[0m \u001b[1;32mNone\u001b[0m\u001b[1;33m\u001b[0m\u001b[1;33m\u001b[0m\u001b[0m\n\u001b[0;32m     63\u001b[0m     \u001b[1;32mtry\u001b[0m\u001b[1;33m:\u001b[0m\u001b[1;33m\u001b[0m\u001b[1;33m\u001b[0m\u001b[0m\n\u001b[1;32m---> 64\u001b[1;33m       \u001b[1;32mreturn\u001b[0m \u001b[0mfn\u001b[0m\u001b[1;33m(\u001b[0m\u001b[1;33m*\u001b[0m\u001b[0margs\u001b[0m\u001b[1;33m,\u001b[0m \u001b[1;33m**\u001b[0m\u001b[0mkwargs\u001b[0m\u001b[1;33m)\u001b[0m\u001b[1;33m\u001b[0m\u001b[1;33m\u001b[0m\u001b[0m\n\u001b[0m\u001b[0;32m     65\u001b[0m     \u001b[1;32mexcept\u001b[0m \u001b[0mException\u001b[0m \u001b[1;32mas\u001b[0m \u001b[0me\u001b[0m\u001b[1;33m:\u001b[0m  \u001b[1;31m# pylint: disable=broad-except\u001b[0m\u001b[1;33m\u001b[0m\u001b[1;33m\u001b[0m\u001b[0m\n\u001b[0;32m     66\u001b[0m       \u001b[0mfiltered_tb\u001b[0m \u001b[1;33m=\u001b[0m \u001b[0m_process_traceback_frames\u001b[0m\u001b[1;33m(\u001b[0m\u001b[0me\u001b[0m\u001b[1;33m.\u001b[0m\u001b[0m__traceback__\u001b[0m\u001b[1;33m)\u001b[0m\u001b[1;33m\u001b[0m\u001b[1;33m\u001b[0m\u001b[0m\n",
      "\u001b[1;32mC:\\ProgramData\\Anaconda3\\lib\\site-packages\\keras\\engine\\training.py\u001b[0m in \u001b[0;36mfit\u001b[1;34m(self, x, y, batch_size, epochs, verbose, callbacks, validation_split, validation_data, shuffle, class_weight, sample_weight, initial_epoch, steps_per_epoch, validation_steps, validation_batch_size, validation_freq, max_queue_size, workers, use_multiprocessing)\u001b[0m\n\u001b[0;32m   1214\u001b[0m                 _r=1):\n\u001b[0;32m   1215\u001b[0m               \u001b[0mcallbacks\u001b[0m\u001b[1;33m.\u001b[0m\u001b[0mon_train_batch_begin\u001b[0m\u001b[1;33m(\u001b[0m\u001b[0mstep\u001b[0m\u001b[1;33m)\u001b[0m\u001b[1;33m\u001b[0m\u001b[1;33m\u001b[0m\u001b[0m\n\u001b[1;32m-> 1216\u001b[1;33m               \u001b[0mtmp_logs\u001b[0m \u001b[1;33m=\u001b[0m \u001b[0mself\u001b[0m\u001b[1;33m.\u001b[0m\u001b[0mtrain_function\u001b[0m\u001b[1;33m(\u001b[0m\u001b[0miterator\u001b[0m\u001b[1;33m)\u001b[0m\u001b[1;33m\u001b[0m\u001b[1;33m\u001b[0m\u001b[0m\n\u001b[0m\u001b[0;32m   1217\u001b[0m               \u001b[1;32mif\u001b[0m \u001b[0mdata_handler\u001b[0m\u001b[1;33m.\u001b[0m\u001b[0mshould_sync\u001b[0m\u001b[1;33m:\u001b[0m\u001b[1;33m\u001b[0m\u001b[1;33m\u001b[0m\u001b[0m\n\u001b[0;32m   1218\u001b[0m                 \u001b[0mcontext\u001b[0m\u001b[1;33m.\u001b[0m\u001b[0masync_wait\u001b[0m\u001b[1;33m(\u001b[0m\u001b[1;33m)\u001b[0m\u001b[1;33m\u001b[0m\u001b[1;33m\u001b[0m\u001b[0m\n",
      "\u001b[1;32mC:\\ProgramData\\Anaconda3\\lib\\site-packages\\tensorflow\\python\\util\\traceback_utils.py\u001b[0m in \u001b[0;36merror_handler\u001b[1;34m(*args, **kwargs)\u001b[0m\n\u001b[0;32m    148\u001b[0m     \u001b[0mfiltered_tb\u001b[0m \u001b[1;33m=\u001b[0m \u001b[1;32mNone\u001b[0m\u001b[1;33m\u001b[0m\u001b[1;33m\u001b[0m\u001b[0m\n\u001b[0;32m    149\u001b[0m     \u001b[1;32mtry\u001b[0m\u001b[1;33m:\u001b[0m\u001b[1;33m\u001b[0m\u001b[1;33m\u001b[0m\u001b[0m\n\u001b[1;32m--> 150\u001b[1;33m       \u001b[1;32mreturn\u001b[0m \u001b[0mfn\u001b[0m\u001b[1;33m(\u001b[0m\u001b[1;33m*\u001b[0m\u001b[0margs\u001b[0m\u001b[1;33m,\u001b[0m \u001b[1;33m**\u001b[0m\u001b[0mkwargs\u001b[0m\u001b[1;33m)\u001b[0m\u001b[1;33m\u001b[0m\u001b[1;33m\u001b[0m\u001b[0m\n\u001b[0m\u001b[0;32m    151\u001b[0m     \u001b[1;32mexcept\u001b[0m \u001b[0mException\u001b[0m \u001b[1;32mas\u001b[0m \u001b[0me\u001b[0m\u001b[1;33m:\u001b[0m\u001b[1;33m\u001b[0m\u001b[1;33m\u001b[0m\u001b[0m\n\u001b[0;32m    152\u001b[0m       \u001b[0mfiltered_tb\u001b[0m \u001b[1;33m=\u001b[0m \u001b[0m_process_traceback_frames\u001b[0m\u001b[1;33m(\u001b[0m\u001b[0me\u001b[0m\u001b[1;33m.\u001b[0m\u001b[0m__traceback__\u001b[0m\u001b[1;33m)\u001b[0m\u001b[1;33m\u001b[0m\u001b[1;33m\u001b[0m\u001b[0m\n",
      "\u001b[1;32mC:\\ProgramData\\Anaconda3\\lib\\site-packages\\tensorflow\\python\\eager\\def_function.py\u001b[0m in \u001b[0;36m__call__\u001b[1;34m(self, *args, **kwds)\u001b[0m\n\u001b[0;32m    908\u001b[0m \u001b[1;33m\u001b[0m\u001b[0m\n\u001b[0;32m    909\u001b[0m       \u001b[1;32mwith\u001b[0m \u001b[0mOptionalXlaContext\u001b[0m\u001b[1;33m(\u001b[0m\u001b[0mself\u001b[0m\u001b[1;33m.\u001b[0m\u001b[0m_jit_compile\u001b[0m\u001b[1;33m)\u001b[0m\u001b[1;33m:\u001b[0m\u001b[1;33m\u001b[0m\u001b[1;33m\u001b[0m\u001b[0m\n\u001b[1;32m--> 910\u001b[1;33m         \u001b[0mresult\u001b[0m \u001b[1;33m=\u001b[0m \u001b[0mself\u001b[0m\u001b[1;33m.\u001b[0m\u001b[0m_call\u001b[0m\u001b[1;33m(\u001b[0m\u001b[1;33m*\u001b[0m\u001b[0margs\u001b[0m\u001b[1;33m,\u001b[0m \u001b[1;33m**\u001b[0m\u001b[0mkwds\u001b[0m\u001b[1;33m)\u001b[0m\u001b[1;33m\u001b[0m\u001b[1;33m\u001b[0m\u001b[0m\n\u001b[0m\u001b[0;32m    911\u001b[0m \u001b[1;33m\u001b[0m\u001b[0m\n\u001b[0;32m    912\u001b[0m       \u001b[0mnew_tracing_count\u001b[0m \u001b[1;33m=\u001b[0m \u001b[0mself\u001b[0m\u001b[1;33m.\u001b[0m\u001b[0mexperimental_get_tracing_count\u001b[0m\u001b[1;33m(\u001b[0m\u001b[1;33m)\u001b[0m\u001b[1;33m\u001b[0m\u001b[1;33m\u001b[0m\u001b[0m\n",
      "\u001b[1;32mC:\\ProgramData\\Anaconda3\\lib\\site-packages\\tensorflow\\python\\eager\\def_function.py\u001b[0m in \u001b[0;36m_call\u001b[1;34m(self, *args, **kwds)\u001b[0m\n\u001b[0;32m    940\u001b[0m       \u001b[1;31m# In this case we have created variables on the first call, so we run the\u001b[0m\u001b[1;33m\u001b[0m\u001b[1;33m\u001b[0m\u001b[1;33m\u001b[0m\u001b[0m\n\u001b[0;32m    941\u001b[0m       \u001b[1;31m# defunned version which is guaranteed to never create variables.\u001b[0m\u001b[1;33m\u001b[0m\u001b[1;33m\u001b[0m\u001b[1;33m\u001b[0m\u001b[0m\n\u001b[1;32m--> 942\u001b[1;33m       \u001b[1;32mreturn\u001b[0m \u001b[0mself\u001b[0m\u001b[1;33m.\u001b[0m\u001b[0m_stateless_fn\u001b[0m\u001b[1;33m(\u001b[0m\u001b[1;33m*\u001b[0m\u001b[0margs\u001b[0m\u001b[1;33m,\u001b[0m \u001b[1;33m**\u001b[0m\u001b[0mkwds\u001b[0m\u001b[1;33m)\u001b[0m  \u001b[1;31m# pylint: disable=not-callable\u001b[0m\u001b[1;33m\u001b[0m\u001b[1;33m\u001b[0m\u001b[0m\n\u001b[0m\u001b[0;32m    943\u001b[0m     \u001b[1;32melif\u001b[0m \u001b[0mself\u001b[0m\u001b[1;33m.\u001b[0m\u001b[0m_stateful_fn\u001b[0m \u001b[1;32mis\u001b[0m \u001b[1;32mnot\u001b[0m \u001b[1;32mNone\u001b[0m\u001b[1;33m:\u001b[0m\u001b[1;33m\u001b[0m\u001b[1;33m\u001b[0m\u001b[0m\n\u001b[0;32m    944\u001b[0m       \u001b[1;31m# Release the lock early so that multiple threads can perform the call\u001b[0m\u001b[1;33m\u001b[0m\u001b[1;33m\u001b[0m\u001b[1;33m\u001b[0m\u001b[0m\n",
      "\u001b[1;32mC:\\ProgramData\\Anaconda3\\lib\\site-packages\\tensorflow\\python\\eager\\function.py\u001b[0m in \u001b[0;36m__call__\u001b[1;34m(self, *args, **kwargs)\u001b[0m\n\u001b[0;32m   3128\u001b[0m       (graph_function,\n\u001b[0;32m   3129\u001b[0m        filtered_flat_args) = self._maybe_define_function(args, kwargs)\n\u001b[1;32m-> 3130\u001b[1;33m     return graph_function._call_flat(\n\u001b[0m\u001b[0;32m   3131\u001b[0m         filtered_flat_args, captured_inputs=graph_function.captured_inputs)  # pylint: disable=protected-access\n\u001b[0;32m   3132\u001b[0m \u001b[1;33m\u001b[0m\u001b[0m\n",
      "\u001b[1;32mC:\\ProgramData\\Anaconda3\\lib\\site-packages\\tensorflow\\python\\eager\\function.py\u001b[0m in \u001b[0;36m_call_flat\u001b[1;34m(self, args, captured_inputs, cancellation_manager)\u001b[0m\n\u001b[0;32m   1957\u001b[0m         and executing_eagerly):\n\u001b[0;32m   1958\u001b[0m       \u001b[1;31m# No tape is watching; skip to running the function.\u001b[0m\u001b[1;33m\u001b[0m\u001b[1;33m\u001b[0m\u001b[1;33m\u001b[0m\u001b[0m\n\u001b[1;32m-> 1959\u001b[1;33m       return self._build_call_outputs(self._inference_function.call(\n\u001b[0m\u001b[0;32m   1960\u001b[0m           ctx, args, cancellation_manager=cancellation_manager))\n\u001b[0;32m   1961\u001b[0m     forward_backward = self._select_forward_and_backward_functions(\n",
      "\u001b[1;32mC:\\ProgramData\\Anaconda3\\lib\\site-packages\\tensorflow\\python\\eager\\function.py\u001b[0m in \u001b[0;36mcall\u001b[1;34m(self, ctx, args, cancellation_manager)\u001b[0m\n\u001b[0;32m    596\u001b[0m       \u001b[1;32mwith\u001b[0m \u001b[0m_InterpolateFunctionError\u001b[0m\u001b[1;33m(\u001b[0m\u001b[0mself\u001b[0m\u001b[1;33m)\u001b[0m\u001b[1;33m:\u001b[0m\u001b[1;33m\u001b[0m\u001b[1;33m\u001b[0m\u001b[0m\n\u001b[0;32m    597\u001b[0m         \u001b[1;32mif\u001b[0m \u001b[0mcancellation_manager\u001b[0m \u001b[1;32mis\u001b[0m \u001b[1;32mNone\u001b[0m\u001b[1;33m:\u001b[0m\u001b[1;33m\u001b[0m\u001b[1;33m\u001b[0m\u001b[0m\n\u001b[1;32m--> 598\u001b[1;33m           outputs = execute.execute(\n\u001b[0m\u001b[0;32m    599\u001b[0m               \u001b[0mstr\u001b[0m\u001b[1;33m(\u001b[0m\u001b[0mself\u001b[0m\u001b[1;33m.\u001b[0m\u001b[0msignature\u001b[0m\u001b[1;33m.\u001b[0m\u001b[0mname\u001b[0m\u001b[1;33m)\u001b[0m\u001b[1;33m,\u001b[0m\u001b[1;33m\u001b[0m\u001b[1;33m\u001b[0m\u001b[0m\n\u001b[0;32m    600\u001b[0m               \u001b[0mnum_outputs\u001b[0m\u001b[1;33m=\u001b[0m\u001b[0mself\u001b[0m\u001b[1;33m.\u001b[0m\u001b[0m_num_outputs\u001b[0m\u001b[1;33m,\u001b[0m\u001b[1;33m\u001b[0m\u001b[1;33m\u001b[0m\u001b[0m\n",
      "\u001b[1;32mC:\\ProgramData\\Anaconda3\\lib\\site-packages\\tensorflow\\python\\eager\\execute.py\u001b[0m in \u001b[0;36mquick_execute\u001b[1;34m(op_name, num_outputs, inputs, attrs, ctx, name)\u001b[0m\n\u001b[0;32m     56\u001b[0m   \u001b[1;32mtry\u001b[0m\u001b[1;33m:\u001b[0m\u001b[1;33m\u001b[0m\u001b[1;33m\u001b[0m\u001b[0m\n\u001b[0;32m     57\u001b[0m     \u001b[0mctx\u001b[0m\u001b[1;33m.\u001b[0m\u001b[0mensure_initialized\u001b[0m\u001b[1;33m(\u001b[0m\u001b[1;33m)\u001b[0m\u001b[1;33m\u001b[0m\u001b[1;33m\u001b[0m\u001b[0m\n\u001b[1;32m---> 58\u001b[1;33m     tensors = pywrap_tfe.TFE_Py_Execute(ctx._handle, device_name, op_name,\n\u001b[0m\u001b[0;32m     59\u001b[0m                                         inputs, attrs, num_outputs)\n\u001b[0;32m     60\u001b[0m   \u001b[1;32mexcept\u001b[0m \u001b[0mcore\u001b[0m\u001b[1;33m.\u001b[0m\u001b[0m_NotOkStatusException\u001b[0m \u001b[1;32mas\u001b[0m \u001b[0me\u001b[0m\u001b[1;33m:\u001b[0m\u001b[1;33m\u001b[0m\u001b[1;33m\u001b[0m\u001b[0m\n",
      "\u001b[1;31mKeyboardInterrupt\u001b[0m: "
     ]
    }
   ],
   "source": [
    "classifier.fit(X_train_smote_1_selected, y_train_smote_1, batch_size = 32, epochs = 100)"
   ]
  },
  {
   "cell_type": "code",
   "execution_count": 230,
   "metadata": {},
   "outputs": [],
   "source": [
    "y_pred_nn_1 = classifier.predict(X_test_selected)"
   ]
  },
  {
   "cell_type": "code",
   "execution_count": 231,
   "metadata": {},
   "outputs": [],
   "source": [
    "y_pred_nn_act = (y_pred > 0.5)"
   ]
  },
  {
   "cell_type": "code",
   "execution_count": 236,
   "metadata": {},
   "outputs": [
    {
     "name": "stdout",
     "output_type": "stream",
     "text": [
      "Base Model Result(neural network)\n",
      "accuracy: 0.76011\n",
      "precision: 0.05654222544400145\n",
      "recall: 0.7141403865717192\n",
      "f2: 0.2147117296222664\n"
     ]
    }
   ],
   "source": [
    "print_results(\"Base Model Result(neural network)\", y_test, y_pred_nn_act)"
   ]
  },
  {
   "cell_type": "code",
   "execution_count": 232,
   "metadata": {},
   "outputs": [
    {
     "data": {
      "text/plain": [
       "<matplotlib.axes._subplots.AxesSubplot at 0x1d57f808400>"
      ]
     },
     "execution_count": 232,
     "metadata": {},
     "output_type": "execute_result"
    },
    {
     "data": {
      "image/png": "[encoded data removed]",
      "text/plain": [
       "<Figure size 432x288 with 2 Axes>"
      ]
     },
     "metadata": {
      "needs_background": "light"
     },
     "output_type": "display_data"
    }
   ],
   "source": [
    "sns.heatmap(confusion_matrix(y_test, y_pred_nn_act), annot=True, fmt='g')"
   ]
  },
  {
   "cell_type": "code",
   "execution_count": 233,
   "metadata": {},
   "outputs": [
    {
     "name": "stdout",
     "output_type": "stream",
     "text": [
      "              precision    recall  f1-score   support\n",
      "\n",
      "           0       0.99      0.76      0.86     98034\n",
      "           1       0.06      0.71      0.10      1966\n",
      "\n",
      "    accuracy                           0.76    100000\n",
      "   macro avg       0.52      0.74      0.48    100000\n",
      "weighted avg       0.97      0.76      0.85    100000\n",
      "\n"
     ]
    }
   ],
   "source": [
    "print(classification_report(y_test, y_pred_nn_act))"
   ]
  },
  {
   "cell_type": "code",
   "execution_count": 234,
   "metadata": {},
   "outputs": [
    {
     "data": {
      "text/plain": [
       "(-0.01, 1.0, 0.0, 1.0)"
      ]
     },
     "execution_count": 234,
     "metadata": {},
     "output_type": "execute_result"
    },
    {
     "data": {
      "image/png": "[encoded data removed]",
      "text/plain": [
       "<Figure size 576x432 with 1 Axes>"
      ]
     },
     "metadata": {
      "needs_background": "light"
     },
     "output_type": "display_data"
    }
   ],
   "source": [
    "log_fpr, log_tpr, log_thresold = roc_curve(y_test, y_pred_nn_1)\n",
    "auc = sklearn.metrics.auc(log_fpr, log_tpr)\n",
    "plt.figure(figsize=(8,6))\n",
    "title_1= \"ROC Curve \"+str(round(auc,2))\n",
    "plt.title(title_1, fontsize=16)\n",
    "plt.plot(log_fpr, log_tpr, 'b-', linewidth=2, label=\"AUC = %.2f\" % auc)\n",
    "plt.plot([0, 1], [0, 1], 'r--')\n",
    "plt.xlabel('False Positive Rate', fontsize=16)\n",
    "plt.ylabel('True Positive Rate', fontsize=16)\n",
    "plt.axis([-0.01,1,0,1])\n",
    "    "
   ]
  },
  {
   "cell_type": "markdown",
   "metadata": {},
   "source": [
    "The neural network performed good in terms of accuracy but lagged behind in precision"
   ]
  },
  {
   "cell_type": "markdown",
   "metadata": {},
   "source": [
    "### Part 2\n",
    "\n",
    "In second part, we will use the same approch but on unbalanced dataset. In this case we will be using initial bias in our model this bias is log(pos/neg). This bias will give better fit to our data"
   ]
  },
  {
   "cell_type": "code",
   "execution_count": 95,
   "metadata": {},
   "outputs": [],
   "source": [
    "import tensorflow as tf\n",
    "from tensorflow import keras"
   ]
  },
  {
   "cell_type": "code",
   "execution_count": 99,
   "metadata": {},
   "outputs": [],
   "source": [
    "METRICS = [\n",
    "      keras.metrics.TruePositives(name='tp'),\n",
    "      keras.metrics.FalsePositives(name='fp'),\n",
    "      keras.metrics.TrueNegatives(name='tn'),\n",
    "      keras.metrics.FalseNegatives(name='fn'), \n",
    "      keras.metrics.BinaryAccuracy(name='accuracy'),\n",
    "      keras.metrics.Precision(name='precision'),\n",
    "      keras.metrics.Recall(name='recall'),\n",
    "      keras.metrics.AUC(name='auc'),\n",
    "      keras.metrics.AUC(name='prc', curve='PR'), # precision-recall curve\n",
    "]\n",
    "\n",
    "def make_model(metrics=METRICS, output_bias=None):\n",
    "  if output_bias is not None:\n",
    "    output_bias = tf.keras.initializers.Constant(output_bias)\n",
    "  model = keras.Sequential([\n",
    "      keras.layers.Dense(\n",
    "          16, activation='relu',\n",
    "          input_shape=(X_train_selected.shape[-1],)),\n",
    "      keras.layers.Dropout(0.5),\n",
    "      keras.layers.Dense(1, activation='sigmoid',\n",
    "                         bias_initializer=output_bias),\n",
    "  ])\n",
    "\n",
    "  model.compile(\n",
    "      optimizer=keras.optimizers.Adam(learning_rate=1e-3),\n",
    "      loss=keras.losses.BinaryCrossentropy(),\n",
    "      metrics=metrics)\n",
    "\n",
    "  return model"
   ]
  },
  {
   "cell_type": "code",
   "execution_count": 100,
   "metadata": {},
   "outputs": [],
   "source": [
    "EPOCHS = 100\n",
    "BATCH_SIZE = 2048\n",
    "\n",
    "early_stopping = tf.keras.callbacks.EarlyStopping(\n",
    "    monitor='val_prc', \n",
    "    verbose=1,\n",
    "    patience=10,\n",
    "    mode='max',\n",
    "    restore_best_weights=True)"
   ]
  },
  {
   "cell_type": "code",
   "execution_count": 101,
   "metadata": {},
   "outputs": [
    {
     "name": "stdout",
     "output_type": "stream",
     "text": [
      "Model: \"sequential_1\"\n",
      "_________________________________________________________________\n",
      " Layer (type)                Output Shape              Param #   \n",
      "=================================================================\n",
      " dense_3 (Dense)             (None, 16)                320       \n",
      "                                                                 \n",
      " dropout (Dropout)           (None, 16)                0         \n",
      "                                                                 \n",
      " dense_4 (Dense)             (None, 1)                 17        \n",
      "                                                                 \n",
      "=================================================================\n",
      "Total params: 337\n",
      "Trainable params: 337\n",
      "Non-trainable params: 0\n",
      "_________________________________________________________________\n"
     ]
    }
   ],
   "source": [
    "model = make_model()\n",
    "model.summary()"
   ]
  },
  {
   "cell_type": "code",
   "execution_count": 105,
   "metadata": {},
   "outputs": [
    {
     "data": {
      "text/plain": [
       "array([-3.91703555])"
      ]
     },
     "execution_count": 105,
     "metadata": {},
     "output_type": "execute_result"
    }
   ],
   "source": [
    "initial_bias = np.log([0.0199])\n",
    "initial_bias"
   ]
  },
  {
   "cell_type": "code",
   "execution_count": 111,
   "metadata": {},
   "outputs": [
    {
     "name": "stdout",
     "output_type": "stream",
     "text": [
      "Epoch 1/40\n",
      "12498/12500 [============================>.] - ETA: 0s - loss: 0.0932 - tp: 56.0000 - fp: 224.0000 - tn: 391917.0000 - fn: 7739.0000 - accuracy: 0.9801 - precision: 0.2000 - recall: 0.0072 - auc: 0.7227 - prc: 0.0687WARNING:tensorflow:Early stopping conditioned on metric `val_prc` which is not available. Available metrics are: loss,tp,fp,tn,fn,accuracy,precision,recall,auc,prc\n",
      "12500/12500 [==============================] - 16s 1ms/step - loss: 0.0932 - tp: 56.0000 - fp: 224.0000 - tn: 391981.0000 - fn: 7739.0000 - accuracy: 0.9801 - precision: 0.2000 - recall: 0.0072 - auc: 0.7227 - prc: 0.0687\n",
      "Epoch 2/40\n",
      "12480/12500 [============================>.] - ETA: 0s - loss: 0.0860 - tp: 78.0000 - fp: 130.0000 - tn: 391444.0000 - fn: 7708.0000 - accuracy: 0.9804 - precision: 0.3750 - recall: 0.0100 - auc: 0.7724 - prc: 0.0907WARNING:tensorflow:Early stopping conditioned on metric `val_prc` which is not available. Available metrics are: loss,tp,fp,tn,fn,accuracy,precision,recall,auc,prc\n",
      "12500/12500 [==============================] - 14s 1ms/step - loss: 0.0860 - tp: 78.0000 - fp: 130.0000 - tn: 392075.0000 - fn: 7717.0000 - accuracy: 0.9804 - precision: 0.3750 - recall: 0.0100 - auc: 0.7724 - prc: 0.0906\n",
      "Epoch 3/40\n",
      "12468/12500 [============================>.] - ETA: 0s - loss: 0.0859 - tp: 75.0000 - fp: 155.0000 - tn: 391043.0000 - fn: 7703.0000 - accuracy: 0.9803 - precision: 0.3261 - recall: 0.0096 - auc: 0.7746 - prc: 0.0923WARNING:tensorflow:Early stopping conditioned on metric `val_prc` which is not available. Available metrics are: loss,tp,fp,tn,fn,accuracy,precision,recall,auc,prc\n",
      "12500/12500 [==============================] - 14s 1ms/step - loss: 0.0858 - tp: 75.0000 - fp: 155.0000 - tn: 392050.0000 - fn: 7720.0000 - accuracy: 0.9803 - precision: 0.3261 - recall: 0.0096 - auc: 0.7745 - prc: 0.0923\n",
      "Epoch 4/40\n",
      "12468/12500 [============================>.] - ETA: 0s - loss: 0.0854 - tp: 79.0000 - fp: 123.0000 - tn: 391080.0000 - fn: 7694.0000 - accuracy: 0.9804 - precision: 0.3911 - recall: 0.0102 - auc: 0.7789 - prc: 0.0945WARNING:tensorflow:Early stopping conditioned on metric `val_prc` which is not available. Available metrics are: loss,tp,fp,tn,fn,accuracy,precision,recall,auc,prc\n",
      "12500/12500 [==============================] - 14s 1ms/step - loss: 0.0854 - tp: 79.0000 - fp: 123.0000 - tn: 392082.0000 - fn: 7716.0000 - accuracy: 0.9804 - precision: 0.3911 - recall: 0.0101 - auc: 0.7790 - prc: 0.0945\n",
      "Epoch 5/40\n",
      "12474/12500 [============================>.] - ETA: 0s - loss: 0.0851 - tp: 64.0000 - fp: 103.0000 - tn: 391282.0000 - fn: 7719.0000 - accuracy: 0.9804 - precision: 0.3832 - recall: 0.0082 - auc: 0.7817 - prc: 0.0937WARNING:tensorflow:Early stopping conditioned on metric `val_prc` which is not available. Available metrics are: loss,tp,fp,tn,fn,accuracy,precision,recall,auc,prc\n",
      "12500/12500 [==============================] - 14s 1ms/step - loss: 0.0851 - tp: 64.0000 - fp: 103.0000 - tn: 392102.0000 - fn: 7731.0000 - accuracy: 0.9804 - precision: 0.3832 - recall: 0.0082 - auc: 0.7818 - prc: 0.0938\n",
      "Epoch 6/40\n",
      "12492/12500 [============================>.] - ETA: 0s - loss: 0.0853 - tp: 72.0000 - fp: 112.0000 - tn: 391847.0000 - fn: 7713.0000 - accuracy: 0.9804 - precision: 0.3913 - recall: 0.0092 - auc: 0.7785 - prc: 0.0945WARNING:tensorflow:Early stopping conditioned on metric `val_prc` which is not available. Available metrics are: loss,tp,fp,tn,fn,accuracy,precision,recall,auc,prc\n",
      "12500/12500 [==============================] - 14s 1ms/step - loss: 0.0853 - tp: 72.0000 - fp: 113.0000 - tn: 392092.0000 - fn: 7723.0000 - accuracy: 0.9804 - precision: 0.3892 - recall: 0.0092 - auc: 0.7785 - prc: 0.0944\n",
      "Epoch 7/40\n",
      "12489/12500 [============================>.] - ETA: 0s - loss: 0.0851 - tp: 64.0000 - fp: 119.0000 - tn: 391741.0000 - fn: 7724.0000 - accuracy: 0.9804 - precision: 0.3497 - recall: 0.0082 - auc: 0.7797 - prc: 0.0953WARNING:tensorflow:Early stopping conditioned on metric `val_prc` which is not available. Available metrics are: loss,tp,fp,tn,fn,accuracy,precision,recall,auc,prc\n",
      "12500/12500 [==============================] - 14s 1ms/step - loss: 0.0851 - tp: 64.0000 - fp: 119.0000 - tn: 392086.0000 - fn: 7731.0000 - accuracy: 0.9804 - precision: 0.3497 - recall: 0.0082 - auc: 0.7797 - prc: 0.0953\n",
      "Epoch 8/40\n",
      "12492/12500 [============================>.] - ETA: 0s - loss: 0.0854 - tp: 76.0000 - fp: 117.0000 - tn: 391836.0000 - fn: 7715.0000 - accuracy: 0.9804 - precision: 0.3938 - recall: 0.0098 - auc: 0.7790 - prc: 0.0941WARNING:tensorflow:Early stopping conditioned on metric `val_prc` which is not available. Available metrics are: loss,tp,fp,tn,fn,accuracy,precision,recall,auc,prc\n",
      "12500/12500 [==============================] - 14s 1ms/step - loss: 0.0853 - tp: 77.0000 - fp: 117.0000 - tn: 392088.0000 - fn: 7718.0000 - accuracy: 0.9804 - precision: 0.3969 - recall: 0.0099 - auc: 0.7791 - prc: 0.0943\n",
      "Epoch 9/40\n",
      "12481/12500 [============================>.] - ETA: 0s - loss: 0.0852 - tp: 65.0000 - fp: 100.0000 - tn: 391508.0000 - fn: 7719.0000 - accuracy: 0.9804 - precision: 0.3939 - recall: 0.0084 - auc: 0.7798 - prc: 0.0943WARNING:tensorflow:Early stopping conditioned on metric `val_prc` which is not available. Available metrics are: loss,tp,fp,tn,fn,accuracy,precision,recall,auc,prc\n",
      "12500/12500 [==============================] - 14s 1ms/step - loss: 0.0851 - tp: 66.0000 - fp: 100.0000 - tn: 392105.0000 - fn: 7729.0000 - accuracy: 0.9804 - precision: 0.3976 - recall: 0.0085 - auc: 0.7797 - prc: 0.0945\n",
      "Epoch 10/40\n",
      "12474/12500 [============================>.] - ETA: 0s - loss: 0.0852 - tp: 58.0000 - fp: 102.0000 - tn: 391287.0000 - fn: 7721.0000 - accuracy: 0.9804 - precision: 0.3625 - recall: 0.0075 - auc: 0.7795 - prc: 0.0932WARNING:tensorflow:Early stopping conditioned on metric `val_prc` which is not available. Available metrics are: loss,tp,fp,tn,fn,accuracy,precision,recall,auc,prc\n",
      "12500/12500 [==============================] - 14s 1ms/step - loss: 0.0852 - tp: 58.0000 - fp: 103.0000 - tn: 392102.0000 - fn: 7737.0000 - accuracy: 0.9804 - precision: 0.3602 - recall: 0.0074 - auc: 0.7795 - prc: 0.0932\n",
      "Epoch 11/40\n",
      "12486/12500 [============================>.] - ETA: 0s - loss: 0.0849 - tp: 80.0000 - fp: 108.0000 - tn: 391661.0000 - fn: 7703.0000 - accuracy: 0.9805 - precision: 0.4255 - recall: 0.0103 - auc: 0.7798 - prc: 0.0971WARNING:tensorflow:Early stopping conditioned on metric `val_prc` which is not available. Available metrics are: loss,tp,fp,tn,fn,accuracy,precision,recall,auc,prc\n",
      "12500/12500 [==============================] - 14s 1ms/step - loss: 0.0849 - tp: 80.0000 - fp: 109.0000 - tn: 392096.0000 - fn: 7715.0000 - accuracy: 0.9804 - precision: 0.4233 - recall: 0.0103 - auc: 0.7800 - prc: 0.0971\n",
      "Epoch 12/40\n",
      "12475/12500 [============================>.] - ETA: 0s - loss: 0.0850 - tp: 79.0000 - fp: 105.0000 - tn: 391318.0000 - fn: 7698.0000 - accuracy: 0.9805 - precision: 0.4293 - recall: 0.0102 - auc: 0.7809 - prc: 0.0960WARNING:tensorflow:Early stopping conditioned on metric `val_prc` which is not available. Available metrics are: loss,tp,fp,tn,fn,accuracy,precision,recall,auc,prc\n",
      "12500/12500 [==============================] - 14s 1ms/step - loss: 0.0850 - tp: 79.0000 - fp: 106.0000 - tn: 392099.0000 - fn: 7716.0000 - accuracy: 0.9804 - precision: 0.4270 - recall: 0.0101 - auc: 0.7810 - prc: 0.0959\n",
      "Epoch 13/40\n",
      "12483/12500 [============================>.] - ETA: 0s - loss: 0.0849 - tp: 61.0000 - fp: 106.0000 - tn: 391565.0000 - fn: 7724.0000 - accuracy: 0.9804 - precision: 0.3653 - recall: 0.0078 - auc: 0.7815 - prc: 0.0962WARNING:tensorflow:Early stopping conditioned on metric `val_prc` which is not available. Available metrics are: loss,tp,fp,tn,fn,accuracy,precision,recall,auc,prc\n",
      "12500/12500 [==============================] - 14s 1ms/step - loss: 0.0849 - tp: 61.0000 - fp: 106.0000 - tn: 392099.0000 - fn: 7734.0000 - accuracy: 0.9804 - precision: 0.3653 - recall: 0.0078 - auc: 0.7815 - prc: 0.0961\n",
      "Epoch 14/40\n",
      "12475/12500 [============================>.] - ETA: 0s - loss: 0.0851 - tp: 66.0000 - fp: 101.0000 - tn: 391323.0000 - fn: 7710.0000 - accuracy: 0.9804 - precision: 0.3952 - recall: 0.0085 - auc: 0.7791 - prc: 0.0931WARNING:tensorflow:Early stopping conditioned on metric `val_prc` which is not available. Available metrics are: loss,tp,fp,tn,fn,accuracy,precision,recall,auc,prc\n",
      "12500/12500 [==============================] - 14s 1ms/step - loss: 0.0851 - tp: 67.0000 - fp: 101.0000 - tn: 392104.0000 - fn: 7728.0000 - accuracy: 0.9804 - precision: 0.3988 - recall: 0.0086 - auc: 0.7792 - prc: 0.0934\n",
      "Epoch 15/40\n",
      "12495/12500 [============================>.] - ETA: 0s - loss: 0.0848 - tp: 73.0000 - fp: 111.0000 - tn: 391936.0000 - fn: 7720.0000 - accuracy: 0.9804 - precision: 0.3967 - recall: 0.0094 - auc: 0.7823 - prc: 0.0961WARNING:tensorflow:Early stopping conditioned on metric `val_prc` which is not available. Available metrics are: loss,tp,fp,tn,fn,accuracy,precision,recall,auc,prc\n",
      "12500/12500 [==============================] - 14s 1ms/step - loss: 0.0848 - tp: 73.0000 - fp: 111.0000 - tn: 392094.0000 - fn: 7722.0000 - accuracy: 0.9804 - precision: 0.3967 - recall: 0.0094 - auc: 0.7822 - prc: 0.0961\n",
      "Epoch 16/40\n",
      "12480/12500 [============================>.] - ETA: 0s - loss: 0.0847 - tp: 67.0000 - fp: 103.0000 - tn: 391473.0000 - fn: 7717.0000 - accuracy: 0.9804 - precision: 0.3941 - recall: 0.0086 - auc: 0.7844 - prc: 0.0977WARNING:tensorflow:Early stopping conditioned on metric `val_prc` which is not available. Available metrics are: loss,tp,fp,tn,fn,accuracy,precision,recall,auc,prc\n",
      "12500/12500 [==============================] - 14s 1ms/step - loss: 0.0847 - tp: 67.0000 - fp: 103.0000 - tn: 392102.0000 - fn: 7728.0000 - accuracy: 0.9804 - precision: 0.3941 - recall: 0.0086 - auc: 0.7844 - prc: 0.0976\n",
      "Epoch 17/40\n",
      "12497/12500 [============================>.] - ETA: 0s - loss: 0.0849 - tp: 68.0000 - fp: 103.0000 - tn: 392009.0000 - fn: 7724.0000 - accuracy: 0.9804 - precision: 0.3977 - recall: 0.0087 - auc: 0.7813 - prc: 0.0957WARNING:tensorflow:Early stopping conditioned on metric `val_prc` which is not available. Available metrics are: loss,tp,fp,tn,fn,accuracy,precision,recall,auc,prc\n",
      "12500/12500 [==============================] - 14s 1ms/step - loss: 0.0850 - tp: 68.0000 - fp: 103.0000 - tn: 392102.0000 - fn: 7727.0000 - accuracy: 0.9804 - precision: 0.3977 - recall: 0.0087 - auc: 0.7813 - prc: 0.0956\n",
      "Epoch 18/40\n",
      "12456/12500 [============================>.] - ETA: 0s - loss: 0.0844 - tp: 93.0000 - fp: 109.0000 - tn: 390724.0000 - fn: 7666.0000 - accuracy: 0.9805 - precision: 0.4604 - recall: 0.0120 - auc: 0.7839 - prc: 0.1004WARNING:tensorflow:Early stopping conditioned on metric `val_prc` which is not available. Available metrics are: loss,tp,fp,tn,fn,accuracy,precision,recall,auc,prc\n",
      "12500/12500 [==============================] - 14s 1ms/step - loss: 0.0845 - tp: 94.0000 - fp: 109.0000 - tn: 392096.0000 - fn: 7701.0000 - accuracy: 0.9805 - precision: 0.4631 - recall: 0.0121 - auc: 0.7839 - prc: 0.1005\n",
      "Epoch 19/40\n",
      "12483/12500 [============================>.] - ETA: 0s - loss: 0.0849 - tp: 65.0000 - fp: 107.0000 - tn: 391562.0000 - fn: 7722.0000 - accuracy: 0.9804 - precision: 0.3779 - recall: 0.0083 - auc: 0.7815 - prc: 0.0957WARNING:tensorflow:Early stopping conditioned on metric `val_prc` which is not available. Available metrics are: loss,tp,fp,tn,fn,accuracy,precision,recall,auc,prc\n",
      "12500/12500 [==============================] - 15s 1ms/step - loss: 0.0848 - tp: 65.0000 - fp: 107.0000 - tn: 392098.0000 - fn: 7730.0000 - accuracy: 0.9804 - precision: 0.3779 - recall: 0.0083 - auc: 0.7816 - prc: 0.0957\n",
      "Epoch 20/40\n",
      "12458/12500 [============================>.] - ETA: 0s - loss: 0.0847 - tp: 71.0000 - fp: 98.0000 - tn: 390791.0000 - fn: 7696.0000 - accuracy: 0.9804 - precision: 0.4201 - recall: 0.0091 - auc: 0.7842 - prc: 0.0960WARNING:tensorflow:Early stopping conditioned on metric `val_prc` which is not available. Available metrics are: loss,tp,fp,tn,fn,accuracy,precision,recall,auc,prc\n",
      "12500/12500 [==============================] - 14s 1ms/step - loss: 0.0847 - tp: 71.0000 - fp: 99.0000 - tn: 392106.0000 - fn: 7724.0000 - accuracy: 0.9804 - precision: 0.4176 - recall: 0.0091 - auc: 0.7839 - prc: 0.0957\n",
      "Epoch 21/40\n",
      "12489/12500 [============================>.] - ETA: 0s - loss: 0.0848 - tp: 67.0000 - fp: 91.0000 - tn: 391769.0000 - fn: 7721.0000 - accuracy: 0.9805 - precision: 0.4241 - recall: 0.0086 - auc: 0.7842 - prc: 0.0954WARNING:tensorflow:Early stopping conditioned on metric `val_prc` which is not available. Available metrics are: loss,tp,fp,tn,fn,accuracy,precision,recall,auc,prc\n",
      "12500/12500 [==============================] - 14s 1ms/step - loss: 0.0848 - tp: 67.0000 - fp: 92.0000 - tn: 392113.0000 - fn: 7728.0000 - accuracy: 0.9804 - precision: 0.4214 - recall: 0.0086 - auc: 0.7842 - prc: 0.0954\n",
      "Epoch 22/40\n",
      "12479/12500 [============================>.] - ETA: 0s - loss: 0.0845 - tp: 73.0000 - fp: 115.0000 - tn: 391435.0000 - fn: 7705.0000 - accuracy: 0.9804 - precision: 0.3883 - recall: 0.0094 - auc: 0.7834 - prc: 0.0989WARNING:tensorflow:Early stopping conditioned on metric `val_prc` which is not available. Available metrics are: loss,tp,fp,tn,fn,accuracy,precision,recall,auc,prc\n",
      "12500/12500 [==============================] - 14s 1ms/step - loss: 0.0846 - tp: 73.0000 - fp: 115.0000 - tn: 392090.0000 - fn: 7722.0000 - accuracy: 0.9804 - precision: 0.3883 - recall: 0.0094 - auc: 0.7833 - prc: 0.0989\n",
      "Epoch 23/40\n",
      "12463/12500 [============================>.] - ETA: 0s - loss: 0.0847 - tp: 81.0000 - fp: 105.0000 - tn: 390945.0000 - fn: 7685.0000 - accuracy: 0.9805 - precision: 0.4355 - recall: 0.0104 - auc: 0.7838 - prc: 0.0966WARNING:tensorflow:Early stopping conditioned on metric `val_prc` which is not available. Available metrics are: loss,tp,fp,tn,fn,accuracy,precision,recall,auc,prc\n",
      "12500/12500 [==============================] - 14s 1ms/step - loss: 0.0847 - tp: 82.0000 - fp: 106.0000 - tn: 392099.0000 - fn: 7713.0000 - accuracy: 0.9805 - precision: 0.4362 - recall: 0.0105 - auc: 0.7838 - prc: 0.0967\n",
      "Epoch 24/40\n",
      "12465/12500 [============================>.] - ETA: 0s - loss: 0.0847 - tp: 91.0000 - fp: 112.0000 - tn: 390993.0000 - fn: 7684.0000 - accuracy: 0.9805 - precision: 0.4483 - recall: 0.0117 - auc: 0.7823 - prc: 0.0990WARNING:tensorflow:Early stopping conditioned on metric `val_prc` which is not available. Available metrics are: loss,tp,fp,tn,fn,accuracy,precision,recall,auc,prc\n",
      "12500/12500 [==============================] - 14s 1ms/step - loss: 0.0847 - tp: 91.0000 - fp: 112.0000 - tn: 392093.0000 - fn: 7704.0000 - accuracy: 0.9805 - precision: 0.4483 - recall: 0.0117 - auc: 0.7822 - prc: 0.0988\n",
      "Epoch 25/40\n",
      "12480/12500 [============================>.] - ETA: 0s - loss: 0.0848 - tp: 79.0000 - fp: 99.0000 - tn: 391476.0000 - fn: 7706.0000 - accuracy: 0.9805 - precision: 0.4438 - recall: 0.0101 - auc: 0.7829 - prc: 0.0967WARNING:tensorflow:Early stopping conditioned on metric `val_prc` which is not available. Available metrics are: loss,tp,fp,tn,fn,accuracy,precision,recall,auc,prc\n",
      "12500/12500 [==============================] - 14s 1ms/step - loss: 0.0848 - tp: 79.0000 - fp: 99.0000 - tn: 392106.0000 - fn: 7716.0000 - accuracy: 0.9805 - precision: 0.4438 - recall: 0.0101 - auc: 0.7829 - prc: 0.0967\n",
      "Epoch 26/40\n",
      "12488/12500 [============================>.] - ETA: 0s - loss: 0.0847 - tp: 79.0000 - fp: 112.0000 - tn: 391716.0000 - fn: 7709.0000 - accuracy: 0.9804 - precision: 0.4136 - recall: 0.0101 - auc: 0.7832 - prc: 0.0979WARNING:tensorflow:Early stopping conditioned on metric `val_prc` which is not available. Available metrics are: loss,tp,fp,tn,fn,accuracy,precision,recall,auc,prc\n",
      "12500/12500 [==============================] - 14s 1ms/step - loss: 0.0847 - tp: 79.0000 - fp: 112.0000 - tn: 392093.0000 - fn: 7716.0000 - accuracy: 0.9804 - precision: 0.4136 - recall: 0.0101 - auc: 0.7831 - prc: 0.0979\n",
      "Epoch 27/40\n"
     ]
    },
    {
     "name": "stdout",
     "output_type": "stream",
     "text": [
      "12490/12500 [============================>.] - ETA: 0s - loss: 0.0849 - tp: 65.0000 - fp: 102.0000 - tn: 391790.0000 - fn: 7723.0000 - accuracy: 0.9804 - precision: 0.3892 - recall: 0.0083 - auc: 0.7830 - prc: 0.0956WARNING:tensorflow:Early stopping conditioned on metric `val_prc` which is not available. Available metrics are: loss,tp,fp,tn,fn,accuracy,precision,recall,auc,prc\n",
      "12500/12500 [==============================] - 14s 1ms/step - loss: 0.0849 - tp: 65.0000 - fp: 102.0000 - tn: 392103.0000 - fn: 7730.0000 - accuracy: 0.9804 - precision: 0.3892 - recall: 0.0083 - auc: 0.7831 - prc: 0.0957\n",
      "Epoch 28/40\n",
      "12457/12500 [============================>.] - ETA: 0s - loss: 0.0846 - tp: 78.0000 - fp: 114.0000 - tn: 390745.0000 - fn: 7687.0000 - accuracy: 0.9804 - precision: 0.4062 - recall: 0.0100 - auc: 0.7844 - prc: 0.0990WARNING:tensorflow:Early stopping conditioned on metric `val_prc` which is not available. Available metrics are: loss,tp,fp,tn,fn,accuracy,precision,recall,auc,prc\n",
      "12500/12500 [==============================] - 14s 1ms/step - loss: 0.0846 - tp: 78.0000 - fp: 114.0000 - tn: 392091.0000 - fn: 7717.0000 - accuracy: 0.9804 - precision: 0.4062 - recall: 0.0100 - auc: 0.7842 - prc: 0.0988\n",
      "Epoch 29/40\n",
      "12478/12500 [============================>.] - ETA: 0s - loss: 0.0846 - tp: 76.0000 - fp: 103.0000 - tn: 391417.0000 - fn: 7700.0000 - accuracy: 0.9805 - precision: 0.4246 - recall: 0.0098 - auc: 0.7830 - prc: 0.0994WARNING:tensorflow:Early stopping conditioned on metric `val_prc` which is not available. Available metrics are: loss,tp,fp,tn,fn,accuracy,precision,recall,auc,prc\n",
      "12500/12500 [==============================] - 14s 1ms/step - loss: 0.0847 - tp: 76.0000 - fp: 104.0000 - tn: 392101.0000 - fn: 7719.0000 - accuracy: 0.9804 - precision: 0.4222 - recall: 0.0097 - auc: 0.7830 - prc: 0.0993\n",
      "Epoch 30/40\n",
      "12464/12500 [============================>.] - ETA: 0s - loss: 0.0848 - tp: 77.0000 - fp: 108.0000 - tn: 390972.0000 - fn: 7691.0000 - accuracy: 0.9804 - precision: 0.4162 - recall: 0.0099 - auc: 0.7834 - prc: 0.0957WARNING:tensorflow:Early stopping conditioned on metric `val_prc` which is not available. Available metrics are: loss,tp,fp,tn,fn,accuracy,precision,recall,auc,prc\n",
      "12500/12500 [==============================] - 14s 1ms/step - loss: 0.0848 - tp: 77.0000 - fp: 108.0000 - tn: 392097.0000 - fn: 7718.0000 - accuracy: 0.9804 - precision: 0.4162 - recall: 0.0099 - auc: 0.7834 - prc: 0.0958\n",
      "Epoch 31/40\n",
      "12498/12500 [============================>.] - ETA: 0s - loss: 0.0850 - tp: 61.0000 - fp: 105.0000 - tn: 392036.0000 - fn: 7734.0000 - accuracy: 0.9804 - precision: 0.3675 - recall: 0.0078 - auc: 0.7827 - prc: 0.0939WARNING:tensorflow:Early stopping conditioned on metric `val_prc` which is not available. Available metrics are: loss,tp,fp,tn,fn,accuracy,precision,recall,auc,prc\n",
      "12500/12500 [==============================] - 14s 1ms/step - loss: 0.0850 - tp: 61.0000 - fp: 105.0000 - tn: 392100.0000 - fn: 7734.0000 - accuracy: 0.9804 - precision: 0.3675 - recall: 0.0078 - auc: 0.7827 - prc: 0.0939\n",
      "Epoch 32/40\n",
      "12487/12500 [============================>.] - ETA: 0s - loss: 0.0845 - tp: 91.0000 - fp: 126.0000 - tn: 391666.0000 - fn: 7701.0000 - accuracy: 0.9804 - precision: 0.4194 - recall: 0.0117 - auc: 0.7857 - prc: 0.1028WARNING:tensorflow:Early stopping conditioned on metric `val_prc` which is not available. Available metrics are: loss,tp,fp,tn,fn,accuracy,precision,recall,auc,prc\n",
      "12500/12500 [==============================] - 14s 1ms/step - loss: 0.0845 - tp: 91.0000 - fp: 126.0000 - tn: 392079.0000 - fn: 7704.0000 - accuracy: 0.9804 - precision: 0.4194 - recall: 0.0117 - auc: 0.7857 - prc: 0.1027\n",
      "Epoch 33/40\n",
      "12457/12500 [============================>.] - ETA: 0s - loss: 0.0849 - tp: 72.0000 - fp: 110.0000 - tn: 390746.0000 - fn: 7696.0000 - accuracy: 0.9804 - precision: 0.3956 - recall: 0.0093 - auc: 0.7812 - prc: 0.0960WARNING:tensorflow:Early stopping conditioned on metric `val_prc` which is not available. Available metrics are: loss,tp,fp,tn,fn,accuracy,precision,recall,auc,prc\n",
      "12500/12500 [==============================] - 14s 1ms/step - loss: 0.0849 - tp: 72.0000 - fp: 110.0000 - tn: 392095.0000 - fn: 7723.0000 - accuracy: 0.9804 - precision: 0.3956 - recall: 0.0092 - auc: 0.7815 - prc: 0.0960\n",
      "Epoch 34/40\n",
      "12499/12500 [============================>.] - ETA: 0s - loss: 0.0845 - tp: 85.0000 - fp: 110.0000 - tn: 392064.0000 - fn: 7709.0000 - accuracy: 0.9805 - precision: 0.4359 - recall: 0.0109 - auc: 0.7847 - prc: 0.1005WARNING:tensorflow:Early stopping conditioned on metric `val_prc` which is not available. Available metrics are: loss,tp,fp,tn,fn,accuracy,precision,recall,auc,prc\n",
      "12500/12500 [==============================] - 14s 1ms/step - loss: 0.0845 - tp: 85.0000 - fp: 110.0000 - tn: 392095.0000 - fn: 7710.0000 - accuracy: 0.9804 - precision: 0.4359 - recall: 0.0109 - auc: 0.7847 - prc: 0.1005\n",
      "Epoch 35/40\n",
      "12467/12500 [============================>.] - ETA: 0s - loss: 0.0847 - tp: 77.0000 - fp: 120.0000 - tn: 391049.0000 - fn: 7698.0000 - accuracy: 0.9804 - precision: 0.3909 - recall: 0.0099 - auc: 0.7839 - prc: 0.0972WARNING:tensorflow:Early stopping conditioned on metric `val_prc` which is not available. Available metrics are: loss,tp,fp,tn,fn,accuracy,precision,recall,auc,prc\n",
      "12500/12500 [==============================] - 14s 1ms/step - loss: 0.0847 - tp: 77.0000 - fp: 120.0000 - tn: 392085.0000 - fn: 7718.0000 - accuracy: 0.9804 - precision: 0.3909 - recall: 0.0099 - auc: 0.7837 - prc: 0.0971\n",
      "Epoch 36/40\n",
      "12494/12500 [============================>.] - ETA: 0s - loss: 0.0849 - tp: 69.0000 - fp: 110.0000 - tn: 391905.0000 - fn: 7724.0000 - accuracy: 0.9804 - precision: 0.3855 - recall: 0.0089 - auc: 0.7815 - prc: 0.0962WARNING:tensorflow:Early stopping conditioned on metric `val_prc` which is not available. Available metrics are: loss,tp,fp,tn,fn,accuracy,precision,recall,auc,prc\n",
      "12500/12500 [==============================] - 14s 1ms/step - loss: 0.0849 - tp: 69.0000 - fp: 110.0000 - tn: 392095.0000 - fn: 7726.0000 - accuracy: 0.9804 - precision: 0.3855 - recall: 0.0089 - auc: 0.7816 - prc: 0.0962\n",
      "Epoch 37/40\n",
      "12476/12500 [============================>.] - ETA: 0s - loss: 0.0847 - tp: 81.0000 - fp: 125.0000 - tn: 391326.0000 - fn: 7700.0000 - accuracy: 0.9804 - precision: 0.3932 - recall: 0.0104 - auc: 0.7837 - prc: 0.0988WARNING:tensorflow:Early stopping conditioned on metric `val_prc` which is not available. Available metrics are: loss,tp,fp,tn,fn,accuracy,precision,recall,auc,prc\n",
      "12500/12500 [==============================] - 14s 1ms/step - loss: 0.0847 - tp: 81.0000 - fp: 125.0000 - tn: 392080.0000 - fn: 7714.0000 - accuracy: 0.9804 - precision: 0.3932 - recall: 0.0104 - auc: 0.7837 - prc: 0.0987\n",
      "Epoch 38/40\n",
      "12458/12500 [============================>.] - ETA: 0s - loss: 0.0849 - tp: 67.0000 - fp: 95.0000 - tn: 390794.0000 - fn: 7700.0000 - accuracy: 0.9804 - precision: 0.4136 - recall: 0.0086 - auc: 0.7822 - prc: 0.0961WARNING:tensorflow:Early stopping conditioned on metric `val_prc` which is not available. Available metrics are: loss,tp,fp,tn,fn,accuracy,precision,recall,auc,prc\n",
      "12500/12500 [==============================] - 14s 1ms/step - loss: 0.0849 - tp: 67.0000 - fp: 98.0000 - tn: 392107.0000 - fn: 7728.0000 - accuracy: 0.9804 - precision: 0.4061 - recall: 0.0086 - auc: 0.7822 - prc: 0.0961\n",
      "Epoch 39/40\n",
      "12482/12500 [============================>.] - ETA: 0s - loss: 0.0847 - tp: 74.0000 - fp: 117.0000 - tn: 391518.0000 - fn: 7715.0000 - accuracy: 0.9804 - precision: 0.3874 - recall: 0.0095 - auc: 0.7845 - prc: 0.0976WARNING:tensorflow:Early stopping conditioned on metric `val_prc` which is not available. Available metrics are: loss,tp,fp,tn,fn,accuracy,precision,recall,auc,prc\n",
      "12500/12500 [==============================] - 14s 1ms/step - loss: 0.0846 - tp: 74.0000 - fp: 118.0000 - tn: 392087.0000 - fn: 7721.0000 - accuracy: 0.9804 - precision: 0.3854 - recall: 0.0095 - auc: 0.7844 - prc: 0.0975\n",
      "Epoch 40/40\n",
      "12498/12500 [============================>.] - ETA: 0s - loss: 0.0847 - tp: 85.0000 - fp: 109.0000 - tn: 392032.0000 - fn: 7710.0000 - accuracy: 0.9804 - precision: 0.4381 - recall: 0.0109 - auc: 0.7839 - prc: 0.1001WARNING:tensorflow:Early stopping conditioned on metric `val_prc` which is not available. Available metrics are: loss,tp,fp,tn,fn,accuracy,precision,recall,auc,prc\n",
      "12500/12500 [==============================] - 15s 1ms/step - loss: 0.0847 - tp: 85.0000 - fp: 109.0000 - tn: 392096.0000 - fn: 7710.0000 - accuracy: 0.9805 - precision: 0.4381 - recall: 0.0109 - auc: 0.7839 - prc: 0.1001\n"
     ]
    }
   ],
   "source": [
    "model = make_model(output_bias=initial_bias)\n",
    "baseline_history = model.fit(\n",
    "    X_train_selected,\n",
    "    y_train,\n",
    "    batch_size=32,\n",
    "    epochs=40,\n",
    "    callbacks=[early_stopping])"
   ]
  },
  {
   "cell_type": "code",
   "execution_count": 237,
   "metadata": {},
   "outputs": [],
   "source": [
    "y_pred_nn_2=model.predict(X_test_selected)"
   ]
  },
  {
   "cell_type": "code",
   "execution_count": 284,
   "metadata": {},
   "outputs": [],
   "source": [
    "y_pred_nn_2_act = (y_pred > 0.8)"
   ]
  },
  {
   "cell_type": "code",
   "execution_count": 285,
   "metadata": {},
   "outputs": [
    {
     "data": {
      "text/plain": [
       "<matplotlib.axes._subplots.AxesSubplot at 0x1d57ccafd00>"
      ]
     },
     "execution_count": 285,
     "metadata": {},
     "output_type": "execute_result"
    },
    {
     "data": {
      "image/png": "[encoded data removed]",
      "text/plain": [
       "<Figure size 432x288 with 2 Axes>"
      ]
     },
     "metadata": {
      "needs_background": "light"
     },
     "output_type": "display_data"
    }
   ],
   "source": [
    "sns.heatmap(confusion_matrix(y_test,y_pred_nn_2_act), annot=True, fmt='g')"
   ]
  },
  {
   "cell_type": "code",
   "execution_count": 286,
   "metadata": {},
   "outputs": [
    {
     "name": "stdout",
     "output_type": "stream",
     "text": [
      "Base Model Result(Neural Network)\n",
      "accuracy: 0.9657\n",
      "precision: 0.17553191489361702\n",
      "recall: 0.20142421159715157\n",
      "f2: 0.19565217391304343\n"
     ]
    }
   ],
   "source": [
    "print_results(\"Base Model Result(Neural Network)\", y_test, y_pred_nn_2_act)"
   ]
  },
  {
   "cell_type": "code",
   "execution_count": 300,
   "metadata": {},
   "outputs": [
    {
     "data": {
      "text/plain": [
       "(-0.01, 1.0, 0.0, 1.0)"
      ]
     },
     "execution_count": 300,
     "metadata": {},
     "output_type": "execute_result"
    },
    {
     "data": {
      "image/png": "[encoded data removed]",
      "text/plain": [
       "<Figure size 576x432 with 1 Axes>"
      ]
     },
     "metadata": {
      "needs_background": "light"
     },
     "output_type": "display_data"
    }
   ],
   "source": [
    "log_fpr, log_tpr, log_thresold = roc_curve(y_test, y_pred_nn_2)\n",
    "auc = sklearn.metrics.auc(log_fpr, log_tpr)\n",
    "plt.figure(figsize=(8,6))\n",
    "title_1= \"ROC Curve \"+str(round(auc,2))\n",
    "plt.title(title_1, fontsize=16)\n",
    "plt.plot(log_fpr, log_tpr, 'b-', linewidth=2, label=\"AUC = %.2f\" % auc)\n",
    "plt.plot([0, 1], [0, 1], 'r--')\n",
    "plt.xlabel('False Positive Rate', fontsize=16)\n",
    "plt.ylabel('True Positive Rate', fontsize=16)\n",
    "plt.axis([-0.01,1,0,1])"
   ]
  },
  {
   "cell_type": "code",
   "execution_count": 135,
   "metadata": {},
   "outputs": [],
   "source": [
    "y_pred_rf= best_rf.predict(X_test_selected)"
   ]
  },
  {
   "cell_type": "markdown",
   "metadata": {},
   "source": [
    "### Random Forest - undersampling and Bagging\n",
    "In this technique we allow it to successively undersample majority class while fitting an estimator on top. This technique can result in better f1 score"
   ]
  },
  {
   "cell_type": "code",
   "execution_count": 219,
   "metadata": {},
   "outputs": [],
   "source": [
    "from imblearn.ensemble import BalancedRandomForestClassifier\n",
    "from sklearn.model_selection import RepeatedStratifiedKFold\n"
   ]
  },
  {
   "cell_type": "code",
   "execution_count": 220,
   "metadata": {},
   "outputs": [],
   "source": [
    "def rf_search(X, y, search_verbose=1):\n",
    "    params = {\n",
    "        \"max_depth\":[4,5,6],\n",
    "        'min_samples_leaf': [1, 2],\n",
    "         'min_samples_split': [2, 5, 10]\n",
    "    }\n",
    "    brf = BalancedRandomForestClassifier(n_estimators=100)\n",
    "    cv = RepeatedStratifiedKFold(n_splits=10, n_repeats=3, random_state=1)\n",
    "    #skf = StratifiedKFold(n_splits=3, shuffle=True, random_state=1234)\n",
    "    grid_search = GridSearchCV(estimator=brf, param_grid=params, scoring=\"roc_auc\", n_jobs=-1, cv=cv.split(X,y), verbose=1000)\n",
    "    grid_search.fit(X, y)\n",
    "    print(\"Best estimator: \")\n",
    "    print(grid_search.best_estimator_)\n",
    "    print(\"Parameters: \", grid_search.best_params_)\n",
    "    print(\"Highest AUC: %.2f\" % grid_search.best_score_)\n",
    "    return grid_search.best_params_"
   ]
  },
  {
   "cell_type": "code",
   "execution_count": 221,
   "metadata": {},
   "outputs": [
    {
     "name": "stdout",
     "output_type": "stream",
     "text": [
      "Fitting 30 folds for each of 18 candidates, totalling 540 fits\n",
      "Best estimator: \n",
      "BalancedRandomForestClassifier(max_depth=6, min_samples_leaf=2,\n",
      "                               min_samples_split=5)\n",
      "Parameters:  {'max_depth': 6, 'min_samples_leaf': 2, 'min_samples_split': 5}\n",
      "Highest AUC: 0.10\n"
     ]
    },
    {
     "data": {
      "text/plain": [
       "{'max_depth': 6, 'min_samples_leaf': 2, 'min_samples_split': 5}"
      ]
     },
     "execution_count": 221,
     "metadata": {},
     "output_type": "execute_result"
    }
   ],
   "source": [
    "rf_search(X_train_selected, y_train)"
   ]
  },
  {
   "cell_type": "code",
   "execution_count": 222,
   "metadata": {},
   "outputs": [],
   "source": [
    "best_brf= BalancedRandomForestClassifier(n_estimators=100, max_depth=6, min_samples_leaf=2, min_samples_split=5)"
   ]
  },
  {
   "cell_type": "code",
   "execution_count": 223,
   "metadata": {},
   "outputs": [
    {
     "data": {
      "text/plain": [
       "BalancedRandomForestClassifier(max_depth=6, min_samples_leaf=2,\n",
       "                               min_samples_split=5)"
      ]
     },
     "execution_count": 223,
     "metadata": {},
     "output_type": "execute_result"
    }
   ],
   "source": [
    "best_brf.fit(X_train_selected, y_train)"
   ]
  },
  {
   "cell_type": "code",
   "execution_count": 224,
   "metadata": {},
   "outputs": [
    {
     "name": "stdout",
     "output_type": "stream",
     "text": [
      "Base Model Result(Logistic Regression)\n",
      "accuracy: 0.76011\n",
      "precision: 0.05654222544400145\n",
      "recall: 0.7141403865717192\n",
      "f2: 0.2147117296222664\n"
     ]
    }
   ],
   "source": [
    "print_results(\"Base Model Result(Logistic Regression)\", y_test, best_brf.predict(X_test_selected))"
   ]
  },
  {
   "cell_type": "code",
   "execution_count": 225,
   "metadata": {},
   "outputs": [
    {
     "data": {
      "text/plain": [
       "<matplotlib.axes._subplots.AxesSubplot at 0x1d57ccbe130>"
      ]
     },
     "execution_count": 225,
     "metadata": {},
     "output_type": "execute_result"
    },
    {
     "data": {
      "image/png": "[encoded data removed]",
      "text/plain": [
       "<Figure size 432x288 with 2 Axes>"
      ]
     },
     "metadata": {
      "needs_background": "light"
     },
     "output_type": "display_data"
    }
   ],
   "source": [
    "sns.heatmap(confusion_matrix(y_test, best_brf.predict(X_test_selected)), annot=True, fmt='g')"
   ]
  },
  {
   "cell_type": "code",
   "execution_count": 227,
   "metadata": {},
   "outputs": [
    {
     "data": {
      "image/png": "[encoded data removed]",
      "text/plain": [
       "<Figure size 576x432 with 1 Axes>"
      ]
     },
     "metadata": {
      "needs_background": "light"
     },
     "output_type": "display_data"
    }
   ],
   "source": [
    "plot_roc_curve(best_brf, X_test_selected, y_test)"
   ]
  },
  {
   "cell_type": "code",
   "execution_count": 228,
   "metadata": {},
   "outputs": [
    {
     "data": {
      "image/png": "[encoded data removed]",
      "text/plain": [
       "<Figure size 576x432 with 1 Axes>"
      ]
     },
     "metadata": {
      "needs_background": "light"
     },
     "output_type": "display_data"
    }
   ],
   "source": [
    "plot_pr_curve(best_brf, X_test_selected, y_test)"
   ]
  },
  {
   "cell_type": "code",
   "execution_count": 229,
   "metadata": {},
   "outputs": [
    {
     "data": {
      "text/plain": [
       "Text(0.5, 0.98, 'Impact of threshold adjustment on the error matrix')"
      ]
     },
     "execution_count": 229,
     "metadata": {},
     "output_type": "execute_result"
    },
    {
     "data": {
      "image/png": "[encoded data removed]",
      "text/plain": [
       "<Figure size 720x720 with 9 Axes>"
      ]
     },
     "metadata": {
      "needs_background": "light"
     },
     "output_type": "display_data"
    }
   ],
   "source": [
    "y_pred = best_brf.predict_proba(X_test_selected)[:,1]\n",
    "fig, axes = plt.subplots(3,3, figsize=(10,10))\n",
    "for t, ax in enumerate(axes.flat):\n",
    "    threshold = (t+1)/10\n",
    "    y_pred_int = (y_pred > threshold).astype(int)\n",
    "    c_matrix = sklearn.metrics.confusion_matrix(y_test, y_pred_int)\n",
    "    sns.heatmap(c_matrix, annot=True, cmap=\"Blues\", fmt=\"d\", ax=ax, cbar=False)\n",
    "    ax.title.set_text(\"T=%.1f\" % threshold)\n",
    "plt.subplots_adjust(hspace=0.5, wspace=0.5)\n",
    "plt.suptitle(\"Impact of threshold adjustment on the error matrix\")"
   ]
  },
  {
   "cell_type": "markdown",
   "metadata": {},
   "source": [
    "### Voting Classifier\n",
    "\n",
    "We will combine all the good model to ensemble the best model (hopefully)"
   ]
  },
  {
   "cell_type": "code",
   "execution_count": 253,
   "metadata": {},
   "outputs": [],
   "source": [
    "from sklearn.ensemble import VotingClassifier"
   ]
  },
  {
   "cell_type": "code",
   "execution_count": 288,
   "metadata": {},
   "outputs": [],
   "source": [
    "best_vote = VotingClassifier(estimators=[('lr', best_lg), ('lgbm', best_lgbm_optuna),('brf', best_brf), ('rf', best_rf),('xgb', best_xgb), ('cat', best_cat) ], voting='soft')"
   ]
  },
  {
   "cell_type": "code",
   "execution_count": 289,
   "metadata": {},
   "outputs": [
    {
     "name": "stdout",
     "output_type": "stream",
     "text": [
      "[LightGBM] [Warning] feature_fraction is set=0.8747075522206045, colsample_bytree=1.0 will be ignored. Current value: feature_fraction=0.8747075522206045\n",
      "[LightGBM] [Warning] lambda_l1 is set=0.00109030836866613, reg_alpha=0.0 will be ignored. Current value: lambda_l1=0.00109030836866613\n",
      "[LightGBM] [Warning] bagging_fraction is set=0.7108018770409114, subsample=1.0 will be ignored. Current value: bagging_fraction=0.7108018770409114\n",
      "[LightGBM] [Warning] lambda_l2 is set=4.6990889744943706e-05, reg_lambda=0.0 will be ignored. Current value: lambda_l2=4.6990889744943706e-05\n",
      "[LightGBM] [Warning] bagging_freq is set=7, subsample_freq=0 will be ignored. Current value: bagging_freq=7\n",
      "0:\tlearn: 0.8027377\ttotal: 70.1ms\tremaining: 14s\n",
      "1:\tlearn: 0.8072297\ttotal: 130ms\tremaining: 12.9s\n",
      "2:\tlearn: 0.8056276\ttotal: 186ms\tremaining: 12.2s\n",
      "3:\tlearn: 0.8141587\ttotal: 246ms\tremaining: 12s\n",
      "4:\tlearn: 0.8183178\ttotal: 308ms\tremaining: 12s\n",
      "5:\tlearn: 0.8293329\ttotal: 367ms\tremaining: 11.9s\n",
      "6:\tlearn: 0.8479413\ttotal: 425ms\tremaining: 11.7s\n",
      "7:\tlearn: 0.8497354\ttotal: 484ms\tremaining: 11.6s\n",
      "8:\tlearn: 0.8515352\ttotal: 544ms\tremaining: 11.5s\n",
      "9:\tlearn: 0.8520263\ttotal: 603ms\tremaining: 11.5s\n",
      "10:\tlearn: 0.8522402\ttotal: 662ms\tremaining: 11.4s\n",
      "11:\tlearn: 0.8541329\ttotal: 721ms\tremaining: 11.3s\n",
      "12:\tlearn: 0.8573577\ttotal: 781ms\tremaining: 11.2s\n",
      "13:\tlearn: 0.8596545\ttotal: 839ms\tremaining: 11.2s\n",
      "14:\tlearn: 0.8614430\ttotal: 897ms\tremaining: 11.1s\n",
      "15:\tlearn: 0.8615991\ttotal: 956ms\tremaining: 11s\n",
      "16:\tlearn: 0.8613765\ttotal: 1.01s\tremaining: 10.9s\n",
      "17:\tlearn: 0.8625132\ttotal: 1.08s\tremaining: 10.9s\n",
      "18:\tlearn: 0.8629223\ttotal: 1.14s\tremaining: 10.8s\n",
      "19:\tlearn: 0.8640081\ttotal: 1.2s\tremaining: 10.8s\n",
      "20:\tlearn: 0.8641854\ttotal: 1.26s\tremaining: 10.7s\n",
      "21:\tlearn: 0.8661903\ttotal: 1.32s\tremaining: 10.6s\n",
      "22:\tlearn: 0.8666504\ttotal: 1.38s\tremaining: 10.6s\n",
      "23:\tlearn: 0.8664971\ttotal: 1.43s\tremaining: 10.5s\n",
      "24:\tlearn: 0.8666980\ttotal: 1.49s\tremaining: 10.5s\n",
      "25:\tlearn: 0.8669753\ttotal: 1.55s\tremaining: 10.4s\n",
      "26:\tlearn: 0.8675492\ttotal: 1.61s\tremaining: 10.3s\n",
      "27:\tlearn: 0.8686406\ttotal: 1.67s\tremaining: 10.3s\n",
      "28:\tlearn: 0.8691748\ttotal: 1.73s\tremaining: 10.2s\n",
      "29:\tlearn: 0.8699164\ttotal: 1.79s\tremaining: 10.1s\n",
      "30:\tlearn: 0.8715815\ttotal: 1.85s\tremaining: 10.1s\n",
      "31:\tlearn: 0.8721105\ttotal: 1.91s\tremaining: 10s\n",
      "32:\tlearn: 0.8733846\ttotal: 1.97s\tremaining: 9.95s\n",
      "33:\tlearn: 0.8740310\ttotal: 2.02s\tremaining: 9.88s\n",
      "34:\tlearn: 0.8751064\ttotal: 2.08s\tremaining: 9.82s\n",
      "35:\tlearn: 0.8764873\ttotal: 2.14s\tremaining: 9.75s\n",
      "36:\tlearn: 0.8761805\ttotal: 2.2s\tremaining: 9.68s\n",
      "37:\tlearn: 0.8775570\ttotal: 2.26s\tremaining: 9.62s\n",
      "38:\tlearn: 0.8785224\ttotal: 2.31s\tremaining: 9.55s\n",
      "39:\tlearn: 0.8812531\ttotal: 2.37s\tremaining: 9.48s\n",
      "40:\tlearn: 0.8813848\ttotal: 2.43s\tremaining: 9.43s\n",
      "41:\tlearn: 0.8822189\ttotal: 2.49s\tremaining: 9.36s\n",
      "42:\tlearn: 0.8839713\ttotal: 2.55s\tremaining: 9.3s\n",
      "43:\tlearn: 0.8866083\ttotal: 2.61s\tremaining: 9.24s\n",
      "44:\tlearn: 0.8862848\ttotal: 2.66s\tremaining: 9.17s\n",
      "45:\tlearn: 0.8868395\ttotal: 2.72s\tremaining: 9.11s\n",
      "46:\tlearn: 0.8890631\ttotal: 2.78s\tremaining: 9.04s\n",
      "47:\tlearn: 0.8903490\ttotal: 2.84s\tremaining: 8.98s\n",
      "48:\tlearn: 0.8905880\ttotal: 2.89s\tremaining: 8.92s\n",
      "49:\tlearn: 0.8918925\ttotal: 2.95s\tremaining: 8.86s\n",
      "50:\tlearn: 0.8930868\ttotal: 3.01s\tremaining: 8.8s\n",
      "51:\tlearn: 0.8938450\ttotal: 3.07s\tremaining: 8.74s\n",
      "52:\tlearn: 0.8941336\ttotal: 3.13s\tremaining: 8.68s\n",
      "53:\tlearn: 0.8950641\ttotal: 3.19s\tremaining: 8.62s\n",
      "54:\tlearn: 0.8959903\ttotal: 3.25s\tremaining: 8.56s\n",
      "55:\tlearn: 0.8975043\ttotal: 3.31s\tremaining: 8.5s\n",
      "56:\tlearn: 0.8982346\ttotal: 3.37s\tremaining: 8.44s\n",
      "57:\tlearn: 0.8993636\ttotal: 3.42s\tremaining: 8.38s\n",
      "58:\tlearn: 0.9000457\ttotal: 3.48s\tremaining: 8.32s\n",
      "59:\tlearn: 0.9009699\ttotal: 3.54s\tremaining: 8.26s\n",
      "60:\tlearn: 0.9019531\ttotal: 3.6s\tremaining: 8.2s\n",
      "61:\tlearn: 0.9023619\ttotal: 3.66s\tremaining: 8.14s\n",
      "62:\tlearn: 0.9026402\ttotal: 3.71s\tremaining: 8.08s\n",
      "63:\tlearn: 0.9035738\ttotal: 3.77s\tremaining: 8.02s\n",
      "64:\tlearn: 0.9038786\ttotal: 3.83s\tremaining: 7.96s\n",
      "65:\tlearn: 0.9040339\ttotal: 3.89s\tremaining: 7.9s\n",
      "66:\tlearn: 0.9044370\ttotal: 3.95s\tremaining: 7.84s\n",
      "67:\tlearn: 0.9057836\ttotal: 4.01s\tremaining: 7.78s\n",
      "68:\tlearn: 0.9069187\ttotal: 4.07s\tremaining: 7.72s\n",
      "69:\tlearn: 0.9071889\ttotal: 4.13s\tremaining: 7.66s\n",
      "70:\tlearn: 0.9073182\ttotal: 4.18s\tremaining: 7.6s\n",
      "71:\tlearn: 0.9078389\ttotal: 4.24s\tremaining: 7.54s\n",
      "72:\tlearn: 0.9079316\ttotal: 4.3s\tremaining: 7.49s\n",
      "73:\tlearn: 0.9093172\ttotal: 4.36s\tremaining: 7.43s\n",
      "74:\tlearn: 0.9098128\ttotal: 4.42s\tremaining: 7.37s\n",
      "75:\tlearn: 0.9105470\ttotal: 4.48s\tremaining: 7.31s\n",
      "76:\tlearn: 0.9107073\ttotal: 4.54s\tremaining: 7.26s\n",
      "77:\tlearn: 0.9111038\ttotal: 4.6s\tremaining: 7.2s\n",
      "78:\tlearn: 0.9128695\ttotal: 4.66s\tremaining: 7.14s\n",
      "79:\tlearn: 0.9132216\ttotal: 4.72s\tremaining: 7.08s\n",
      "80:\tlearn: 0.9140779\ttotal: 4.78s\tremaining: 7.02s\n",
      "81:\tlearn: 0.9145662\ttotal: 4.84s\tremaining: 6.96s\n",
      "82:\tlearn: 0.9150569\ttotal: 4.9s\tremaining: 6.91s\n",
      "83:\tlearn: 0.9157115\ttotal: 4.96s\tremaining: 6.84s\n",
      "84:\tlearn: 0.9161312\ttotal: 5.01s\tremaining: 6.78s\n",
      "85:\tlearn: 0.9165860\ttotal: 5.07s\tremaining: 6.72s\n",
      "86:\tlearn: 0.9167796\ttotal: 5.13s\tremaining: 6.66s\n",
      "87:\tlearn: 0.9170571\ttotal: 5.19s\tremaining: 6.61s\n",
      "88:\tlearn: 0.9181462\ttotal: 5.25s\tremaining: 6.55s\n",
      "89:\tlearn: 0.9185743\ttotal: 5.31s\tremaining: 6.49s\n",
      "90:\tlearn: 0.9187169\ttotal: 5.37s\tremaining: 6.43s\n",
      "91:\tlearn: 0.9189800\ttotal: 5.43s\tremaining: 6.37s\n",
      "92:\tlearn: 0.9189542\ttotal: 5.49s\tremaining: 6.31s\n",
      "93:\tlearn: 0.9191261\ttotal: 5.54s\tremaining: 6.25s\n",
      "94:\tlearn: 0.9191612\ttotal: 5.61s\tremaining: 6.2s\n",
      "95:\tlearn: 0.9195588\ttotal: 5.67s\tremaining: 6.14s\n",
      "96:\tlearn: 0.9196451\ttotal: 5.72s\tremaining: 6.08s\n",
      "97:\tlearn: 0.9199101\ttotal: 5.78s\tremaining: 6.02s\n",
      "98:\tlearn: 0.9203080\ttotal: 5.84s\tremaining: 5.96s\n",
      "99:\tlearn: 0.9204912\ttotal: 5.9s\tremaining: 5.9s\n",
      "100:\tlearn: 0.9210879\ttotal: 5.96s\tremaining: 5.84s\n",
      "101:\tlearn: 0.9216516\ttotal: 6.02s\tremaining: 5.78s\n",
      "102:\tlearn: 0.9218501\ttotal: 6.08s\tremaining: 5.72s\n",
      "103:\tlearn: 0.9225136\ttotal: 6.14s\tremaining: 5.67s\n",
      "104:\tlearn: 0.9228449\ttotal: 6.2s\tremaining: 5.61s\n",
      "105:\tlearn: 0.9234754\ttotal: 6.25s\tremaining: 5.55s\n",
      "106:\tlearn: 0.9239253\ttotal: 6.32s\tremaining: 5.49s\n",
      "107:\tlearn: 0.9240072\ttotal: 6.38s\tremaining: 5.43s\n",
      "108:\tlearn: 0.9242821\ttotal: 6.43s\tremaining: 5.37s\n",
      "109:\tlearn: 0.9243877\ttotal: 6.49s\tremaining: 5.31s\n",
      "110:\tlearn: 0.9247736\ttotal: 6.55s\tremaining: 5.25s\n",
      "111:\tlearn: 0.9256563\ttotal: 6.61s\tremaining: 5.19s\n",
      "112:\tlearn: 0.9258540\ttotal: 6.67s\tremaining: 5.13s\n",
      "113:\tlearn: 0.9261389\ttotal: 6.73s\tremaining: 5.08s\n",
      "114:\tlearn: 0.9262908\ttotal: 6.79s\tremaining: 5.02s\n",
      "115:\tlearn: 0.9264471\ttotal: 6.85s\tremaining: 4.96s\n",
      "116:\tlearn: 0.9269397\ttotal: 6.91s\tremaining: 4.9s\n",
      "117:\tlearn: 0.9272009\ttotal: 6.97s\tremaining: 4.84s\n",
      "118:\tlearn: 0.9277635\ttotal: 7.03s\tremaining: 4.78s\n",
      "119:\tlearn: 0.9278443\ttotal: 7.09s\tremaining: 4.72s\n",
      "120:\tlearn: 0.9281244\ttotal: 7.15s\tremaining: 4.67s\n",
      "121:\tlearn: 0.9281890\ttotal: 7.21s\tremaining: 4.61s\n",
      "122:\tlearn: 0.9282554\ttotal: 7.27s\tremaining: 4.55s\n",
      "123:\tlearn: 0.9283946\ttotal: 7.33s\tremaining: 4.49s\n",
      "124:\tlearn: 0.9284136\ttotal: 7.39s\tremaining: 4.44s\n",
      "125:\tlearn: 0.9287864\ttotal: 7.46s\tremaining: 4.38s\n",
      "126:\tlearn: 0.9294667\ttotal: 7.52s\tremaining: 4.32s\n",
      "127:\tlearn: 0.9294449\ttotal: 7.58s\tremaining: 4.26s\n",
      "128:\tlearn: 0.9296620\ttotal: 7.64s\tremaining: 4.2s\n",
      "129:\tlearn: 0.9298279\ttotal: 7.7s\tremaining: 4.14s\n",
      "130:\tlearn: 0.9298873\ttotal: 7.76s\tremaining: 4.09s\n",
      "131:\tlearn: 0.9301132\ttotal: 7.82s\tremaining: 4.03s\n",
      "132:\tlearn: 0.9308352\ttotal: 7.88s\tremaining: 3.97s\n",
      "133:\tlearn: 0.9309058\ttotal: 7.93s\tremaining: 3.91s\n",
      "134:\tlearn: 0.9310513\ttotal: 7.99s\tremaining: 3.85s\n",
      "135:\tlearn: 0.9310951\ttotal: 8.06s\tremaining: 3.79s\n",
      "136:\tlearn: 0.9311459\ttotal: 8.12s\tremaining: 3.73s\n",
      "137:\tlearn: 0.9311431\ttotal: 8.18s\tremaining: 3.67s\n",
      "138:\tlearn: 0.9313310\ttotal: 8.23s\tremaining: 3.61s\n",
      "139:\tlearn: 0.9314079\ttotal: 8.29s\tremaining: 3.56s\n",
      "140:\tlearn: 0.9315327\ttotal: 8.36s\tremaining: 3.5s\n",
      "141:\tlearn: 0.9316485\ttotal: 8.41s\tremaining: 3.44s\n",
      "142:\tlearn: 0.9319426\ttotal: 8.47s\tremaining: 3.38s\n",
      "143:\tlearn: 0.9320384\ttotal: 8.53s\tremaining: 3.32s\n",
      "144:\tlearn: 0.9322782\ttotal: 8.59s\tremaining: 3.26s\n",
      "145:\tlearn: 0.9327122\ttotal: 8.65s\tremaining: 3.2s\n",
      "146:\tlearn: 0.9329268\ttotal: 8.71s\tremaining: 3.14s\n",
      "147:\tlearn: 0.9335189\ttotal: 8.77s\tremaining: 3.08s\n",
      "148:\tlearn: 0.9336755\ttotal: 8.83s\tremaining: 3.02s\n",
      "149:\tlearn: 0.9338037\ttotal: 8.89s\tremaining: 2.96s\n"
     ]
    },
    {
     "name": "stdout",
     "output_type": "stream",
     "text": [
      "150:\tlearn: 0.9339929\ttotal: 8.95s\tremaining: 2.9s\n",
      "151:\tlearn: 0.9340963\ttotal: 9.01s\tremaining: 2.84s\n",
      "152:\tlearn: 0.9341979\ttotal: 9.07s\tremaining: 2.79s\n",
      "153:\tlearn: 0.9344855\ttotal: 9.13s\tremaining: 2.73s\n",
      "154:\tlearn: 0.9345084\ttotal: 9.19s\tremaining: 2.67s\n",
      "155:\tlearn: 0.9345574\ttotal: 9.25s\tremaining: 2.61s\n",
      "156:\tlearn: 0.9351189\ttotal: 9.31s\tremaining: 2.55s\n",
      "157:\tlearn: 0.9354131\ttotal: 9.37s\tremaining: 2.49s\n",
      "158:\tlearn: 0.9355530\ttotal: 9.42s\tremaining: 2.43s\n",
      "159:\tlearn: 0.9356841\ttotal: 9.49s\tremaining: 2.37s\n",
      "160:\tlearn: 0.9357132\ttotal: 9.55s\tremaining: 2.31s\n",
      "161:\tlearn: 0.9364144\ttotal: 9.61s\tremaining: 2.25s\n",
      "162:\tlearn: 0.9363998\ttotal: 9.67s\tremaining: 2.19s\n",
      "163:\tlearn: 0.9364097\ttotal: 9.73s\tremaining: 2.13s\n",
      "164:\tlearn: 0.9365134\ttotal: 9.79s\tremaining: 2.08s\n",
      "165:\tlearn: 0.9366232\ttotal: 9.85s\tremaining: 2.02s\n",
      "166:\tlearn: 0.9369917\ttotal: 9.91s\tremaining: 1.96s\n",
      "167:\tlearn: 0.9371526\ttotal: 9.97s\tremaining: 1.9s\n",
      "168:\tlearn: 0.9372115\ttotal: 10s\tremaining: 1.84s\n",
      "169:\tlearn: 0.9375587\ttotal: 10.1s\tremaining: 1.78s\n",
      "170:\tlearn: 0.9376685\ttotal: 10.2s\tremaining: 1.72s\n",
      "171:\tlearn: 0.9377218\ttotal: 10.2s\tremaining: 1.66s\n",
      "172:\tlearn: 0.9377919\ttotal: 10.3s\tremaining: 1.6s\n",
      "173:\tlearn: 0.9377684\ttotal: 10.3s\tremaining: 1.54s\n",
      "174:\tlearn: 0.9378575\ttotal: 10.4s\tremaining: 1.49s\n",
      "175:\tlearn: 0.9378754\ttotal: 10.5s\tremaining: 1.43s\n",
      "176:\tlearn: 0.9379553\ttotal: 10.5s\tremaining: 1.37s\n",
      "177:\tlearn: 0.9379761\ttotal: 10.6s\tremaining: 1.31s\n",
      "178:\tlearn: 0.9381560\ttotal: 10.6s\tremaining: 1.25s\n",
      "179:\tlearn: 0.9382085\ttotal: 10.7s\tremaining: 1.19s\n",
      "180:\tlearn: 0.9382287\ttotal: 10.8s\tremaining: 1.13s\n",
      "181:\tlearn: 0.9382404\ttotal: 10.8s\tremaining: 1.07s\n",
      "182:\tlearn: 0.9383925\ttotal: 10.9s\tremaining: 1.01s\n",
      "183:\tlearn: 0.9385596\ttotal: 10.9s\tremaining: 950ms\n",
      "184:\tlearn: 0.9387954\ttotal: 11s\tremaining: 891ms\n",
      "185:\tlearn: 0.9388763\ttotal: 11s\tremaining: 832ms\n",
      "186:\tlearn: 0.9389216\ttotal: 11.1s\tremaining: 772ms\n",
      "187:\tlearn: 0.9389376\ttotal: 11.2s\tremaining: 713ms\n",
      "188:\tlearn: 0.9389967\ttotal: 11.2s\tremaining: 653ms\n",
      "189:\tlearn: 0.9391827\ttotal: 11.3s\tremaining: 594ms\n",
      "190:\tlearn: 0.9393702\ttotal: 11.3s\tremaining: 535ms\n",
      "191:\tlearn: 0.9393557\ttotal: 11.4s\tremaining: 475ms\n",
      "192:\tlearn: 0.9394317\ttotal: 11.5s\tremaining: 416ms\n",
      "193:\tlearn: 0.9395358\ttotal: 11.5s\tremaining: 356ms\n",
      "194:\tlearn: 0.9396118\ttotal: 11.6s\tremaining: 297ms\n",
      "195:\tlearn: 0.9396341\ttotal: 11.6s\tremaining: 238ms\n",
      "196:\tlearn: 0.9397038\ttotal: 11.7s\tremaining: 178ms\n",
      "197:\tlearn: 0.9396882\ttotal: 11.8s\tremaining: 119ms\n",
      "198:\tlearn: 0.9397677\ttotal: 11.8s\tremaining: 59.4ms\n",
      "199:\tlearn: 0.9398963\ttotal: 11.9s\tremaining: 0us\n"
     ]
    },
    {
     "data": {
      "text/plain": [
       "VotingClassifier(estimators=[('lr',\n",
       "                              LogisticRegression(C=10, solver='liblinear')),\n",
       "                             ('lgbm',\n",
       "                              LGBMClassifier(bagging_fraction=0.7108018770409114,\n",
       "                                             bagging_freq=7,\n",
       "                                             feature_fraction=0.8747075522206045,\n",
       "                                             is_unbalance='True',\n",
       "                                             lambda_l1=0.00109030836866613,\n",
       "                                             lambda_l2=4.6990889744943706e-05,\n",
       "                                             metric='auc', min_child_samples=43,\n",
       "                                             num_leaves=225,\n",
       "                                             objective='binary')),\n",
       "                             ('brf',...\n",
       "                                            max_depth=5, min_child_weight=100,\n",
       "                                            missing=nan,\n",
       "                                            monotone_constraints='()',\n",
       "                                            n_estimators=100, n_jobs=16,\n",
       "                                            num_parallel_tree=1, random_state=0,\n",
       "                                            reg_alpha=0, reg_lambda=1,\n",
       "                                            scale_pos_weight=1, subsample=1.0,\n",
       "                                            tree_method='exact',\n",
       "                                            use_label_encoder=False,\n",
       "                                            validate_parameters=1,\n",
       "                                            verbosity=None)),\n",
       "                             ('cat',\n",
       "                              <catboost.core.CatBoostClassifier object at 0x000001D57CECA1F0>)],\n",
       "                 voting='soft')"
      ]
     },
     "execution_count": 289,
     "metadata": {},
     "output_type": "execute_result"
    }
   ],
   "source": [
    "best_vote.fit(X_train_smote_1_selected, y_train_smote_1)"
   ]
  },
  {
   "cell_type": "code",
   "execution_count": 290,
   "metadata": {},
   "outputs": [
    {
     "name": "stdout",
     "output_type": "stream",
     "text": [
      "Base Model Result(Best Vote)\n",
      "accuracy: 0.912925\n",
      "precision: 0.0942761953357145\n",
      "recall: 0.40295060936497756\n",
      "f2: 0.2434996976603563\n"
     ]
    }
   ],
   "source": [
    "print_results(\"Base Model Result(Best Vote)\", y_train, best_vote.predict(X_train_selected))"
   ]
  },
  {
   "cell_type": "code",
   "execution_count": 301,
   "metadata": {},
   "outputs": [
    {
     "name": "stdout",
     "output_type": "stream",
     "text": [
      "Base Model Result(Best Vote)\n",
      "accuracy: 0.91162\n",
      "precision: 0.08899521531100478\n",
      "recall: 0.37843336724313326\n",
      "f2: 0.22928994082840234\n"
     ]
    }
   ],
   "source": [
    "print_results(\"Base Model Result(Best Vote)\", y_test, best_vote.predict(X_test_selected))"
   ]
  },
  {
   "cell_type": "code",
   "execution_count": 302,
   "metadata": {},
   "outputs": [
    {
     "data": {
      "image/png": "[encoded data removed]",
      "text/plain": [
       "<Figure size 576x432 with 1 Axes>"
      ]
     },
     "metadata": {
      "needs_background": "light"
     },
     "output_type": "display_data"
    }
   ],
   "source": [
    "plot_roc_curve(best_vote, X_test_selected, y_test)"
   ]
  },
  {
   "cell_type": "markdown",
   "metadata": {},
   "source": [
    "## Comparing Models\n",
    "\n",
    "Now we will compare all the models "
   ]
  },
  {
   "cell_type": "code",
   "execution_count": 312,
   "metadata": {},
   "outputs": [],
   "source": [
    "model_names= ['Logistic Regression', 'Random Forest', 'XGBoost', 'Light GBM', 'Catboost', 'Random Forest (undersample)', 'Neural Network', 'Voting']"
   ]
  },
  {
   "cell_type": "code",
   "execution_count": 298,
   "metadata": {},
   "outputs": [],
   "source": [
    "def get_auc(model, X_test, y_test):\n",
    "    y_prob= model.predict_proba(X_test)[:,1]\n",
    "    log_fpr, log_tpr, log_thresold = roc_curve(y_test, y_prob)\n",
    "    auc = sklearn.metrics.auc(log_fpr, log_tpr)\n",
    "    return auc"
   ]
  },
  {
   "cell_type": "code",
   "execution_count": 303,
   "metadata": {},
   "outputs": [],
   "source": [
    "acc_models= [accuracy_score(y_test, best_lg.predict(X_test_selected)),\n",
    "            accuracy_score(y_test, best_rf.predict(X_test_selected)),\n",
    "            accuracy_score(y_test, best_xgb.predict(X_test_selected)),\n",
    "            accuracy_score(y_test, best_lgbm_optuna.predict(X_test_selected)),\n",
    "            accuracy_score(y_test, best_cat.predict(X_test_selected)),\n",
    "            accuracy_score(y_test, best_brf.predict(X_test_selected)),\n",
    "            accuracy_score(y_test, y_pred_nn_2_act),\n",
    "            accuracy_score(y_test, best_vote.predict(X_test_selected))\n",
    "            ]"
   ]
  },
  {
   "cell_type": "code",
   "execution_count": 318,
   "metadata": {},
   "outputs": [],
   "source": [
    "prec_models= [precision_score(y_test, best_lg.predict(X_test_selected)),\n",
    "            precision_score(y_test, best_rf.predict(X_test_selected)),\n",
    "            precision_score(y_test, best_xgb.predict(X_test_selected)),\n",
    "            precision_score(y_test, best_lgbm_optuna.predict(X_test_selected)),\n",
    "            precision_score(y_test, best_cat.predict(X_test_selected)),\n",
    "            precision_score(y_test, best_brf.predict(X_test_selected)),\n",
    "            precision_score(y_test, y_pred_nn_2_act), precision_score(y_test, best_vote.predict(X_test_selected))]\n",
    "\n",
    "recall_models= [recall_score(y_test, best_lg.predict(X_test_selected)),\n",
    "            recall_score(y_test, best_rf.predict(X_test_selected)),\n",
    "            recall_score(y_test, best_xgb.predict(X_test_selected)),\n",
    "            recall_score(y_test, best_lgbm_optuna.predict(X_test_selected)),\n",
    "            recall_score(y_test, best_cat.predict(X_test_selected)),\n",
    "            recall_score(y_test, best_brf.predict(X_test_selected)),\n",
    "            recall_score(y_test, y_pred_nn_2_act), recall_score(y_test, best_vote.predict(X_test_selected))]\n",
    "\n",
    "f2_models= [fbeta_score(y_test, best_lg.predict(X_test_selected), beta=2),\n",
    "            fbeta_score(y_test, best_rf.predict(X_test_selected), beta=2),\n",
    "            fbeta_score(y_test, best_xgb.predict(X_test_selected), beta=2),\n",
    "            fbeta_score(y_test, best_lgbm_optuna.predict(X_test_selected), beta=2),\n",
    "            fbeta_score(y_test, best_cat.predict(X_test_selected), beta=2),\n",
    "            fbeta_score(y_test, best_brf.predict(X_test_selected), beta=2),\n",
    "            fbeta_score(y_test, y_pred_nn_2_act, beta=2),fbeta_score(y_test, best_vote.predict(X_test_selected), beta=2)]"
   ]
  },
  {
   "cell_type": "code",
   "execution_count": 341,
   "metadata": {},
   "outputs": [],
   "source": [
    "auc_models= [get_auc(best_lg,X_test_selected, y_test),\n",
    "           get_auc(best_rf,X_test_selected, y_test),\n",
    "           get_auc(best_xgb,X_test_selected, y_test),\n",
    "           get_auc(best_lgbm,X_test_selected, y_test),\n",
    "           get_auc(best_cat,X_test_selected, y_test),\n",
    "           get_auc(best_brf,X_test_selected, y_test), 0.81,get_auc(best_vote,X_test_selected, y_test) ]"
   ]
  },
  {
   "cell_type": "code",
   "execution_count": 342,
   "metadata": {},
   "outputs": [
    {
     "data": {
      "image/png": "[encoded data removed]",
      "text/plain": [
       "<Figure size 1440x1008 with 1 Axes>"
      ]
     },
     "metadata": {
      "needs_background": "light"
     },
     "output_type": "display_data"
    }
   ],
   "source": [
    "plt.figure(figsize=(20,14))\n",
    "#title_1= (\"Model Comparison\")\n",
    "#plt.title(title_1, fontsize=16)\n",
    "plt.bar(X_axis - 0.1, acc_models, 0.1, label = 'Accuracy')\n",
    "plt.bar(X_axis, prec_models, 0.1, label = 'Precision')\n",
    "plt.bar(X_axis + 0.1, recall_models, 0.1, label = 'Recall')\n",
    "plt.bar(X_axis + 0.2, f2_models, 0.1, label = 'F2')\n",
    "plt.bar(X_axis +0.3, auc_models, 0.1, label = 'AUC')\n",
    "  \n",
    "plt.xticks(X_axis, model_names)\n",
    "plt.xlabel(\"Model\")\n",
    "plt.ylabel(\"\")\n",
    "plt.title(\"Model Comparison\")\n",
    "plt.legend()\n",
    "plt.show()"
   ]
  },
  {
   "cell_type": "markdown",
   "metadata": {},
   "source": [
    "After comparing all the models, Neural Networks mostly performed better than all, although Voting and Random Forest came to be pretty close. Rest of all the models performed average"
   ]
  },
  {
   "cell_type": "markdown",
   "metadata": {},
   "source": [
    "## The Max AUC score is 0.812"
   ]
  },
  {
   "cell_type": "markdown",
   "metadata": {},
   "source": [
    "### Saving Models and Scalers"
   ]
  },
  {
   "cell_type": "code",
   "execution_count": 343,
   "metadata": {},
   "outputs": [],
   "source": [
    "import pickle"
   ]
  },
  {
   "cell_type": "code",
   "execution_count": 344,
   "metadata": {},
   "outputs": [],
   "source": [
    "pickle.dump(best_lg, open('Logistic.sav', 'wb'))\n",
    "pickle.dump(best_cat, open('catboost.sav', 'wb'))\n",
    "pickle.dump(best_brf, open('B_rf.sav', 'wb'))\n",
    "pickle.dump(best_lgbm_optuna, open('LGBM.sav', 'wb'))\n",
    "pickle.dump(best_rf, open('rf.sav', 'wb'))\n",
    "pickle.dump(best_xgb, open('XGB.sav', 'wb'))\n",
    "pickle.dump(best_vote, open('vote.sav', 'wb'))"
   ]
  },
  {
   "cell_type": "code",
   "execution_count": 346,
   "metadata": {},
   "outputs": [],
   "source": [
    "pickle.dump(scaler_9, open('scaler_9.sav', 'wb'))\n",
    "pickle.dump(scaler_10, open('scaler_10.sav', 'wb'))\n",
    "pickle.dump(scaler_51, open('scaler_51.sav', 'wb'))\n",
    "pickle.dump(scaler_54, open('scaler_54.sav', 'wb'))"
   ]
  },
  {
   "cell_type": "code",
   "execution_count": null,
   "metadata": {},
   "outputs": [],
   "source": []
  }
 ],
 "metadata": {
  "kernelspec": {
   "display_name": "Python 3",
   "language": "python",
   "name": "python3"
  },
  "language_info": {
   "codemirror_mode": {
    "name": "ipython",
    "version": 3
   },
   "file_extension": ".py",
   "mimetype": "text/x-python",
   "name": "python",
   "nbconvert_exporter": "python",
   "pygments_lexer": "ipython3",
   "version": "3.7.3"
  }
 },
 "nbformat": 4,
 "nbformat_minor": 2
}
